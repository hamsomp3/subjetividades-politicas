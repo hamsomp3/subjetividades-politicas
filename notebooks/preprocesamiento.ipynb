{
 "cells": [
  {
   "cell_type": "markdown",
   "metadata": {},
   "source": [
    "# Import Libraries"
   ]
  },
  {
   "cell_type": "code",
   "execution_count": 1,
   "metadata": {},
   "outputs": [],
   "source": [
    "import pandas as pd\n",
    "import pathlib as pl\n",
    "import plotly.express as px\n",
    "import folium\n",
    "from sklearn.preprocessing import LabelEncoder as LE\n",
    "import numpy as np\n",
    "import seaborn as sns\n",
    "import matplotlib.pyplot as plt"
   ]
  },
  {
   "cell_type": "code",
   "execution_count": 2,
   "metadata": {},
   "outputs": [],
   "source": [
    "def create_output_directories(base_path):\n",
    "    \"\"\"\n",
    "    Creates necessary output directories for data img and notebooks.\n",
    "    \"\"\"\n",
    "    \n",
    "    folders_to_create = ['data','img','notebooks']\n",
    "    \n",
    "    list_of_folders = []\n",
    "    \n",
    "    for main_folder in folders_to_create:\n",
    "            folder_path = base_path.joinpath(main_folder)\n",
    "            folder_path.mkdir(parents=True, exist_ok=True)\n",
    "            list_of_folders.append(folder_path)\n",
    "    \n",
    "    return list_of_folders"
   ]
  },
  {
   "cell_type": "code",
   "execution_count": 3,
   "metadata": {},
   "outputs": [],
   "source": [
    "def create_data_directories(base_path):\n",
    "    \"\"\"\n",
    "    Creates necessary output directories for data img and notebooks.\n",
    "    \"\"\"\n",
    "    \n",
    "    folders_to_create = ['raw','processed']\n",
    "    \n",
    "    list_of_folders = []\n",
    "    \n",
    "    for main_folder in folders_to_create:\n",
    "            folder_path = base_path.joinpath(main_folder)\n",
    "            folder_path.mkdir(parents=True, exist_ok=True)\n",
    "            list_of_folders.append(folder_path)\n",
    "    \n",
    "    return list_of_folders"
   ]
  },
  {
   "cell_type": "code",
   "execution_count": 4,
   "metadata": {},
   "outputs": [
    {
     "name": "stdout",
     "output_type": "stream",
     "text": [
      "[WindowsPath('d:/Repositorios/Vanessa - subjetividades/subjetividades-politicas/data/raw/Extremismo.xlsx')]\n"
     ]
    }
   ],
   "source": [
    "current_path    = pl.Path.cwd().parent\n",
    "output_folders  = create_output_directories(current_path)\n",
    "data_folders    = create_data_directories(output_folders[0])\n",
    "docs_list       = list(data_folders[0].glob('*.xlsx'))\n",
    "print(docs_list)    "
   ]
  },
  {
   "cell_type": "markdown",
   "metadata": {},
   "source": [
    "# Import the dataset"
   ]
  },
  {
   "cell_type": "code",
   "execution_count": 5,
   "metadata": {},
   "outputs": [
    {
     "name": "stderr",
     "output_type": "stream",
     "text": [
      "d:\\Repositorios\\Vanessa - subjetividades\\subjetividades-politicas\\.venv\\Lib\\site-packages\\openpyxl\\styles\\stylesheet.py:226: UserWarning: Workbook contains no default style, apply openpyxl's default\n",
      "  warn(\"Workbook contains no default style, apply openpyxl's default\")\n"
     ]
    },
    {
     "data": {
      "text/html": [
       "<div>\n",
       "<style scoped>\n",
       "    .dataframe tbody tr th:only-of-type {\n",
       "        vertical-align: middle;\n",
       "    }\n",
       "\n",
       "    .dataframe tbody tr th {\n",
       "        vertical-align: top;\n",
       "    }\n",
       "\n",
       "    .dataframe thead th {\n",
       "        text-align: right;\n",
       "    }\n",
       "</style>\n",
       "<table border=\"1\" class=\"dataframe\">\n",
       "  <thead>\n",
       "    <tr style=\"text-align: right;\">\n",
       "      <th></th>\n",
       "      <th>StartDate</th>\n",
       "      <th>EndDate</th>\n",
       "      <th>Status</th>\n",
       "      <th>IPAddress</th>\n",
       "      <th>Progress</th>\n",
       "      <th>Duration (in seconds)</th>\n",
       "      <th>Finished</th>\n",
       "      <th>RecordedDate</th>\n",
       "      <th>ResponseId</th>\n",
       "      <th>RecipientLastName</th>\n",
       "      <th>...</th>\n",
       "      <th>Q78_2</th>\n",
       "      <th>Q78_3</th>\n",
       "      <th>Q78_4</th>\n",
       "      <th>Deshum_1</th>\n",
       "      <th>Deshum_2</th>\n",
       "      <th>Deshum_3</th>\n",
       "      <th>Q63</th>\n",
       "      <th>Q64</th>\n",
       "      <th>Q64_5_TEXT</th>\n",
       "      <th>Q78</th>\n",
       "    </tr>\n",
       "  </thead>\n",
       "  <tbody>\n",
       "    <tr>\n",
       "      <th>1</th>\n",
       "      <td>2023-01-23 12:49:34</td>\n",
       "      <td>2023-01-23 13:11:29</td>\n",
       "      <td>IP Address</td>\n",
       "      <td>200.3.144.7</td>\n",
       "      <td>100</td>\n",
       "      <td>1314</td>\n",
       "      <td>True</td>\n",
       "      <td>2023-01-23 13:11:31.154000</td>\n",
       "      <td>R_1mIsUivDPG5uKUQ</td>\n",
       "      <td>NaN</td>\n",
       "      <td>...</td>\n",
       "      <td>NaN</td>\n",
       "      <td>NaN</td>\n",
       "      <td>NaN</td>\n",
       "      <td>74</td>\n",
       "      <td>74</td>\n",
       "      <td>100</td>\n",
       "      <td>Gustavo Petro</td>\n",
       "      <td>Gustavo Petro</td>\n",
       "      <td>NaN</td>\n",
       "      <td>NaN</td>\n",
       "    </tr>\n",
       "    <tr>\n",
       "      <th>2</th>\n",
       "      <td>2023-01-23 12:49:48</td>\n",
       "      <td>2023-01-23 13:11:42</td>\n",
       "      <td>IP Address</td>\n",
       "      <td>179.19.50.39</td>\n",
       "      <td>100</td>\n",
       "      <td>1314</td>\n",
       "      <td>True</td>\n",
       "      <td>2023-01-23 13:11:43.743000</td>\n",
       "      <td>R_1ApG86q8OuiAnmh</td>\n",
       "      <td>NaN</td>\n",
       "      <td>...</td>\n",
       "      <td>NaN</td>\n",
       "      <td>NaN</td>\n",
       "      <td>NaN</td>\n",
       "      <td>100</td>\n",
       "      <td>100</td>\n",
       "      <td>100</td>\n",
       "      <td>Sergio Fajardo</td>\n",
       "      <td>Sergio Fajardo</td>\n",
       "      <td>NaN</td>\n",
       "      <td>NaN</td>\n",
       "    </tr>\n",
       "    <tr>\n",
       "      <th>3</th>\n",
       "      <td>2023-01-23 12:49:31</td>\n",
       "      <td>2023-01-23 13:11:51</td>\n",
       "      <td>IP Address</td>\n",
       "      <td>191.106.213.33</td>\n",
       "      <td>100</td>\n",
       "      <td>1339</td>\n",
       "      <td>True</td>\n",
       "      <td>2023-01-23 13:11:52.442000</td>\n",
       "      <td>R_2yeGOP3ujdRCNoW</td>\n",
       "      <td>NaN</td>\n",
       "      <td>...</td>\n",
       "      <td>NaN</td>\n",
       "      <td>NaN</td>\n",
       "      <td>NaN</td>\n",
       "      <td>40</td>\n",
       "      <td>80</td>\n",
       "      <td>90</td>\n",
       "      <td>Gustavo Petro</td>\n",
       "      <td>Gustavo Petro</td>\n",
       "      <td>NaN</td>\n",
       "      <td>NaN</td>\n",
       "    </tr>\n",
       "    <tr>\n",
       "      <th>4</th>\n",
       "      <td>2023-01-23 12:49:29</td>\n",
       "      <td>2023-01-23 13:12:13</td>\n",
       "      <td>IP Address</td>\n",
       "      <td>191.95.42.229</td>\n",
       "      <td>100</td>\n",
       "      <td>1363</td>\n",
       "      <td>True</td>\n",
       "      <td>2023-01-23 13:12:14.331000</td>\n",
       "      <td>R_Z4C1CcmO4uRFfkB</td>\n",
       "      <td>NaN</td>\n",
       "      <td>...</td>\n",
       "      <td>NaN</td>\n",
       "      <td>NaN</td>\n",
       "      <td>NaN</td>\n",
       "      <td>65</td>\n",
       "      <td>65</td>\n",
       "      <td>50</td>\n",
       "      <td>Gustavo Petro</td>\n",
       "      <td>No votaría</td>\n",
       "      <td>NaN</td>\n",
       "      <td>NaN</td>\n",
       "    </tr>\n",
       "    <tr>\n",
       "      <th>5</th>\n",
       "      <td>2023-01-23 17:46:20</td>\n",
       "      <td>2023-01-23 18:00:18</td>\n",
       "      <td>IP Address</td>\n",
       "      <td>201.221.176.33</td>\n",
       "      <td>100</td>\n",
       "      <td>838</td>\n",
       "      <td>True</td>\n",
       "      <td>2023-01-23 18:00:19.279000</td>\n",
       "      <td>R_3Wa3NbYxLI2Do65</td>\n",
       "      <td>NaN</td>\n",
       "      <td>...</td>\n",
       "      <td>NaN</td>\n",
       "      <td>NaN</td>\n",
       "      <td>NaN</td>\n",
       "      <td>20</td>\n",
       "      <td>100</td>\n",
       "      <td>46</td>\n",
       "      <td>NaN</td>\n",
       "      <td>NaN</td>\n",
       "      <td>NaN</td>\n",
       "      <td>NaN</td>\n",
       "    </tr>\n",
       "  </tbody>\n",
       "</table>\n",
       "<p>5 rows × 157 columns</p>\n",
       "</div>"
      ],
      "text/plain": [
       "             StartDate              EndDate      Status       IPAddress  \\\n",
       "1  2023-01-23 12:49:34  2023-01-23 13:11:29  IP Address     200.3.144.7   \n",
       "2  2023-01-23 12:49:48  2023-01-23 13:11:42  IP Address    179.19.50.39   \n",
       "3  2023-01-23 12:49:31  2023-01-23 13:11:51  IP Address  191.106.213.33   \n",
       "4  2023-01-23 12:49:29  2023-01-23 13:12:13  IP Address   191.95.42.229   \n",
       "5  2023-01-23 17:46:20  2023-01-23 18:00:18  IP Address  201.221.176.33   \n",
       "\n",
       "  Progress Duration (in seconds) Finished                RecordedDate  \\\n",
       "1      100                  1314     True  2023-01-23 13:11:31.154000   \n",
       "2      100                  1314     True  2023-01-23 13:11:43.743000   \n",
       "3      100                  1339     True  2023-01-23 13:11:52.442000   \n",
       "4      100                  1363     True  2023-01-23 13:12:14.331000   \n",
       "5      100                   838     True  2023-01-23 18:00:19.279000   \n",
       "\n",
       "          ResponseId RecipientLastName  ... Q78_2 Q78_3 Q78_4 Deshum_1  \\\n",
       "1  R_1mIsUivDPG5uKUQ               NaN  ...   NaN   NaN   NaN       74   \n",
       "2  R_1ApG86q8OuiAnmh               NaN  ...   NaN   NaN   NaN      100   \n",
       "3  R_2yeGOP3ujdRCNoW               NaN  ...   NaN   NaN   NaN       40   \n",
       "4  R_Z4C1CcmO4uRFfkB               NaN  ...   NaN   NaN   NaN       65   \n",
       "5  R_3Wa3NbYxLI2Do65               NaN  ...   NaN   NaN   NaN       20   \n",
       "\n",
       "  Deshum_2 Deshum_3             Q63             Q64 Q64_5_TEXT  Q78  \n",
       "1       74      100   Gustavo Petro   Gustavo Petro        NaN  NaN  \n",
       "2      100      100  Sergio Fajardo  Sergio Fajardo        NaN  NaN  \n",
       "3       80       90   Gustavo Petro   Gustavo Petro        NaN  NaN  \n",
       "4       65       50   Gustavo Petro      No votaría        NaN  NaN  \n",
       "5      100       46             NaN             NaN        NaN  NaN  \n",
       "\n",
       "[5 rows x 157 columns]"
      ]
     },
     "execution_count": 5,
     "metadata": {},
     "output_type": "execute_result"
    }
   ],
   "source": [
    "df                  = pd.read_excel(docs_list[0], sheet_name='Sheet0')\n",
    "full_size_df_1      = df.shape[0]           # get the number of rows in the dataframe\n",
    "full_size_df_col    = df.shape[1]           # get the number of columns in the dataframe\n",
    "df                  = df.drop(0, axis=0)    # delete the first row\n",
    "\n",
    "df.head()\n"
   ]
  },
  {
   "cell_type": "markdown",
   "metadata": {},
   "source": [
    "## Codes "
   ]
  },
  {
   "cell_type": "code",
   "execution_count": 6,
   "metadata": {},
   "outputs": [],
   "source": [
    "JenniferCali = df[df['Sex_3_TEXT'] == 'JenniferCali(00008909547)'].index\n",
    "df.loc[JenniferCali, 'Q78'] = '00008909547-JAVCALI'\n",
    "\n",
    "codigo1  = df[df['Q69'] == '00008909547'].index\n",
    "df.loc[codigo1, 'Q78'] = '00008909547-JAVCALI'\n",
    "df.loc[codigo1, 'Q69'] = 'CALI'"
   ]
  },
  {
   "cell_type": "code",
   "execution_count": 7,
   "metadata": {},
   "outputs": [],
   "source": [
    "df['Duration (in seconds)'] = pd.to_numeric(df['Duration (in seconds)'], errors='coerce')\n",
    "df['NormSoc_1']             = pd.to_numeric(df['NormSoc_1'], errors='coerce')\n",
    "df['NormSoc_2']             = pd.to_numeric(df['NormSoc_2'], errors='coerce')\n",
    "df['NormSoc_3']             = pd.to_numeric(df['NormSoc_3'], errors='coerce')\n",
    "df['NormSoc_4']             = pd.to_numeric(df['NormSoc_4'], errors='coerce')\n",
    "df['NormSoc_5']             = pd.to_numeric(df['NormSoc_5'], errors='coerce')\n",
    "df['Deshum_1']              = pd.to_numeric(df['Deshum_1'], errors='coerce')\n",
    "df['Deshum_2']              = pd.to_numeric(df['Deshum_2'], errors='coerce')\n",
    "df['Deshum_3']              = pd.to_numeric(df['Deshum_3'], errors='coerce')"
   ]
  },
  {
   "cell_type": "markdown",
   "metadata": {},
   "source": [
    "## Column Minutes: The amount of time in minutes the user spent on the survey"
   ]
  },
  {
   "cell_type": "code",
   "execution_count": 8,
   "metadata": {},
   "outputs": [],
   "source": [
    "df['Duration in minutes'] = df['Duration (in seconds)']/60"
   ]
  },
  {
   "cell_type": "markdown",
   "metadata": {},
   "source": [
    "## Column time_per_question: The amount of time in minutes the user spent on each question"
   ]
  },
  {
   "cell_type": "code",
   "execution_count": 9,
   "metadata": {},
   "outputs": [
    {
     "data": {
      "text/html": [
       "<div>\n",
       "<style scoped>\n",
       "    .dataframe tbody tr th:only-of-type {\n",
       "        vertical-align: middle;\n",
       "    }\n",
       "\n",
       "    .dataframe tbody tr th {\n",
       "        vertical-align: top;\n",
       "    }\n",
       "\n",
       "    .dataframe thead th {\n",
       "        text-align: right;\n",
       "    }\n",
       "</style>\n",
       "<table border=\"1\" class=\"dataframe\">\n",
       "  <thead>\n",
       "    <tr style=\"text-align: right;\">\n",
       "      <th></th>\n",
       "      <th>StartDate</th>\n",
       "      <th>EndDate</th>\n",
       "      <th>Status</th>\n",
       "      <th>IPAddress</th>\n",
       "      <th>Progress</th>\n",
       "      <th>Duration (in seconds)</th>\n",
       "      <th>Finished</th>\n",
       "      <th>RecordedDate</th>\n",
       "      <th>ResponseId</th>\n",
       "      <th>RecipientLastName</th>\n",
       "      <th>...</th>\n",
       "      <th>Q78_4</th>\n",
       "      <th>Deshum_1</th>\n",
       "      <th>Deshum_2</th>\n",
       "      <th>Deshum_3</th>\n",
       "      <th>Q63</th>\n",
       "      <th>Q64</th>\n",
       "      <th>Q64_5_TEXT</th>\n",
       "      <th>Q78</th>\n",
       "      <th>Duration in minutes</th>\n",
       "      <th>minutes_per_question</th>\n",
       "    </tr>\n",
       "  </thead>\n",
       "  <tbody>\n",
       "    <tr>\n",
       "      <th>1</th>\n",
       "      <td>2023-01-23 12:49:34</td>\n",
       "      <td>2023-01-23 13:11:29</td>\n",
       "      <td>IP Address</td>\n",
       "      <td>200.3.144.7</td>\n",
       "      <td>100</td>\n",
       "      <td>1314</td>\n",
       "      <td>True</td>\n",
       "      <td>2023-01-23 13:11:31.154000</td>\n",
       "      <td>R_1mIsUivDPG5uKUQ</td>\n",
       "      <td>NaN</td>\n",
       "      <td>...</td>\n",
       "      <td>NaN</td>\n",
       "      <td>74.0</td>\n",
       "      <td>74.0</td>\n",
       "      <td>100.0</td>\n",
       "      <td>Gustavo Petro</td>\n",
       "      <td>Gustavo Petro</td>\n",
       "      <td>NaN</td>\n",
       "      <td>NaN</td>\n",
       "      <td>21.900000</td>\n",
       "      <td>8.369427</td>\n",
       "    </tr>\n",
       "    <tr>\n",
       "      <th>2</th>\n",
       "      <td>2023-01-23 12:49:48</td>\n",
       "      <td>2023-01-23 13:11:42</td>\n",
       "      <td>IP Address</td>\n",
       "      <td>179.19.50.39</td>\n",
       "      <td>100</td>\n",
       "      <td>1314</td>\n",
       "      <td>True</td>\n",
       "      <td>2023-01-23 13:11:43.743000</td>\n",
       "      <td>R_1ApG86q8OuiAnmh</td>\n",
       "      <td>NaN</td>\n",
       "      <td>...</td>\n",
       "      <td>NaN</td>\n",
       "      <td>100.0</td>\n",
       "      <td>100.0</td>\n",
       "      <td>100.0</td>\n",
       "      <td>Sergio Fajardo</td>\n",
       "      <td>Sergio Fajardo</td>\n",
       "      <td>NaN</td>\n",
       "      <td>NaN</td>\n",
       "      <td>21.900000</td>\n",
       "      <td>8.369427</td>\n",
       "    </tr>\n",
       "    <tr>\n",
       "      <th>3</th>\n",
       "      <td>2023-01-23 12:49:31</td>\n",
       "      <td>2023-01-23 13:11:51</td>\n",
       "      <td>IP Address</td>\n",
       "      <td>191.106.213.33</td>\n",
       "      <td>100</td>\n",
       "      <td>1339</td>\n",
       "      <td>True</td>\n",
       "      <td>2023-01-23 13:11:52.442000</td>\n",
       "      <td>R_2yeGOP3ujdRCNoW</td>\n",
       "      <td>NaN</td>\n",
       "      <td>...</td>\n",
       "      <td>NaN</td>\n",
       "      <td>40.0</td>\n",
       "      <td>80.0</td>\n",
       "      <td>90.0</td>\n",
       "      <td>Gustavo Petro</td>\n",
       "      <td>Gustavo Petro</td>\n",
       "      <td>NaN</td>\n",
       "      <td>NaN</td>\n",
       "      <td>22.316667</td>\n",
       "      <td>8.528662</td>\n",
       "    </tr>\n",
       "    <tr>\n",
       "      <th>4</th>\n",
       "      <td>2023-01-23 12:49:29</td>\n",
       "      <td>2023-01-23 13:12:13</td>\n",
       "      <td>IP Address</td>\n",
       "      <td>191.95.42.229</td>\n",
       "      <td>100</td>\n",
       "      <td>1363</td>\n",
       "      <td>True</td>\n",
       "      <td>2023-01-23 13:12:14.331000</td>\n",
       "      <td>R_Z4C1CcmO4uRFfkB</td>\n",
       "      <td>NaN</td>\n",
       "      <td>...</td>\n",
       "      <td>NaN</td>\n",
       "      <td>65.0</td>\n",
       "      <td>65.0</td>\n",
       "      <td>50.0</td>\n",
       "      <td>Gustavo Petro</td>\n",
       "      <td>No votaría</td>\n",
       "      <td>NaN</td>\n",
       "      <td>NaN</td>\n",
       "      <td>22.716667</td>\n",
       "      <td>8.681529</td>\n",
       "    </tr>\n",
       "    <tr>\n",
       "      <th>5</th>\n",
       "      <td>2023-01-23 17:46:20</td>\n",
       "      <td>2023-01-23 18:00:18</td>\n",
       "      <td>IP Address</td>\n",
       "      <td>201.221.176.33</td>\n",
       "      <td>100</td>\n",
       "      <td>838</td>\n",
       "      <td>True</td>\n",
       "      <td>2023-01-23 18:00:19.279000</td>\n",
       "      <td>R_3Wa3NbYxLI2Do65</td>\n",
       "      <td>NaN</td>\n",
       "      <td>...</td>\n",
       "      <td>NaN</td>\n",
       "      <td>20.0</td>\n",
       "      <td>100.0</td>\n",
       "      <td>46.0</td>\n",
       "      <td>NaN</td>\n",
       "      <td>NaN</td>\n",
       "      <td>NaN</td>\n",
       "      <td>NaN</td>\n",
       "      <td>13.966667</td>\n",
       "      <td>5.337580</td>\n",
       "    </tr>\n",
       "  </tbody>\n",
       "</table>\n",
       "<p>5 rows × 159 columns</p>\n",
       "</div>"
      ],
      "text/plain": [
       "             StartDate              EndDate      Status       IPAddress  \\\n",
       "1  2023-01-23 12:49:34  2023-01-23 13:11:29  IP Address     200.3.144.7   \n",
       "2  2023-01-23 12:49:48  2023-01-23 13:11:42  IP Address    179.19.50.39   \n",
       "3  2023-01-23 12:49:31  2023-01-23 13:11:51  IP Address  191.106.213.33   \n",
       "4  2023-01-23 12:49:29  2023-01-23 13:12:13  IP Address   191.95.42.229   \n",
       "5  2023-01-23 17:46:20  2023-01-23 18:00:18  IP Address  201.221.176.33   \n",
       "\n",
       "  Progress  Duration (in seconds) Finished                RecordedDate  \\\n",
       "1      100                   1314     True  2023-01-23 13:11:31.154000   \n",
       "2      100                   1314     True  2023-01-23 13:11:43.743000   \n",
       "3      100                   1339     True  2023-01-23 13:11:52.442000   \n",
       "4      100                   1363     True  2023-01-23 13:12:14.331000   \n",
       "5      100                    838     True  2023-01-23 18:00:19.279000   \n",
       "\n",
       "          ResponseId RecipientLastName  ... Q78_4 Deshum_1 Deshum_2 Deshum_3  \\\n",
       "1  R_1mIsUivDPG5uKUQ               NaN  ...   NaN     74.0     74.0    100.0   \n",
       "2  R_1ApG86q8OuiAnmh               NaN  ...   NaN    100.0    100.0    100.0   \n",
       "3  R_2yeGOP3ujdRCNoW               NaN  ...   NaN     40.0     80.0     90.0   \n",
       "4  R_Z4C1CcmO4uRFfkB               NaN  ...   NaN     65.0     65.0     50.0   \n",
       "5  R_3Wa3NbYxLI2Do65               NaN  ...   NaN     20.0    100.0     46.0   \n",
       "\n",
       "              Q63             Q64 Q64_5_TEXT  Q78 Duration in minutes  \\\n",
       "1   Gustavo Petro   Gustavo Petro        NaN  NaN           21.900000   \n",
       "2  Sergio Fajardo  Sergio Fajardo        NaN  NaN           21.900000   \n",
       "3   Gustavo Petro   Gustavo Petro        NaN  NaN           22.316667   \n",
       "4   Gustavo Petro      No votaría        NaN  NaN           22.716667   \n",
       "5             NaN             NaN        NaN  NaN           13.966667   \n",
       "\n",
       "  minutes_per_question  \n",
       "1             8.369427  \n",
       "2             8.369427  \n",
       "3             8.528662  \n",
       "4             8.681529  \n",
       "5             5.337580  \n",
       "\n",
       "[5 rows x 159 columns]"
      ]
     },
     "execution_count": 9,
     "metadata": {},
     "output_type": "execute_result"
    }
   ],
   "source": [
    "df['minutes_per_question'] = df['Duration (in seconds)']/full_size_df_col\n",
    "df.head()"
   ]
  },
  {
   "cell_type": "markdown",
   "metadata": {},
   "source": [
    "## 1st Filter remove the rows with False values in Finished\tcolumn"
   ]
  },
  {
   "cell_type": "code",
   "execution_count": 10,
   "metadata": {},
   "outputs": [
    {
     "data": {
      "text/html": [
       "<div>\n",
       "<style scoped>\n",
       "    .dataframe tbody tr th:only-of-type {\n",
       "        vertical-align: middle;\n",
       "    }\n",
       "\n",
       "    .dataframe tbody tr th {\n",
       "        vertical-align: top;\n",
       "    }\n",
       "\n",
       "    .dataframe thead th {\n",
       "        text-align: right;\n",
       "    }\n",
       "</style>\n",
       "<table border=\"1\" class=\"dataframe\">\n",
       "  <thead>\n",
       "    <tr style=\"text-align: right;\">\n",
       "      <th></th>\n",
       "      <th>StartDate</th>\n",
       "      <th>EndDate</th>\n",
       "      <th>Status</th>\n",
       "      <th>IPAddress</th>\n",
       "      <th>Progress</th>\n",
       "      <th>Duration (in seconds)</th>\n",
       "      <th>Finished</th>\n",
       "      <th>RecordedDate</th>\n",
       "      <th>ResponseId</th>\n",
       "      <th>RecipientLastName</th>\n",
       "      <th>...</th>\n",
       "      <th>Q78_4</th>\n",
       "      <th>Deshum_1</th>\n",
       "      <th>Deshum_2</th>\n",
       "      <th>Deshum_3</th>\n",
       "      <th>Q63</th>\n",
       "      <th>Q64</th>\n",
       "      <th>Q64_5_TEXT</th>\n",
       "      <th>Q78</th>\n",
       "      <th>Duration in minutes</th>\n",
       "      <th>minutes_per_question</th>\n",
       "    </tr>\n",
       "  </thead>\n",
       "  <tbody>\n",
       "    <tr>\n",
       "      <th>1</th>\n",
       "      <td>2023-01-23 12:49:34</td>\n",
       "      <td>2023-01-23 13:11:29</td>\n",
       "      <td>IP Address</td>\n",
       "      <td>200.3.144.7</td>\n",
       "      <td>100</td>\n",
       "      <td>1314</td>\n",
       "      <td>True</td>\n",
       "      <td>2023-01-23 13:11:31.154000</td>\n",
       "      <td>R_1mIsUivDPG5uKUQ</td>\n",
       "      <td>NaN</td>\n",
       "      <td>...</td>\n",
       "      <td>NaN</td>\n",
       "      <td>74.0</td>\n",
       "      <td>74.0</td>\n",
       "      <td>100.0</td>\n",
       "      <td>Gustavo Petro</td>\n",
       "      <td>Gustavo Petro</td>\n",
       "      <td>NaN</td>\n",
       "      <td>NaN</td>\n",
       "      <td>21.900000</td>\n",
       "      <td>8.369427</td>\n",
       "    </tr>\n",
       "    <tr>\n",
       "      <th>2</th>\n",
       "      <td>2023-01-23 12:49:48</td>\n",
       "      <td>2023-01-23 13:11:42</td>\n",
       "      <td>IP Address</td>\n",
       "      <td>179.19.50.39</td>\n",
       "      <td>100</td>\n",
       "      <td>1314</td>\n",
       "      <td>True</td>\n",
       "      <td>2023-01-23 13:11:43.743000</td>\n",
       "      <td>R_1ApG86q8OuiAnmh</td>\n",
       "      <td>NaN</td>\n",
       "      <td>...</td>\n",
       "      <td>NaN</td>\n",
       "      <td>100.0</td>\n",
       "      <td>100.0</td>\n",
       "      <td>100.0</td>\n",
       "      <td>Sergio Fajardo</td>\n",
       "      <td>Sergio Fajardo</td>\n",
       "      <td>NaN</td>\n",
       "      <td>NaN</td>\n",
       "      <td>21.900000</td>\n",
       "      <td>8.369427</td>\n",
       "    </tr>\n",
       "    <tr>\n",
       "      <th>3</th>\n",
       "      <td>2023-01-23 12:49:31</td>\n",
       "      <td>2023-01-23 13:11:51</td>\n",
       "      <td>IP Address</td>\n",
       "      <td>191.106.213.33</td>\n",
       "      <td>100</td>\n",
       "      <td>1339</td>\n",
       "      <td>True</td>\n",
       "      <td>2023-01-23 13:11:52.442000</td>\n",
       "      <td>R_2yeGOP3ujdRCNoW</td>\n",
       "      <td>NaN</td>\n",
       "      <td>...</td>\n",
       "      <td>NaN</td>\n",
       "      <td>40.0</td>\n",
       "      <td>80.0</td>\n",
       "      <td>90.0</td>\n",
       "      <td>Gustavo Petro</td>\n",
       "      <td>Gustavo Petro</td>\n",
       "      <td>NaN</td>\n",
       "      <td>NaN</td>\n",
       "      <td>22.316667</td>\n",
       "      <td>8.528662</td>\n",
       "    </tr>\n",
       "    <tr>\n",
       "      <th>4</th>\n",
       "      <td>2023-01-23 12:49:29</td>\n",
       "      <td>2023-01-23 13:12:13</td>\n",
       "      <td>IP Address</td>\n",
       "      <td>191.95.42.229</td>\n",
       "      <td>100</td>\n",
       "      <td>1363</td>\n",
       "      <td>True</td>\n",
       "      <td>2023-01-23 13:12:14.331000</td>\n",
       "      <td>R_Z4C1CcmO4uRFfkB</td>\n",
       "      <td>NaN</td>\n",
       "      <td>...</td>\n",
       "      <td>NaN</td>\n",
       "      <td>65.0</td>\n",
       "      <td>65.0</td>\n",
       "      <td>50.0</td>\n",
       "      <td>Gustavo Petro</td>\n",
       "      <td>No votaría</td>\n",
       "      <td>NaN</td>\n",
       "      <td>NaN</td>\n",
       "      <td>22.716667</td>\n",
       "      <td>8.681529</td>\n",
       "    </tr>\n",
       "    <tr>\n",
       "      <th>5</th>\n",
       "      <td>2023-01-23 17:46:20</td>\n",
       "      <td>2023-01-23 18:00:18</td>\n",
       "      <td>IP Address</td>\n",
       "      <td>201.221.176.33</td>\n",
       "      <td>100</td>\n",
       "      <td>838</td>\n",
       "      <td>True</td>\n",
       "      <td>2023-01-23 18:00:19.279000</td>\n",
       "      <td>R_3Wa3NbYxLI2Do65</td>\n",
       "      <td>NaN</td>\n",
       "      <td>...</td>\n",
       "      <td>NaN</td>\n",
       "      <td>20.0</td>\n",
       "      <td>100.0</td>\n",
       "      <td>46.0</td>\n",
       "      <td>NaN</td>\n",
       "      <td>NaN</td>\n",
       "      <td>NaN</td>\n",
       "      <td>NaN</td>\n",
       "      <td>13.966667</td>\n",
       "      <td>5.337580</td>\n",
       "    </tr>\n",
       "  </tbody>\n",
       "</table>\n",
       "<p>5 rows × 159 columns</p>\n",
       "</div>"
      ],
      "text/plain": [
       "             StartDate              EndDate      Status       IPAddress  \\\n",
       "1  2023-01-23 12:49:34  2023-01-23 13:11:29  IP Address     200.3.144.7   \n",
       "2  2023-01-23 12:49:48  2023-01-23 13:11:42  IP Address    179.19.50.39   \n",
       "3  2023-01-23 12:49:31  2023-01-23 13:11:51  IP Address  191.106.213.33   \n",
       "4  2023-01-23 12:49:29  2023-01-23 13:12:13  IP Address   191.95.42.229   \n",
       "5  2023-01-23 17:46:20  2023-01-23 18:00:18  IP Address  201.221.176.33   \n",
       "\n",
       "  Progress  Duration (in seconds)  Finished                RecordedDate  \\\n",
       "1      100                   1314      True  2023-01-23 13:11:31.154000   \n",
       "2      100                   1314      True  2023-01-23 13:11:43.743000   \n",
       "3      100                   1339      True  2023-01-23 13:11:52.442000   \n",
       "4      100                   1363      True  2023-01-23 13:12:14.331000   \n",
       "5      100                    838      True  2023-01-23 18:00:19.279000   \n",
       "\n",
       "          ResponseId RecipientLastName  ... Q78_4 Deshum_1 Deshum_2 Deshum_3  \\\n",
       "1  R_1mIsUivDPG5uKUQ               NaN  ...   NaN     74.0     74.0    100.0   \n",
       "2  R_1ApG86q8OuiAnmh               NaN  ...   NaN    100.0    100.0    100.0   \n",
       "3  R_2yeGOP3ujdRCNoW               NaN  ...   NaN     40.0     80.0     90.0   \n",
       "4  R_Z4C1CcmO4uRFfkB               NaN  ...   NaN     65.0     65.0     50.0   \n",
       "5  R_3Wa3NbYxLI2Do65               NaN  ...   NaN     20.0    100.0     46.0   \n",
       "\n",
       "              Q63             Q64 Q64_5_TEXT  Q78 Duration in minutes  \\\n",
       "1   Gustavo Petro   Gustavo Petro        NaN  NaN           21.900000   \n",
       "2  Sergio Fajardo  Sergio Fajardo        NaN  NaN           21.900000   \n",
       "3   Gustavo Petro   Gustavo Petro        NaN  NaN           22.316667   \n",
       "4   Gustavo Petro      No votaría        NaN  NaN           22.716667   \n",
       "5             NaN             NaN        NaN  NaN           13.966667   \n",
       "\n",
       "  minutes_per_question  \n",
       "1             8.369427  \n",
       "2             8.369427  \n",
       "3             8.528662  \n",
       "4             8.681529  \n",
       "5             5.337580  \n",
       "\n",
       "[5 rows x 159 columns]"
      ]
     },
     "execution_count": 10,
     "metadata": {},
     "output_type": "execute_result"
    }
   ],
   "source": [
    "df['Finished']  = df['Finished'].astype(bool)\n",
    "df              = df[df['Finished'] == True]\n",
    "full_size_df_2  = df.shape[0]           # get the number of rows in the dataframe\n",
    "df.head()"
   ]
  },
  {
   "cell_type": "markdown",
   "metadata": {},
   "source": [
    "## 2nd filter: Remove the rows with time lower than 10 minutes"
   ]
  },
  {
   "cell_type": "code",
   "execution_count": 11,
   "metadata": {},
   "outputs": [],
   "source": [
    "df = df[(df['Duration in minutes'] >= 10)]"
   ]
  },
  {
   "cell_type": "code",
   "execution_count": 12,
   "metadata": {},
   "outputs": [
    {
     "name": "stdout",
     "output_type": "stream",
     "text": [
      "Number of rows: 971\n",
      "Number of columns: 159\n",
      "Loss information wit the firts filter: 18.33473507148865%\n"
     ]
    }
   ],
   "source": [
    "print(f'Number of rows: {df.shape[0]}')\n",
    "print(f'Number of columns: {df.shape[1]}')\n",
    "print(f'Loss information wit the firts filter: {100*(1-df.shape[0]/full_size_df_1)}%')"
   ]
  },
  {
   "cell_type": "code",
   "execution_count": 13,
   "metadata": {},
   "outputs": [
    {
     "data": {
      "text/html": [
       "<div>\n",
       "<style scoped>\n",
       "    .dataframe tbody tr th:only-of-type {\n",
       "        vertical-align: middle;\n",
       "    }\n",
       "\n",
       "    .dataframe tbody tr th {\n",
       "        vertical-align: top;\n",
       "    }\n",
       "\n",
       "    .dataframe thead th {\n",
       "        text-align: right;\n",
       "    }\n",
       "</style>\n",
       "<table border=\"1\" class=\"dataframe\">\n",
       "  <thead>\n",
       "    <tr style=\"text-align: right;\">\n",
       "      <th></th>\n",
       "      <th>ResponseId</th>\n",
       "      <th>LocationLatitude</th>\n",
       "      <th>LocationLongitude</th>\n",
       "      <th>Sex</th>\n",
       "      <th>Age</th>\n",
       "      <th>EDuc</th>\n",
       "      <th>Etnia</th>\n",
       "      <th>Q69</th>\n",
       "      <th>Q70</th>\n",
       "      <th>Identity Fusion_1</th>\n",
       "      <th>...</th>\n",
       "      <th>Q78_4</th>\n",
       "      <th>Deshum_1</th>\n",
       "      <th>Deshum_2</th>\n",
       "      <th>Deshum_3</th>\n",
       "      <th>Q63</th>\n",
       "      <th>Q64</th>\n",
       "      <th>Q64_5_TEXT</th>\n",
       "      <th>Q78</th>\n",
       "      <th>Duration in minutes</th>\n",
       "      <th>minutes_per_question</th>\n",
       "    </tr>\n",
       "  </thead>\n",
       "  <tbody>\n",
       "    <tr>\n",
       "      <th>1</th>\n",
       "      <td>R_1mIsUivDPG5uKUQ</td>\n",
       "      <td>6.2529</td>\n",
       "      <td>-75.5646</td>\n",
       "      <td>Un hombre</td>\n",
       "      <td>52</td>\n",
       "      <td>Posgrado</td>\n",
       "      <td>Ninguna</td>\n",
       "      <td>NaN</td>\n",
       "      <td>NaN</td>\n",
       "      <td>Ni de acuerdo ni en desacuerdo</td>\n",
       "      <td>...</td>\n",
       "      <td>NaN</td>\n",
       "      <td>74.0</td>\n",
       "      <td>74.0</td>\n",
       "      <td>100.0</td>\n",
       "      <td>Gustavo Petro</td>\n",
       "      <td>Gustavo Petro</td>\n",
       "      <td>NaN</td>\n",
       "      <td>NaN</td>\n",
       "      <td>21.900000</td>\n",
       "      <td>8.369427</td>\n",
       "    </tr>\n",
       "    <tr>\n",
       "      <th>2</th>\n",
       "      <td>R_1ApG86q8OuiAnmh</td>\n",
       "      <td>4.6913</td>\n",
       "      <td>-74.032</td>\n",
       "      <td>Un hombre</td>\n",
       "      <td>24</td>\n",
       "      <td>Universitario</td>\n",
       "      <td>Ninguna</td>\n",
       "      <td>NaN</td>\n",
       "      <td>NaN</td>\n",
       "      <td>Algo en desacuerdo</td>\n",
       "      <td>...</td>\n",
       "      <td>NaN</td>\n",
       "      <td>100.0</td>\n",
       "      <td>100.0</td>\n",
       "      <td>100.0</td>\n",
       "      <td>Sergio Fajardo</td>\n",
       "      <td>Sergio Fajardo</td>\n",
       "      <td>NaN</td>\n",
       "      <td>NaN</td>\n",
       "      <td>21.900000</td>\n",
       "      <td>8.369427</td>\n",
       "    </tr>\n",
       "    <tr>\n",
       "      <th>3</th>\n",
       "      <td>R_2yeGOP3ujdRCNoW</td>\n",
       "      <td>3.4129</td>\n",
       "      <td>-76.5191</td>\n",
       "      <td>Una mujer</td>\n",
       "      <td>25</td>\n",
       "      <td>Universitario</td>\n",
       "      <td>Ninguna</td>\n",
       "      <td>NaN</td>\n",
       "      <td>NaN</td>\n",
       "      <td>Ni de acuerdo ni en desacuerdo</td>\n",
       "      <td>...</td>\n",
       "      <td>NaN</td>\n",
       "      <td>40.0</td>\n",
       "      <td>80.0</td>\n",
       "      <td>90.0</td>\n",
       "      <td>Gustavo Petro</td>\n",
       "      <td>Gustavo Petro</td>\n",
       "      <td>NaN</td>\n",
       "      <td>NaN</td>\n",
       "      <td>22.316667</td>\n",
       "      <td>8.528662</td>\n",
       "    </tr>\n",
       "    <tr>\n",
       "      <th>4</th>\n",
       "      <td>R_Z4C1CcmO4uRFfkB</td>\n",
       "      <td>6.2529</td>\n",
       "      <td>-75.5646</td>\n",
       "      <td>Una mujer</td>\n",
       "      <td>23</td>\n",
       "      <td>Secundaria</td>\n",
       "      <td>Ninguna</td>\n",
       "      <td>NaN</td>\n",
       "      <td>NaN</td>\n",
       "      <td>De acuerdo</td>\n",
       "      <td>...</td>\n",
       "      <td>NaN</td>\n",
       "      <td>65.0</td>\n",
       "      <td>65.0</td>\n",
       "      <td>50.0</td>\n",
       "      <td>Gustavo Petro</td>\n",
       "      <td>No votaría</td>\n",
       "      <td>NaN</td>\n",
       "      <td>NaN</td>\n",
       "      <td>22.716667</td>\n",
       "      <td>8.681529</td>\n",
       "    </tr>\n",
       "    <tr>\n",
       "      <th>5</th>\n",
       "      <td>R_3Wa3NbYxLI2Do65</td>\n",
       "      <td>6.2529</td>\n",
       "      <td>-75.5646</td>\n",
       "      <td>NaN</td>\n",
       "      <td>NaN</td>\n",
       "      <td>NaN</td>\n",
       "      <td>NaN</td>\n",
       "      <td>NaN</td>\n",
       "      <td>NaN</td>\n",
       "      <td>NaN</td>\n",
       "      <td>...</td>\n",
       "      <td>NaN</td>\n",
       "      <td>20.0</td>\n",
       "      <td>100.0</td>\n",
       "      <td>46.0</td>\n",
       "      <td>NaN</td>\n",
       "      <td>NaN</td>\n",
       "      <td>NaN</td>\n",
       "      <td>NaN</td>\n",
       "      <td>13.966667</td>\n",
       "      <td>5.337580</td>\n",
       "    </tr>\n",
       "  </tbody>\n",
       "</table>\n",
       "<p>5 rows × 140 columns</p>\n",
       "</div>"
      ],
      "text/plain": [
       "          ResponseId LocationLatitude LocationLongitude        Sex  Age  \\\n",
       "1  R_1mIsUivDPG5uKUQ           6.2529          -75.5646  Un hombre   52   \n",
       "2  R_1ApG86q8OuiAnmh           4.6913           -74.032  Un hombre  24    \n",
       "3  R_2yeGOP3ujdRCNoW           3.4129          -76.5191  Una mujer   25   \n",
       "4  R_Z4C1CcmO4uRFfkB           6.2529          -75.5646  Una mujer   23   \n",
       "5  R_3Wa3NbYxLI2Do65           6.2529          -75.5646        NaN  NaN   \n",
       "\n",
       "            EDuc    Etnia  Q69  Q70               Identity Fusion_1  ...  \\\n",
       "1       Posgrado  Ninguna  NaN  NaN  Ni de acuerdo ni en desacuerdo  ...   \n",
       "2  Universitario  Ninguna  NaN  NaN              Algo en desacuerdo  ...   \n",
       "3  Universitario  Ninguna  NaN  NaN  Ni de acuerdo ni en desacuerdo  ...   \n",
       "4     Secundaria  Ninguna  NaN  NaN                      De acuerdo  ...   \n",
       "5            NaN      NaN  NaN  NaN                             NaN  ...   \n",
       "\n",
       "  Q78_4 Deshum_1 Deshum_2 Deshum_3             Q63             Q64 Q64_5_TEXT  \\\n",
       "1   NaN     74.0     74.0    100.0   Gustavo Petro   Gustavo Petro        NaN   \n",
       "2   NaN    100.0    100.0    100.0  Sergio Fajardo  Sergio Fajardo        NaN   \n",
       "3   NaN     40.0     80.0     90.0   Gustavo Petro   Gustavo Petro        NaN   \n",
       "4   NaN     65.0     65.0     50.0   Gustavo Petro      No votaría        NaN   \n",
       "5   NaN     20.0    100.0     46.0             NaN             NaN        NaN   \n",
       "\n",
       "   Q78 Duration in minutes minutes_per_question  \n",
       "1  NaN           21.900000             8.369427  \n",
       "2  NaN           21.900000             8.369427  \n",
       "3  NaN           22.316667             8.528662  \n",
       "4  NaN           22.716667             8.681529  \n",
       "5  NaN           13.966667             5.337580  \n",
       "\n",
       "[5 rows x 140 columns]"
      ]
     },
     "execution_count": 13,
     "metadata": {},
     "output_type": "execute_result"
    }
   ],
   "source": [
    "# columns to drop\n",
    "df              = df.drop(['StartDate', 'EndDate', 'Status', 'IPAddress', 'Progress','Duration (in seconds)', 'Finished', 'RecordedDate','RecipientLastName','RecipientFirstName', 'RecipientEmail','ExternalReference','DistributionChannel', 'UserLanguage', 'Q66','Sex_3_TEXT','Region_3_TEXT','Control_1','Control_2',], axis=1)\n",
    "# df              = df.drop(['Q64_5_TEXT', 'InterGContacPetrist_4', 'InterGContacPetrist_2', 'InterGContacPetrist_1', 'ConspiracyPetrist_4', 'ConspiracyPetrist_3', 'ConspiracyPetrist_2', 'ConspiracyPetrist_1', 'EmpUribist_3', 'EmpUribist_2', 'EmpUribist_1', 'InterGContacPetrist_5', 'InterGContacPetrist_3', 'InterGContacPetrist_6', 'Q38_1', 'Q37_1', 'IdPol_2_TEXT', 'ConspiracyUribi_4', 'ConspiracyUribi_3', 'ConspiracyUribi_2', 'ConspiracyUribi_1', 'OutGEmpUribis_1', 'OutGEmpUribis_3', 'OutGEmpUribis_2', 'InterGContacUribi_2', 'InterGContacUribi_4', 'InterGContacUribi_3', 'InterGContacUribi_1','InterGContacUribi_5', 'InterGContacUribi_6', 'InterGroup_1', 'Intragroup_1', 'OutGEmpUribis_1', 'OutGEmpUribis_2', 'OutGEmpUribis_3', 'NormSoc_4', 'NormSoc_5', 'Deshum_3', 'Deshum_2', 'NormSoc_3', 'NormSoc_1', 'NormSoc_2'], axis=1)\n",
    "df.head()"
   ]
  },
  {
   "cell_type": "markdown",
   "metadata": {},
   "source": [
    "# Data Preprocessing"
   ]
  },
  {
   "cell_type": "code",
   "execution_count": 14,
   "metadata": {},
   "outputs": [],
   "source": [
    "def create_bar_chart(df, column_name, file_name, plot_title,output_folder,visualize):\n",
    "    unique_values = df[column_name].value_counts()\n",
    "\n",
    "    # Create a bar chart using Plotly Express\n",
    "    fig = px.bar(x=unique_values.index, y=unique_values.values)\n",
    "\n",
    "    # Update layout if needed\n",
    "    fig.update_layout(\n",
    "        title='Bar Chart of '+ plot_title,\n",
    "        xaxis_title=\"Unique Values\",\n",
    "        yaxis_title=\"Count\"\n",
    "    )\n",
    "    fig.update_traces(texttemplate='%{y}',\n",
    "                    textposition='outside')\n",
    "    fig.update_xaxes(categoryorder='total descending')\n",
    "\n",
    "    if visualize:\n",
    "        # Show the plot\n",
    "        fig.show()\n",
    "\n",
    "    # Save the plot as an HTML file\n",
    "    fig.write_html(output_folder.joinpath('bar_chart_'+file_name + '.html'))\n"
   ]
  },
  {
   "cell_type": "code",
   "execution_count": 15,
   "metadata": {},
   "outputs": [],
   "source": [
    "def create_pie_chart(df, column_name, file_name, plot_title,output_folder,visualize):\n",
    "    unique_values = df[column_name].value_counts()\n",
    "\n",
    "    # Create a pie chart using Plotly Express\n",
    "    fig = px.pie(values=unique_values.values,\n",
    "                names=unique_values.index,\n",
    "                title=f'Pie Chart of {plot_title}',\n",
    "                labels={'names': '', 'values': ''},\n",
    "                hole=0.3\n",
    "                )\n",
    "    fig.update_traces(textinfo='percent+label',\n",
    "                    pull=[0.05]*len(unique_values.index)\n",
    "                    )\n",
    "    \n",
    "    if visualize:\n",
    "        fig.show()\n",
    "    \n",
    "\n",
    "    # Save the plot as an HTML file\n",
    "    fig.write_html(output_folder.joinpath('pie_chart_'+file_name + '.html'))"
   ]
  },
  {
   "cell_type": "code",
   "execution_count": 16,
   "metadata": {},
   "outputs": [],
   "source": [
    "def temp_value_counts(df, column):\n",
    "    \"\"\"\n",
    "    This function returns the value counts of a column in a dataframe.\n",
    "    \"\"\"\n",
    "    return print(df[column].value_counts())"
   ]
  },
  {
   "cell_type": "markdown",
   "metadata": {},
   "source": [
    "## 3rd Filter: Age"
   ]
  },
  {
   "cell_type": "code",
   "execution_count": 17,
   "metadata": {},
   "outputs": [
    {
     "data": {
      "text/html": [
       "<div>\n",
       "<style scoped>\n",
       "    .dataframe tbody tr th:only-of-type {\n",
       "        vertical-align: middle;\n",
       "    }\n",
       "\n",
       "    .dataframe tbody tr th {\n",
       "        vertical-align: top;\n",
       "    }\n",
       "\n",
       "    .dataframe thead th {\n",
       "        text-align: right;\n",
       "    }\n",
       "</style>\n",
       "<table border=\"1\" class=\"dataframe\">\n",
       "  <thead>\n",
       "    <tr style=\"text-align: right;\">\n",
       "      <th></th>\n",
       "      <th>ResponseId</th>\n",
       "      <th>LocationLatitude</th>\n",
       "      <th>LocationLongitude</th>\n",
       "      <th>Sex</th>\n",
       "      <th>Age</th>\n",
       "      <th>EDuc</th>\n",
       "      <th>Etnia</th>\n",
       "      <th>Q69</th>\n",
       "      <th>Q70</th>\n",
       "      <th>Identity Fusion_1</th>\n",
       "      <th>...</th>\n",
       "      <th>Q78_4</th>\n",
       "      <th>Deshum_1</th>\n",
       "      <th>Deshum_2</th>\n",
       "      <th>Deshum_3</th>\n",
       "      <th>Q63</th>\n",
       "      <th>Q64</th>\n",
       "      <th>Q64_5_TEXT</th>\n",
       "      <th>Q78</th>\n",
       "      <th>Duration in minutes</th>\n",
       "      <th>minutes_per_question</th>\n",
       "    </tr>\n",
       "  </thead>\n",
       "  <tbody>\n",
       "    <tr>\n",
       "      <th>1</th>\n",
       "      <td>R_1mIsUivDPG5uKUQ</td>\n",
       "      <td>6.2529</td>\n",
       "      <td>-75.5646</td>\n",
       "      <td>Un hombre</td>\n",
       "      <td>52</td>\n",
       "      <td>Posgrado</td>\n",
       "      <td>Ninguna</td>\n",
       "      <td>NaN</td>\n",
       "      <td>NaN</td>\n",
       "      <td>Ni de acuerdo ni en desacuerdo</td>\n",
       "      <td>...</td>\n",
       "      <td>NaN</td>\n",
       "      <td>74.0</td>\n",
       "      <td>74.0</td>\n",
       "      <td>100.0</td>\n",
       "      <td>Gustavo Petro</td>\n",
       "      <td>Gustavo Petro</td>\n",
       "      <td>NaN</td>\n",
       "      <td>NaN</td>\n",
       "      <td>21.900000</td>\n",
       "      <td>8.369427</td>\n",
       "    </tr>\n",
       "    <tr>\n",
       "      <th>18</th>\n",
       "      <td>R_71YJr70DUHCqpCV</td>\n",
       "      <td>6.2529</td>\n",
       "      <td>-75.5646</td>\n",
       "      <td>Un hombre</td>\n",
       "      <td>53</td>\n",
       "      <td>Posgrado</td>\n",
       "      <td>Mestizo</td>\n",
       "      <td>NaN</td>\n",
       "      <td>NaN</td>\n",
       "      <td>Ni de acuerdo ni en desacuerdo</td>\n",
       "      <td>...</td>\n",
       "      <td>NaN</td>\n",
       "      <td>100.0</td>\n",
       "      <td>100.0</td>\n",
       "      <td>100.0</td>\n",
       "      <td>Gustavo Petro</td>\n",
       "      <td>A Otro. Cuál?</td>\n",
       "      <td>Iván Cepeda</td>\n",
       "      <td>NaN</td>\n",
       "      <td>45.383333</td>\n",
       "      <td>17.343949</td>\n",
       "    </tr>\n",
       "    <tr>\n",
       "      <th>19</th>\n",
       "      <td>R_1mqHVaPGjnMWOLe</td>\n",
       "      <td>6.2529</td>\n",
       "      <td>-75.5646</td>\n",
       "      <td>Una mujer</td>\n",
       "      <td>30</td>\n",
       "      <td>Posgrado</td>\n",
       "      <td>Mestizo</td>\n",
       "      <td>NaN</td>\n",
       "      <td>NaN</td>\n",
       "      <td>En desacuerdo</td>\n",
       "      <td>...</td>\n",
       "      <td>NaN</td>\n",
       "      <td>92.0</td>\n",
       "      <td>96.0</td>\n",
       "      <td>98.0</td>\n",
       "      <td>Gustavo Petro</td>\n",
       "      <td>Gustavo Petro</td>\n",
       "      <td>NaN</td>\n",
       "      <td>NaN</td>\n",
       "      <td>45.550000</td>\n",
       "      <td>17.407643</td>\n",
       "    </tr>\n",
       "    <tr>\n",
       "      <th>24</th>\n",
       "      <td>R_27swIqQuXrpuqsN</td>\n",
       "      <td>6.2529</td>\n",
       "      <td>-75.5646</td>\n",
       "      <td>Un hombre</td>\n",
       "      <td>53</td>\n",
       "      <td>Posgrado</td>\n",
       "      <td>Mestizo</td>\n",
       "      <td>NaN</td>\n",
       "      <td>NaN</td>\n",
       "      <td>Ni de acuerdo ni en desacuerdo</td>\n",
       "      <td>...</td>\n",
       "      <td>NaN</td>\n",
       "      <td>26.0</td>\n",
       "      <td>98.0</td>\n",
       "      <td>100.0</td>\n",
       "      <td>No voté</td>\n",
       "      <td>No votaría</td>\n",
       "      <td>NaN</td>\n",
       "      <td>NaN</td>\n",
       "      <td>57.066667</td>\n",
       "      <td>21.808917</td>\n",
       "    </tr>\n",
       "    <tr>\n",
       "      <th>25</th>\n",
       "      <td>R_1plrnkjUjoUKKdG</td>\n",
       "      <td>6.2529</td>\n",
       "      <td>-75.5646</td>\n",
       "      <td>Un hombre</td>\n",
       "      <td>52</td>\n",
       "      <td>Posgrado</td>\n",
       "      <td>Mestizo</td>\n",
       "      <td>Medellín</td>\n",
       "      <td>Antioquia</td>\n",
       "      <td>En desacuerdo</td>\n",
       "      <td>...</td>\n",
       "      <td>NaN</td>\n",
       "      <td>100.0</td>\n",
       "      <td>12.0</td>\n",
       "      <td>54.0</td>\n",
       "      <td>Federico (Fico) Gutierrez</td>\n",
       "      <td>Federico (Fico) Gutierrez</td>\n",
       "      <td>NaN</td>\n",
       "      <td>NaN</td>\n",
       "      <td>104.483333</td>\n",
       "      <td>39.929936</td>\n",
       "    </tr>\n",
       "  </tbody>\n",
       "</table>\n",
       "<p>5 rows × 140 columns</p>\n",
       "</div>"
      ],
      "text/plain": [
       "           ResponseId LocationLatitude LocationLongitude        Sex  Age  \\\n",
       "1   R_1mIsUivDPG5uKUQ           6.2529          -75.5646  Un hombre   52   \n",
       "18  R_71YJr70DUHCqpCV           6.2529          -75.5646  Un hombre   53   \n",
       "19  R_1mqHVaPGjnMWOLe           6.2529          -75.5646  Una mujer   30   \n",
       "24  R_27swIqQuXrpuqsN           6.2529          -75.5646  Un hombre   53   \n",
       "25  R_1plrnkjUjoUKKdG           6.2529          -75.5646  Un hombre   52   \n",
       "\n",
       "        EDuc    Etnia       Q69        Q70               Identity Fusion_1  \\\n",
       "1   Posgrado  Ninguna       NaN        NaN  Ni de acuerdo ni en desacuerdo   \n",
       "18  Posgrado  Mestizo       NaN        NaN  Ni de acuerdo ni en desacuerdo   \n",
       "19  Posgrado  Mestizo       NaN        NaN                   En desacuerdo   \n",
       "24  Posgrado  Mestizo       NaN        NaN  Ni de acuerdo ni en desacuerdo   \n",
       "25  Posgrado  Mestizo  Medellín  Antioquia                   En desacuerdo   \n",
       "\n",
       "    ... Q78_4 Deshum_1 Deshum_2 Deshum_3                        Q63  \\\n",
       "1   ...   NaN     74.0     74.0    100.0              Gustavo Petro   \n",
       "18  ...   NaN    100.0    100.0    100.0              Gustavo Petro   \n",
       "19  ...   NaN     92.0     96.0     98.0              Gustavo Petro   \n",
       "24  ...   NaN     26.0     98.0    100.0                    No voté   \n",
       "25  ...   NaN    100.0     12.0     54.0  Federico (Fico) Gutierrez   \n",
       "\n",
       "                          Q64   Q64_5_TEXT  Q78 Duration in minutes  \\\n",
       "1               Gustavo Petro          NaN  NaN           21.900000   \n",
       "18              A Otro. Cuál?  Iván Cepeda  NaN           45.383333   \n",
       "19              Gustavo Petro          NaN  NaN           45.550000   \n",
       "24                 No votaría          NaN  NaN           57.066667   \n",
       "25  Federico (Fico) Gutierrez          NaN  NaN          104.483333   \n",
       "\n",
       "   minutes_per_question  \n",
       "1              8.369427  \n",
       "18            17.343949  \n",
       "19            17.407643  \n",
       "24            21.808917  \n",
       "25            39.929936  \n",
       "\n",
       "[5 rows x 140 columns]"
      ]
     },
     "execution_count": 17,
     "metadata": {},
     "output_type": "execute_result"
    }
   ],
   "source": [
    "df['Age']   = df['Age'].str.replace(r'(años|\\. Años|AÑOS|de|Y i)', '', regex=True)\n",
    "df          = df.dropna(subset=['Age']) # Drop rows with NaN values in Age column\n",
    "df['Age']   = pd.to_numeric(df['Age'], errors='coerce')\n",
    "df          = df[(df['Age'] >= 30) & (df['Age'] <= 64)] # Set a fitler for age between 30 and 64\n",
    "full_size_df_3  = df.shape[0]           # get the number of rows in the dataframe\n",
    "df.head()"
   ]
  },
  {
   "cell_type": "markdown",
   "metadata": {},
   "source": [
    "## Loss information when filtering by age"
   ]
  },
  {
   "cell_type": "code",
   "execution_count": 18,
   "metadata": {},
   "outputs": [
    {
     "name": "stdout",
     "output_type": "stream",
     "text": [
      "Number of rows: 314\n",
      "Number of columns: 140\n",
      "Loss information: 73.56902356902357%\n"
     ]
    }
   ],
   "source": [
    "print(f'Number of rows: {df.shape[0]}')\n",
    "print(f'Number of columns: {df.shape[1]}')\n",
    "print(f'Loss information: {100*(1-df.shape[0]/full_size_df_2)}%')"
   ]
  },
  {
   "cell_type": "markdown",
   "metadata": {},
   "source": [
    "## Column Q70: Department"
   ]
  },
  {
   "cell_type": "code",
   "execution_count": 19,
   "metadata": {},
   "outputs": [
    {
     "name": "stdout",
     "output_type": "stream",
     "text": [
      "Q70\n",
      "VALLE DEL CAUCA       118\n",
      "ANTIOQUIA              92\n",
      "SANTANDER              39\n",
      "CESAR                  35\n",
      "CUNDINAMARCA           10\n",
      "BOLIVAR                 4\n",
      "NARIÑO                  3\n",
      "BOGOTA                  2\n",
      "CAUCA                   2\n",
      "CHOCO                   1\n",
      "C JA HHJGG              1\n",
      "MAGDALENA               1\n",
      "NORTE DE SANTANDER      1\n",
      "BOYACA                  1\n",
      "Name: count, dtype: int64\n"
     ]
    }
   ],
   "source": [
    "df['Q70'] = df['Q70'].str.strip().str.upper()\n",
    "replace_dict = {\n",
    "    'VALLE'                 : 'VALLE DEL CAUCA',\n",
    "    'VALLE DE CAUCA'        : 'VALLE DEL CAUCA',\n",
    "    'VALLE CAUCA'           : 'VALLE DEL CAUCA',\n",
    "    'CALI'                  : 'VALLE DEL CAUCA',\n",
    "    'CALLE DEL CAUCA'       : 'VALLE DEL CAUCA',\n",
    "    'DEPTO VALLE DEL CAUCA' : 'VALLE DEL CAUCA',\n",
    "    'VALLE DWL CAUCA'       : 'VALLE DEL CAUCA',\n",
    "    'VALE DEL CAUCA'        : 'VALLE DEL CAUCA',\n",
    "    'JAMUNDI'               : 'VALLE DEL CAUCA',\n",
    "    'VALLE DE L CAUCA'      : 'VALLE DEL CAUCA',\n",
    "    'ANTIOQUÍA'             : 'ANTIOQUIA',\n",
    "    'ANTIQUIA'              : 'ANTIOQUIA',\n",
    "    'ENVIGADO'              : 'ANTIOQUIA',\n",
    "    'MEDELLIN'              : 'ANTIOQUIA',\n",
    "    'ANTIOGUIA'             : 'ANTIOQUIA',\n",
    "    'BOGOTÁ'                : 'BOGOTA',\n",
    "    'BOGOTÁ D.C.'           : 'BOGOTA',\n",
    "    'BOGOTÁ D.C'            : 'BOGOTA',\n",
    "    'DISTRITO CAPITAL'      : 'BOGOTA',\n",
    "    'CÉSAR'                 : 'CESAR',\n",
    "    'CESÁR'                 : 'CESAR',\n",
    "    'C ESAR'                : 'CESAR',\n",
    "    'CASAR'                 : 'CESAR',\n",
    "    'VALLEDUPAR'            : 'CESAR',\n",
    "    'ATLÁNTICO'             : 'ATLANTICO',\n",
    "    'BUCARAMANGA'           : 'SANTANDER',\n",
    "    'SNDER'                 : 'SANTANDER',\n",
    "    'FLORIDA BLANCA'        : 'SANTANDER',\n",
    "    'SAMTANDER'             : 'SANTANDER',\n",
    "    'BOYACÁ'                : 'BOYACA', \n",
    "    'RIOHACHA'              : 'LA GUAJIRA',\n",
    "    'GUAJIRA'               : 'LA GUAJIRA',\n",
    "    'DEPARTAMENTO DEL CAUCA': 'CAUCA',\n",
    "    'BOLÍVAR'               : 'BOLIVAR',\n",
    "    'CHOCÓ'                 : 'CHOCO',\n",
    "}\n",
    "df['Q70'] = df['Q70'].replace(replace_dict)\n",
    "temp_value_counts(df, 'Q70')\n",
    "create_bar_chart(df, 'Q70', 'departments', 'Departments', output_folders[1],False)"
   ]
  },
  {
   "cell_type": "markdown",
   "metadata": {},
   "source": [
    "## Column Q69: Cities"
   ]
  },
  {
   "cell_type": "code",
   "execution_count": 20,
   "metadata": {},
   "outputs": [
    {
     "name": "stdout",
     "output_type": "stream",
     "text": [
      "Q69\n",
      "CALI                      106\n",
      "MEDELLIN                   82\n",
      "VALLEDUPAR                 32\n",
      "BUCARAMANGA                19\n",
      "FLORIDABLANCA              13\n",
      "BOGOTA                      9\n",
      "JAMUNDI                     7\n",
      "PIEDECUESTA                 5\n",
      "CARTAGENA                   4\n",
      "PALMIRA                     4\n",
      "BUENAVENTURA                3\n",
      "PASTO                       2\n",
      "CALDAS                      1\n",
      "PIENDAMO                    1\n",
      "MARINILLA                   1\n",
      "TRUJILLO                    1\n",
      "YUMBO                       1\n",
      "SAN JUAN DE PASTO           1\n",
      "GUARNE                      1\n",
      "CAUCASIA                    1\n",
      "CHIMICHAGUA                 1\n",
      "SANTANDER DE QUILICHAO      1\n",
      "EL COPEY                    1\n",
      "TUNJA                       1\n",
      "CUCUTA                      1\n",
      "SANTA MARTA                 1\n",
      "LA CEJA                     1\n",
      "BOSCONIA                    1\n",
      "LA PINTADA                  1\n",
      "SOCORRO                     1\n",
      "GIRON                       1\n",
      "SAN VICENTE FERRER          1\n",
      "COPACABANA                  1\n",
      "CCVVHGH                     1\n",
      "QUIBDO                      1\n",
      "TULUA                       1\n",
      "Name: count, dtype: int64\n"
     ]
    }
   ],
   "source": [
    "df['Q69'] = df['Q69'].str.strip().str.upper()\n",
    "replace_dict = {\n",
    "    'SANTIAGO DE CALI'      : 'CALI',\n",
    "    'CAÑASGORDAS'           : 'CALI',\n",
    "    'CALI VALLE'            : 'CALI',\n",
    "    'CALI VALLE DEL CAUCA'  : 'CALI',\n",
    "    'EN SANTIAGO SDE CALL'  : 'CALI',\n",
    "    'MEDELLÍN'              : 'MEDELLIN',\n",
    "    'MEDELIN'               : 'MEDELLIN',\n",
    "    'ENVIGADO'              : 'MEDELLIN',\n",
    "    'ENVIGAADO'             : 'MEDELLIN',\n",
    "    'RIONEGRO'              : 'MEDELLIN',\n",
    "    'SABANETA'              : 'MEDELLIN',\n",
    "    'BELLO'                 : 'MEDELLIN',\n",
    "    'GIRARDOT'              : 'MEDELLIN',\n",
    "    'ITAGUI'                : 'MEDELLIN',\n",
    "    'ITAGÜÍ'                : 'MEDELLIN',\n",
    "    'BOGOTÁ'                : 'BOGOTA',\n",
    "    'BOGOTÁ D.C'            : 'BOGOTA',\n",
    "    'BOGOTÁ D.C.'           : 'BOGOTA',\n",
    "    'JAMUNDÍ'               : 'JAMUNDI',\n",
    "    'VLLLEDUPR'             : 'VALLEDUPAR',\n",
    "    'VALEDUPAR'             : 'VALLEDUPAR',\n",
    "    'FLORIDA BLANCA'        : 'FLORIDABLANCA',\n",
    "    'CÚCUTA'                : 'CUCUTA',\n",
    "    'QUIBDÓ'                : 'QUIBDO',\n",
    "}\n",
    "df['Q69'] = df['Q69'].replace(replace_dict)\n",
    "\n",
    "temp_value_counts(df, 'Q69')\n",
    "# create_bar_chart(df, 'Q69', 'cities', 'Cities', output_folders[1],False)"
   ]
  },
  {
   "cell_type": "markdown",
   "metadata": {},
   "source": [
    "## 4th filter: Cities"
   ]
  },
  {
   "cell_type": "code",
   "execution_count": 21,
   "metadata": {},
   "outputs": [
    {
     "data": {
      "text/html": [
       "<div>\n",
       "<style scoped>\n",
       "    .dataframe tbody tr th:only-of-type {\n",
       "        vertical-align: middle;\n",
       "    }\n",
       "\n",
       "    .dataframe tbody tr th {\n",
       "        vertical-align: top;\n",
       "    }\n",
       "\n",
       "    .dataframe thead th {\n",
       "        text-align: right;\n",
       "    }\n",
       "</style>\n",
       "<table border=\"1\" class=\"dataframe\">\n",
       "  <thead>\n",
       "    <tr style=\"text-align: right;\">\n",
       "      <th></th>\n",
       "      <th>ResponseId</th>\n",
       "      <th>LocationLatitude</th>\n",
       "      <th>LocationLongitude</th>\n",
       "      <th>Sex</th>\n",
       "      <th>Age</th>\n",
       "      <th>EDuc</th>\n",
       "      <th>Etnia</th>\n",
       "      <th>Q69</th>\n",
       "      <th>Q70</th>\n",
       "      <th>Identity Fusion_1</th>\n",
       "      <th>...</th>\n",
       "      <th>Q78_4</th>\n",
       "      <th>Deshum_1</th>\n",
       "      <th>Deshum_2</th>\n",
       "      <th>Deshum_3</th>\n",
       "      <th>Q63</th>\n",
       "      <th>Q64</th>\n",
       "      <th>Q64_5_TEXT</th>\n",
       "      <th>Q78</th>\n",
       "      <th>Duration in minutes</th>\n",
       "      <th>minutes_per_question</th>\n",
       "    </tr>\n",
       "  </thead>\n",
       "  <tbody>\n",
       "    <tr>\n",
       "      <th>88</th>\n",
       "      <td>R_1kLcWuTC7wCd3kf</td>\n",
       "      <td>3.4129</td>\n",
       "      <td>-76.5191</td>\n",
       "      <td>Una mujer</td>\n",
       "      <td>35</td>\n",
       "      <td>Universitario</td>\n",
       "      <td>Ninguna</td>\n",
       "      <td>CALI</td>\n",
       "      <td>VALLE DEL CAUCA</td>\n",
       "      <td>Algo en desacuerdo</td>\n",
       "      <td>...</td>\n",
       "      <td>Moderadamente de acuerdo</td>\n",
       "      <td>71.0</td>\n",
       "      <td>94.0</td>\n",
       "      <td>48.0</td>\n",
       "      <td>Gustavo Petro</td>\n",
       "      <td>Gustavo Petro</td>\n",
       "      <td>NaN</td>\n",
       "      <td>NaN</td>\n",
       "      <td>56.133333</td>\n",
       "      <td>21.452229</td>\n",
       "    </tr>\n",
       "    <tr>\n",
       "      <th>113</th>\n",
       "      <td>R_YSqy9LKNrvJCUHT</td>\n",
       "      <td>3.4129</td>\n",
       "      <td>-76.5191</td>\n",
       "      <td>Un hombre</td>\n",
       "      <td>46</td>\n",
       "      <td>Posgrado</td>\n",
       "      <td>Mestizo</td>\n",
       "      <td>CALI</td>\n",
       "      <td>VALLE DEL CAUCA</td>\n",
       "      <td>NaN</td>\n",
       "      <td>...</td>\n",
       "      <td>NaN</td>\n",
       "      <td>NaN</td>\n",
       "      <td>NaN</td>\n",
       "      <td>NaN</td>\n",
       "      <td>NaN</td>\n",
       "      <td>NaN</td>\n",
       "      <td>NaN</td>\n",
       "      <td>NaN</td>\n",
       "      <td>20.416667</td>\n",
       "      <td>7.802548</td>\n",
       "    </tr>\n",
       "    <tr>\n",
       "      <th>253</th>\n",
       "      <td>R_3lS6rYyZtlfoUM0</td>\n",
       "      <td>3.4129</td>\n",
       "      <td>-76.5191</td>\n",
       "      <td>Una mujer</td>\n",
       "      <td>55</td>\n",
       "      <td>Técnico o Tecnológico</td>\n",
       "      <td>Afrodescendiente</td>\n",
       "      <td>CALI</td>\n",
       "      <td>VALLE DEL CAUCA</td>\n",
       "      <td>De acuerdo</td>\n",
       "      <td>...</td>\n",
       "      <td>NaN</td>\n",
       "      <td>18.0</td>\n",
       "      <td>18.0</td>\n",
       "      <td>15.0</td>\n",
       "      <td>No voté</td>\n",
       "      <td>No votaría</td>\n",
       "      <td>NaN</td>\n",
       "      <td>NaN</td>\n",
       "      <td>25.533333</td>\n",
       "      <td>9.757962</td>\n",
       "    </tr>\n",
       "    <tr>\n",
       "      <th>255</th>\n",
       "      <td>R_2zoHnCAn6RAEMZ3</td>\n",
       "      <td>4.6913</td>\n",
       "      <td>-74.032</td>\n",
       "      <td>Una mujer</td>\n",
       "      <td>34</td>\n",
       "      <td>Universitario</td>\n",
       "      <td>Mestizo</td>\n",
       "      <td>CALI</td>\n",
       "      <td>VALLE DEL CAUCA</td>\n",
       "      <td>De acuerdo</td>\n",
       "      <td>...</td>\n",
       "      <td>En desacuerdo</td>\n",
       "      <td>0.0</td>\n",
       "      <td>0.0</td>\n",
       "      <td>0.0</td>\n",
       "      <td>No quiero responder</td>\n",
       "      <td>Sergio Fajardo</td>\n",
       "      <td>NaN</td>\n",
       "      <td>NaN</td>\n",
       "      <td>12.700000</td>\n",
       "      <td>4.853503</td>\n",
       "    </tr>\n",
       "    <tr>\n",
       "      <th>256</th>\n",
       "      <td>R_1dKXNeYwm48UtUJ</td>\n",
       "      <td>3.4129</td>\n",
       "      <td>-76.5191</td>\n",
       "      <td>Una mujer</td>\n",
       "      <td>55</td>\n",
       "      <td>Técnico o Tecnológico</td>\n",
       "      <td>Afrodescendiente</td>\n",
       "      <td>CALI</td>\n",
       "      <td>VALLE DEL CAUCA</td>\n",
       "      <td>De acuerdo</td>\n",
       "      <td>...</td>\n",
       "      <td>Para nada de acuerdo</td>\n",
       "      <td>17.0</td>\n",
       "      <td>19.0</td>\n",
       "      <td>24.0</td>\n",
       "      <td>No voté</td>\n",
       "      <td>No votaría</td>\n",
       "      <td>NaN</td>\n",
       "      <td>30000121119UsbCali</td>\n",
       "      <td>37.633333</td>\n",
       "      <td>14.382166</td>\n",
       "    </tr>\n",
       "  </tbody>\n",
       "</table>\n",
       "<p>5 rows × 140 columns</p>\n",
       "</div>"
      ],
      "text/plain": [
       "            ResponseId LocationLatitude LocationLongitude        Sex  Age  \\\n",
       "88   R_1kLcWuTC7wCd3kf           3.4129          -76.5191  Una mujer   35   \n",
       "113  R_YSqy9LKNrvJCUHT           3.4129          -76.5191  Un hombre   46   \n",
       "253  R_3lS6rYyZtlfoUM0           3.4129          -76.5191  Una mujer   55   \n",
       "255  R_2zoHnCAn6RAEMZ3           4.6913           -74.032  Una mujer   34   \n",
       "256  R_1dKXNeYwm48UtUJ           3.4129          -76.5191  Una mujer   55   \n",
       "\n",
       "                      EDuc             Etnia   Q69              Q70  \\\n",
       "88           Universitario           Ninguna  CALI  VALLE DEL CAUCA   \n",
       "113               Posgrado           Mestizo  CALI  VALLE DEL CAUCA   \n",
       "253  Técnico o Tecnológico  Afrodescendiente  CALI  VALLE DEL CAUCA   \n",
       "255          Universitario           Mestizo  CALI  VALLE DEL CAUCA   \n",
       "256  Técnico o Tecnológico  Afrodescendiente  CALI  VALLE DEL CAUCA   \n",
       "\n",
       "      Identity Fusion_1  ...                     Q78_4 Deshum_1 Deshum_2  \\\n",
       "88   Algo en desacuerdo  ...  Moderadamente de acuerdo     71.0     94.0   \n",
       "113                 NaN  ...                       NaN      NaN      NaN   \n",
       "253          De acuerdo  ...                       NaN     18.0     18.0   \n",
       "255          De acuerdo  ...             En desacuerdo      0.0      0.0   \n",
       "256          De acuerdo  ...      Para nada de acuerdo     17.0     19.0   \n",
       "\n",
       "    Deshum_3                  Q63             Q64 Q64_5_TEXT  \\\n",
       "88      48.0        Gustavo Petro   Gustavo Petro        NaN   \n",
       "113      NaN                  NaN             NaN        NaN   \n",
       "253     15.0              No voté      No votaría        NaN   \n",
       "255      0.0  No quiero responder  Sergio Fajardo        NaN   \n",
       "256     24.0              No voté      No votaría        NaN   \n",
       "\n",
       "                    Q78 Duration in minutes minutes_per_question  \n",
       "88                  NaN           56.133333            21.452229  \n",
       "113                 NaN           20.416667             7.802548  \n",
       "253                 NaN           25.533333             9.757962  \n",
       "255                 NaN           12.700000             4.853503  \n",
       "256  30000121119UsbCali           37.633333            14.382166  \n",
       "\n",
       "[5 rows x 140 columns]"
      ]
     },
     "execution_count": 21,
     "metadata": {},
     "output_type": "execute_result"
    }
   ],
   "source": [
    "cali_df = df[df['Q69'] == 'CALI']\n",
    "cali_df.head()"
   ]
  },
  {
   "cell_type": "code",
   "execution_count": 22,
   "metadata": {},
   "outputs": [
    {
     "name": "stdout",
     "output_type": "stream",
     "text": [
      "Number of rows in Cali: 106\n",
      "Number of columns in Cali: 140\n",
      "Loss information wit the firts filter: 91.07744107744108%\n"
     ]
    }
   ],
   "source": [
    "print(f'Number of rows in Cali: {cali_df.shape[0]}')\n",
    "print(f'Number of columns in Cali: {cali_df.shape[1]}')\n",
    "print(f'Loss information wit the firts filter: {100*(1-cali_df.shape[0]/full_size_df_2)}%')"
   ]
  },
  {
   "cell_type": "markdown",
   "metadata": {},
   "source": [
    "## 5th filter: Null values in the rows"
   ]
  },
  {
   "cell_type": "code",
   "execution_count": 23,
   "metadata": {},
   "outputs": [],
   "source": [
    "null_rows = cali_df.isnull().sum(axis=1).sort_values(ascending=False)\n",
    "null_rows_percent = 100*null_rows/cali_df.shape[1]\n",
    "null_rows_percent = null_rows_percent[null_rows_percent > 50]\n",
    "# I want to delete the rows with more than 50% of missing values\n",
    "cali_df = cali_df.drop(null_rows_percent.index) "
   ]
  },
  {
   "cell_type": "markdown",
   "metadata": {},
   "source": [
    "## Column Sex"
   ]
  },
  {
   "cell_type": "code",
   "execution_count": 24,
   "metadata": {},
   "outputs": [
    {
     "name": "stdout",
     "output_type": "stream",
     "text": [
      "Sex\n",
      "MUJER     59\n",
      "HOMBRE    38\n",
      "OTRO       1\n",
      "Name: count, dtype: int64\n"
     ]
    }
   ],
   "source": [
    "cali_df['Sex'] = cali_df['Sex'].str.strip().str.upper()\n",
    "replace_dict = {\n",
    "    'UNA MUJER' : 'MUJER',\n",
    "    'UN HOMBRE' : 'HOMBRE'\n",
    "}\n",
    "cali_df['Sex'] = cali_df['Sex'].replace(replace_dict)\n",
    "temp_value_counts(cali_df, 'Sex')\n",
    "create_bar_chart(cali_df, 'Sex', 'sex', 'Sex', output_folders[1], False)\n",
    "create_pie_chart(cali_df, 'Sex', 'sex', 'Sex', output_folders[1], False)"
   ]
  },
  {
   "cell_type": "markdown",
   "metadata": {},
   "source": [
    "## Column EDuc: Education"
   ]
  },
  {
   "cell_type": "code",
   "execution_count": 25,
   "metadata": {},
   "outputs": [
    {
     "name": "stdout",
     "output_type": "stream",
     "text": [
      "EDuc\n",
      "UNIVERSITARIO            34\n",
      "TÉCNICO O TECNOLÓGICO    25\n",
      "POSGRADO                 23\n",
      "SECUNDARIA               15\n",
      "PRIMARIA                  1\n",
      "PRESCOLAR                 1\n",
      "Name: count, dtype: int64\n"
     ]
    }
   ],
   "source": [
    "cali_df['EDuc'] = cali_df['EDuc'].str.strip().str.upper()\n",
    "temp_value_counts(cali_df, 'EDuc')\n",
    "create_bar_chart(cali_df, 'EDuc', 'education', 'Education', output_folders[1],False)\n",
    "create_pie_chart(cali_df, 'EDuc', 'education', 'Education', output_folders[1],False)"
   ]
  },
  {
   "cell_type": "markdown",
   "metadata": {},
   "source": [
    "## Column Etnia: Ethnicity"
   ]
  },
  {
   "cell_type": "code",
   "execution_count": 26,
   "metadata": {},
   "outputs": [
    {
     "name": "stdout",
     "output_type": "stream",
     "text": [
      "Etnia\n",
      "MESTIZO             33\n",
      "NINGUNA             30\n",
      "BLANCO              24\n",
      "AFRODESCENDIENTE     9\n",
      "INDÍGENA             2\n",
      "Name: count, dtype: int64\n"
     ]
    }
   ],
   "source": [
    "cali_df['Etnia'] = cali_df['Etnia'].str.strip().str.upper()\n",
    "temp_value_counts(cali_df, 'Etnia')\n",
    "create_bar_chart(cali_df, 'Etnia', 'ethnicity', 'Ethnicity', output_folders[1],False)\n",
    "create_pie_chart(cali_df, 'Etnia', 'ethnicity', 'Ethnicity', output_folders[1],False)"
   ]
  },
  {
   "cell_type": "markdown",
   "metadata": {},
   "source": [
    "## Column Age"
   ]
  },
  {
   "cell_type": "code",
   "execution_count": 27,
   "metadata": {},
   "outputs": [
    {
     "name": "stdout",
     "output_type": "stream",
     "text": [
      "Age\n",
      "47    7\n",
      "42    6\n",
      "49    5\n",
      "53    5\n",
      "43    5\n",
      "44    5\n",
      "35    5\n",
      "39    4\n",
      "36    4\n",
      "45    4\n",
      "34    4\n",
      "40    4\n",
      "64    3\n",
      "37    3\n",
      "57    3\n",
      "51    3\n",
      "55    3\n",
      "50    3\n",
      "41    3\n",
      "31    2\n",
      "61    2\n",
      "32    2\n",
      "52    2\n",
      "38    2\n",
      "46    2\n",
      "54    2\n",
      "58    2\n",
      "59    1\n",
      "60    1\n",
      "33    1\n",
      "48    1\n",
      "62    1\n",
      "Name: count, dtype: int64\n"
     ]
    }
   ],
   "source": [
    "cali_df['Age'] = pd.to_numeric(cali_df['Age'], errors='coerce')\n",
    "temp_value_counts(cali_df, 'Age')\n",
    "create_bar_chart(cali_df, 'Age', 'age', 'Age', output_folders[1],False)"
   ]
  },
  {
   "cell_type": "markdown",
   "metadata": {},
   "source": [
    "## Column Q78: Student's code"
   ]
  },
  {
   "cell_type": "code",
   "execution_count": 28,
   "metadata": {},
   "outputs": [],
   "source": [
    "cali_df['Q78'] = cali_df['Q78'].str.strip().str.upper()\n",
    "replace_dict = {\n",
    "    '(00008909547) LESLIE PATRICIA POLANCO VELASCO': '00008909547-JAVCALI',\n",
    "    'JavCali(00008909547)'  : '00008909547-JAVCALI',\n",
    "    '0000890954'            : '00008909547-JAVCALI',\n",
    "    'JAVCALI(00008909547)'  :'00008909547-JAVCALI',\n",
    "    'JAVCALI(00008909547)XIOMARA AMU':'00008909547-JAVCALI',\n",
    "    'JAVCALI00008909547'    :'00008909547-JAVCALI',\n",
    "    '00008909547'           :'00008909547-JAVCALI',\n",
    "    'JAVCALI(00008909547'   :'00008909547-JAVCALI',\n",
    "    'JAVCALI(00008909547)'  :'00008909547-JAVCALI',\n",
    "    '8968160JAVECALI'   : '00008968160-JAVCALI',\n",
    "    'JAVCALI 8959170'   : '00008959170-JAVCALI',\n",
    "    'JAVCALI(8960388)'  : '00008960388-JAVCALI',\n",
    "    'JAVCALI- (8959446)': '00008959446-JAVCALI',\n",
    "    'JAVCALI8958506'    : '00008958506-JAVCALI',\n",
    "    'JAVCALI8959955'    : '00008959955-JAVCALI',\n",
    "    'JAVCALI8963141'    : '00008963141-JAVCALI',\n",
    "    'JAVECALI8953122'   : '00008953122-JAVCALI',\n",
    "    'JAVECALI8958190'   : '00008958190-JAVCALI',\n",
    "    '8948180'           : '00008948180-JAVCALI',\n",
    "    '8958113'           : '00008958113-JAVCALI',\n",
    "    '300000121840'         : '30000121840-USBCALI',\n",
    "    '30000085639'          : '30000085639-USBCALI',\n",
    "    '30000116835'          : '30000116835-USBCALI',\n",
    "    '30000116835 USB CALI' : '30000116835-USBCALI',\n",
    "    '30000121119'          : '30000121119-USBCALI',\n",
    "    '30000121119USBCALI'   : '30000121119-USBCALI',\n",
    "    '30000121234 USBCALI'  : '30000121234-USBCALI',\n",
    "    '30000121417USBCALI'   : '30000121417-USBCALI',\n",
    "    '30000122711USB'       : '30000122711-USBCALI',\n",
    "    '30000124761USBCALI'   : '30000124761-USBCALI',\n",
    "    '3000122700USBCALI'    : '30000122700-USBCALI',\n",
    "    '3000124761USBCALI'    : '30000124761-USBCALI',\n",
    "    'USB-CALI-30000122709' : '30000122709-USBCALI',\n",
    "    'USB-CALI-30000124779' : '30000124779-USBCALI',\n",
    "    '3000000121840'        : '30000121840-USBCALI',\n",
    "    'USB30000124779'       : '30000124779-USBCALI',\n",
    "}\n",
    "cali_df['Q78'] = cali_df['Q78'].replace(replace_dict)"
   ]
  },
  {
   "cell_type": "code",
   "execution_count": 29,
   "metadata": {},
   "outputs": [
    {
     "name": "stdout",
     "output_type": "stream",
     "text": [
      "Q78\n",
      "00008909547-JAVCALI    22\n",
      "00008958190-JAVCALI     7\n",
      "00008953122-JAVCALI     5\n",
      "30000121417-USBCALI     4\n",
      "30000121840-USBCALI     4\n",
      "000346984               3\n",
      "30000121119-USBCALI     3\n",
      "30000122711-USBCALI     2\n",
      "00008958506-JAVCALI     2\n",
      "00008948180-JAVCALI     2\n",
      "30000116835-USBCALI     2\n",
      "30000122709-USBCALI     1\n",
      "30000124779-USBCALI     1\n",
      "30000124761-USBCALI     1\n",
      "00008958113-JAVCALI     1\n",
      "00008959446-JAVCALI     1\n",
      "00008960388-JAVCALI     1\n",
      "00008959955-JAVCALI     1\n",
      "00008968160-JAVCALI     1\n",
      "30000122700-USBCALI     1\n",
      "30000085639-USBCALI     1\n",
      "Name: count, dtype: int64\n"
     ]
    }
   ],
   "source": [
    "temp_value_counts(cali_df, 'Q78')\n",
    "create_bar_chart(cali_df, 'Q78', 'code', 'Code', output_folders[1],False)"
   ]
  },
  {
   "cell_type": "markdown",
   "metadata": {},
   "source": [
    "## Column Q63: First Round"
   ]
  },
  {
   "cell_type": "code",
   "execution_count": 30,
   "metadata": {},
   "outputs": [
    {
     "name": "stdout",
     "output_type": "stream",
     "text": [
      "Q64\n",
      "FEDERICO (FICO) GUTIERREZ    37\n",
      "GUSTAVO PETRO                23\n",
      "NO VOTARÍA                   18\n",
      "SERGIO FAJARDO               12\n",
      "RODOLFO HERNÁNDEZ             5\n",
      "A OTRO. CUÁL?                 4\n",
      "Name: count, dtype: int64\n"
     ]
    }
   ],
   "source": [
    "cali_df['Q64'] = cali_df['Q64'].str.strip().str.upper()\n",
    "temp_value_counts(cali_df, 'Q64')\n",
    "create_bar_chart(cali_df, 'Q64', '1st_round', 'Firts Round', output_folders[1],False)\n",
    "create_pie_chart(cali_df, 'Q64', '1st_round', 'Firts Round', output_folders[1],False)"
   ]
  },
  {
   "cell_type": "markdown",
   "metadata": {},
   "source": [
    "## Column Q63: Second Round"
   ]
  },
  {
   "cell_type": "code",
   "execution_count": 31,
   "metadata": {},
   "outputs": [
    {
     "name": "stdout",
     "output_type": "stream",
     "text": [
      "Q63\n",
      "FEDERICO (FICO) GUTIERREZ    31\n",
      "GUSTAVO PETRO                29\n",
      "NO VOTÉ                      12\n",
      "RODOLFO HERNÁNDEZ            10\n",
      "SERGIO FAJARDO                9\n",
      "NO QUIERO RESPONDER           7\n",
      "OTRO                          2\n",
      "Name: count, dtype: int64\n"
     ]
    }
   ],
   "source": [
    "cali_df['Q63'] = cali_df['Q63'].str.strip().str.upper()\n",
    "temp_value_counts(cali_df, 'Q63')\n",
    "create_bar_chart(cali_df, 'Q63', '2nd_round', 'Second Round', output_folders[1],False)\n",
    "create_pie_chart(cali_df, 'Q63', '2nd_round', 'Second Round', output_folders[1],False)"
   ]
  },
  {
   "cell_type": "markdown",
   "metadata": {},
   "source": [
    "# Georeferencing the dataset"
   ]
  },
  {
   "cell_type": "code",
   "execution_count": 32,
   "metadata": {},
   "outputs": [],
   "source": [
    "def print_map(df, save_name):\n",
    "    # Remove the rows with missing values in the column 'LocationLatitude'\n",
    "    df = df.dropna(subset=['LocationLatitude'])\n",
    "\n",
    "    # Create a folium map\n",
    "    m = folium.Map(location=[4.570868, -74.082125], zoom_start=6, projection=\"mercator\")\n",
    "\n",
    "    # Add observations to the map\n",
    "    for i in range(len(df)):\n",
    "        # Create a marker with the latitude and longitude of the observation\n",
    "        marker = folium.Marker([df.iloc[i, 1], df.iloc[i, 2]], popup=df.iloc[i, 3])\n",
    "        # Add the marker to the map\n",
    "        m.add_child(marker)\n",
    "\n",
    "    # Save the map as an HTML file\n",
    "    m.save(output_folders[1].joinpath(save_name + '.html'))\n"
   ]
  },
  {
   "cell_type": "code",
   "execution_count": 33,
   "metadata": {},
   "outputs": [],
   "source": [
    "print_map(cali_df, 'cali_map')\n",
    "print_map(df, 'colombia_map')"
   ]
  },
  {
   "cell_type": "code",
   "execution_count": 34,
   "metadata": {},
   "outputs": [
    {
     "name": "stdout",
     "output_type": "stream",
     "text": [
      "Porcentaje de personas que asignaron codigo: 66.0%\n"
     ]
    }
   ],
   "source": [
    "codigos = cali_df['Q78'].value_counts().sum()\n",
    "total = cali_df.shape[0]\n",
    "print(f'Porcentaje de personas que asignaron codigo: {100*codigos/total}%')"
   ]
  },
  {
   "cell_type": "markdown",
   "metadata": {},
   "source": [
    "## 6th Filter: Remove the columns more than 20% of null values"
   ]
  },
  {
   "cell_type": "code",
   "execution_count": 35,
   "metadata": {},
   "outputs": [],
   "source": [
    "# I want to know the number of null values in each column\n",
    "null_columns = cali_df.isnull().sum().sort_values(ascending=False)\n",
    "null_columns_percent = (cali_df.isnull().sum().sort_values(ascending=False)/cali_df.shape[1])*100\n",
    "null_columns_percent = null_columns_percent[null_columns_percent > 20]\n",
    "# I want to delte the columns with more than 20% of missing values\n",
    "cali_df = cali_df.drop(null_columns_percent.index, axis=1)\n"
   ]
  },
  {
   "cell_type": "markdown",
   "metadata": {},
   "source": [
    "## Final Size of the dataset\n"
   ]
  },
  {
   "cell_type": "code",
   "execution_count": 36,
   "metadata": {},
   "outputs": [
    {
     "name": "stdout",
     "output_type": "stream",
     "text": [
      "Number of rows: 100\n",
      "Number of columns: 107\n"
     ]
    }
   ],
   "source": [
    "print(f'Number of rows: {cali_df.shape[0]}')\n",
    "print(f'Number of columns: {cali_df.shape[1]}')"
   ]
  },
  {
   "cell_type": "code",
   "execution_count": 37,
   "metadata": {},
   "outputs": [
    {
     "name": "stdout",
     "output_type": "stream",
     "text": [
      "<class 'pandas.core.frame.DataFrame'>\n",
      "Index: 100 entries, 88 to 1186\n",
      "Columns: 107 entries, ResponseId to minutes_per_question\n",
      "dtypes: float64(10), int64(1), object(96)\n",
      "memory usage: 84.4+ KB\n"
     ]
    }
   ],
   "source": [
    "cali_df.info()"
   ]
  },
  {
   "cell_type": "code",
   "execution_count": 38,
   "metadata": {},
   "outputs": [
    {
     "data": {
      "text/plain": [
       "ResponseId               object\n",
       "LocationLatitude         object\n",
       "LocationLongitude        object\n",
       "Sex                      object\n",
       "Age                       int64\n",
       "                         ...   \n",
       "Deshum_3                float64\n",
       "Q63                      object\n",
       "Q64                      object\n",
       "Duration in minutes     float64\n",
       "minutes_per_question    float64\n",
       "Length: 107, dtype: object"
      ]
     },
     "execution_count": 38,
     "metadata": {},
     "output_type": "execute_result"
    }
   ],
   "source": [
    "cali_df.dtypes"
   ]
  },
  {
   "cell_type": "code",
   "execution_count": 39,
   "metadata": {},
   "outputs": [
    {
     "data": {
      "text/plain": [
       "ResponseId               0\n",
       "LocationLatitude         0\n",
       "LocationLongitude        0\n",
       "Sex                      2\n",
       "Age                      0\n",
       "                        ..\n",
       "Deshum_3                14\n",
       "Q63                      0\n",
       "Q64                      1\n",
       "Duration in minutes      0\n",
       "minutes_per_question     0\n",
       "Length: 107, dtype: int64"
      ]
     },
     "execution_count": 39,
     "metadata": {},
     "output_type": "execute_result"
    }
   ],
   "source": [
    "cali_df.isnull().sum()"
   ]
  },
  {
   "cell_type": "markdown",
   "metadata": {},
   "source": [
    "## Categorical Features"
   ]
  },
  {
   "cell_type": "code",
   "execution_count": 40,
   "metadata": {},
   "outputs": [
    {
     "name": "stdout",
     "output_type": "stream",
     "text": [
      "Index(['Sex', 'EDuc', 'Etnia', 'Identity Fusion_1', 'Identity Fusion_2',\n",
      "       'Identity Fusion_3', 'Identity Fusion_4', 'Identity Fusion_5',\n",
      "       'Identity Fusion_6', 'Identity Fusion_7', 'IdPol', 'IdF_1', 'IdF_2',\n",
      "       'IdF_3', 'IdF_4', 'IdF_5', 'IdF_6', 'IdF_7', 'OriPol_1', 'IdPolUribe_1',\n",
      "       'IdPolUribe_2', 'IdPolUribe_3', 'IdPolUribe_4', 'IdPolUribe_5',\n",
      "       'IdPolUribe_6', 'IdPolUribe_7', 'IdPolUribe_8', 'CollUnc_1',\n",
      "       'CollUnc_2', 'CollUnc_3', 'CollUnc_4', 'SRW_1', 'SRW_2', 'SRW_3',\n",
      "       'Q74_1', 'Q74_2', 'Q74_3', 'Q71_1', 'Q71_2', 'Q71_3', 'Q75_1', 'Q75_2',\n",
      "       'Q75_3', 'Q73_1', 'Q73_2', 'InterGcontact_1', 'InterGcontact_2',\n",
      "       'InterGcontact_3', 'InterGcontact_4', 'InterGcontact_5',\n",
      "       'InterGcontact_6', 'InterGcontact_7', 'Salment_1', 'Salment_2',\n",
      "       'Salment_3', 'Salment_4', 'Salment_5', 'Salment_6', 'Salment_7',\n",
      "       'SatVida_1', 'SatVida_2', 'SatVida_3', 'SatVida_4', 'SatVida_5',\n",
      "       'O-C-Test_1', 'O-C-Test2_1', 'O-C-T3_1', 'O-C-T4_1', 'O-C-T5_1',\n",
      "       'Q52_1', 'Q53_1', 'Q54_1', 'Q55_1', 'Q56_1', 'ActRadic_1', 'ActRadic_2',\n",
      "       'ActRadic_3', 'Q76_1', 'Q76_2', 'Q76_3', 'Q72_1', 'Q72_2', 'Q72_3',\n",
      "       'Q72_4', 'Q78_1', 'Q78_2', 'Q78_3', 'Q78_4', 'Q63', 'Q64'],\n",
      "      dtype='object')\n",
      "Number of categorial features: 90\n"
     ]
    }
   ],
   "source": [
    "categorial_features = cali_df.select_dtypes(include=['object']).columns\n",
    "categorial_features = categorial_features.drop(['ResponseId',\n",
    "                                                'LocationLatitude',\n",
    "                                                'LocationLongitude',\n",
    "                                                'Q69',\n",
    "                                                'Q70',\n",
    "                                                'Region',\n",
    "                                                ])\n",
    "print(categorial_features)\n",
    "print(f'Number of categorial features: {len(categorial_features)}')"
   ]
  },
  {
   "cell_type": "markdown",
   "metadata": {},
   "source": [
    "## Bivariate Analysis"
   ]
  },
  {
   "cell_type": "code",
   "execution_count": 41,
   "metadata": {},
   "outputs": [],
   "source": [
    "# Pendiente hacer un análisis de las variables categóricas y respecto al sexo."
   ]
  },
  {
   "cell_type": "markdown",
   "metadata": {},
   "source": [
    "## Encoding the dataset - Acuerdo - Desacuerdo"
   ]
  },
  {
   "cell_type": "code",
   "execution_count": 42,
   "metadata": {},
   "outputs": [
    {
     "name": "stdout",
     "output_type": "stream",
     "text": [
      "Index(['Identity Fusion_1', 'Identity Fusion_2', 'Identity Fusion_3',\n",
      "       'Identity Fusion_4', 'Identity Fusion_5', 'Identity Fusion_6',\n",
      "       'Identity Fusion_7', 'IdF_1', 'IdF_2', 'IdF_3', 'IdF_4', 'IdF_5',\n",
      "       'IdF_6', 'IdF_7', 'IdPolUribe_1', 'IdPolUribe_2', 'IdPolUribe_3',\n",
      "       'IdPolUribe_4', 'IdPolUribe_5', 'IdPolUribe_6', 'IdPolUribe_7',\n",
      "       'IdPolUribe_8', 'CollUnc_1', 'CollUnc_2', 'CollUnc_3', 'CollUnc_4',\n",
      "       'SRW_1', 'SRW_2', 'SRW_3', 'Q74_1', 'Q74_2', 'Q74_3', 'Q71_1', 'Q71_2',\n",
      "       'Q71_3', 'Q75_1', 'Q75_2', 'Q75_3', 'Q73_1', 'Q73_2', 'SatVida_1',\n",
      "       'SatVida_2', 'SatVida_3', 'SatVida_4', 'SatVida_5', 'ActRadic_1',\n",
      "       'ActRadic_2', 'ActRadic_3', 'Q76_1', 'Q76_2', 'Q76_3', 'Q72_1', 'Q72_2',\n",
      "       'Q72_3', 'Q72_4', 'Q78_1', 'Q78_2', 'Q78_3', 'Q78_4'],\n",
      "      dtype='object')\n"
     ]
    }
   ],
   "source": [
    "#Checkpoint\n",
    "categorial_features_acu_desac = categorial_features\n",
    "\n",
    "categorial_features_acu_desac = categorial_features_acu_desac.drop([\n",
    "    'Sex', 'EDuc', 'Etnia', 'IdPol','OriPol_1','InterGcontact_1', 'InterGcontact_2',\n",
    "    'InterGcontact_3', 'InterGcontact_4', 'InterGcontact_5', 'InterGcontact_6',\n",
    "    'InterGcontact_7', 'Salment_1', 'Salment_2', 'Salment_3', 'Salment_4',\n",
    "    'Salment_5', 'Salment_6', 'Salment_7', 'O-C-Test_1','O-C-Test2_1', 'O-C-T3_1',\n",
    "    'O-C-T4_1', 'O-C-T5_1','Q52_1', 'Q53_1', 'Q54_1', 'Q55_1', 'Q56_1',\n",
    "    'Q63', 'Q64',\n",
    "])\n",
    "print(categorial_features_acu_desac)"
   ]
  },
  {
   "cell_type": "code",
   "execution_count": 43,
   "metadata": {},
   "outputs": [],
   "source": [
    "def encode_ordinal_categories(df, column_list, mapping_dict, nan_value):\n",
    "    \"\"\"\n",
    "    Encode ordinal categorical columns in a pandas DataFrame using a provided mapping dictionary.\n",
    "\n",
    "    Args:\n",
    "        df (pandas.DataFrame): The input DataFrame containing the ordinal categorical columns.\n",
    "        column_list (list): A list of column names to be encoded.\n",
    "        mapping_dict (dict): A dictionary mapping category labels to numerical values.\n",
    "        nan_value (int): The value to use for encoding missing values.\n",
    "\n",
    "    Returns:\n",
    "        pandas.DataFrame: The input DataFrame with the specified columns encoded using the provided mapping.\n",
    "\n",
    "    Notes:\n",
    "        - The function modifies the input DataFrame in-place.\n",
    "        - Any missing values (NaN) in the encoded columns are replaced with the specified nan_value.\n",
    "        - The encoded columns are converted to the object data type.\n",
    "    \"\"\"\n",
    "    \n",
    "    for col in column_list:\n",
    "        df[col] = df[col].map(mapping_dict)\n",
    "        df[col] = df[col].fillna(nan_value).astype(object)\n",
    "    return df"
   ]
  },
  {
   "cell_type": "code",
   "execution_count": 44,
   "metadata": {},
   "outputs": [],
   "source": [
    "for col in categorial_features_acu_desac:\n",
    "    create_bar_chart(cali_df, col, f'{col}', f'{col}', output_folders[1],False)\n",
    "    create_pie_chart(cali_df, col, f'{col}', f'{col}', output_folders[1],False)"
   ]
  },
  {
   "cell_type": "code",
   "execution_count": 45,
   "metadata": {},
   "outputs": [],
   "source": [
    "mapping_dict = {'Fuertemente en desacuerdo'     : 0,\n",
    "                'En desacuerdo'                 : 1,\n",
    "                'Algo en desacuerdo'            : 2,\n",
    "                'Ni de acuerdo ni en desacuerdo': 3,\n",
    "                'Algo de acuerdo'               : 4,\n",
    "                'De acuerdo'                    : 5,\n",
    "                'Fuertemente de acuerdo'        : 6\n",
    "                }\n",
    "\n",
    "cali_df = encode_ordinal_categories(cali_df, categorial_features_acu_desac, mapping_dict,nan_value=7)"
   ]
  },
  {
   "cell_type": "markdown",
   "metadata": {},
   "source": [
    "## Encoding the dataset - Nunca - Siempre"
   ]
  },
  {
   "cell_type": "code",
   "execution_count": 46,
   "metadata": {},
   "outputs": [
    {
     "name": "stdout",
     "output_type": "stream",
     "text": [
      "Index(['InterGcontact_1', 'InterGcontact_2', 'InterGcontact_3',\n",
      "       'InterGcontact_4', 'InterGcontact_5', 'InterGcontact_6',\n",
      "       'InterGcontact_7'],\n",
      "      dtype='object')\n"
     ]
    }
   ],
   "source": [
    "categorial_features             = categorial_features.drop(categorial_features_acu_desac)\n",
    "categorical_features_nev_always = categorial_features\n",
    "\n",
    "categorical_features_nev_always = categorical_features_nev_always.drop([\n",
    "    'Sex', 'EDuc', 'Etnia', 'IdPol', 'OriPol_1', 'Salment_1',\n",
    "    'Salment_2', 'Salment_3', 'Salment_4', 'Salment_5', 'Salment_6',\n",
    "    'Salment_7', 'O-C-Test_1', 'O-C-Test2_1', 'O-C-T3_1', 'O-C-T4_1',\n",
    "    'O-C-T5_1', 'Q52_1', 'Q53_1', 'Q54_1', 'Q55_1', 'Q56_1', 'Q63', 'Q64'\n",
    "    ])\n",
    "print(categorical_features_nev_always)"
   ]
  },
  {
   "cell_type": "code",
   "execution_count": 47,
   "metadata": {},
   "outputs": [],
   "source": [
    "for col in categorical_features_nev_always:\n",
    "    create_bar_chart(cali_df, col, f'{col}', f'{col}', output_folders[1],False)\n",
    "    create_pie_chart(cali_df, col, f'{col}', f'{col}', output_folders[1],False)"
   ]
  },
  {
   "cell_type": "code",
   "execution_count": 48,
   "metadata": {},
   "outputs": [],
   "source": [
    "mapping_dict = {'Nunca'             : 0,\n",
    "                'Casi nunca'        : 1,\n",
    "                'Algunas veces'     : 2,\n",
    "                'Rara vez'          : 3,\n",
    "                'Frecuentemente'    : 4,\n",
    "                'Casi siempre'      : 5,\n",
    "                'Siempre'           : 6\n",
    "                }"
   ]
  },
  {
   "cell_type": "code",
   "execution_count": 49,
   "metadata": {},
   "outputs": [],
   "source": [
    "cali_df = encode_ordinal_categories(cali_df, categorical_features_nev_always, mapping_dict,nan_value=7)"
   ]
  },
  {
   "cell_type": "markdown",
   "metadata": {},
   "source": [
    "## Encoding the dataset - Corresponde - No Corresponde"
   ]
  },
  {
   "cell_type": "code",
   "execution_count": 50,
   "metadata": {},
   "outputs": [
    {
     "name": "stdout",
     "output_type": "stream",
     "text": [
      "Index(['Salment_1', 'Salment_2', 'Salment_3', 'Salment_4', 'Salment_5',\n",
      "       'Salment_6', 'Salment_7'],\n",
      "      dtype='object')\n"
     ]
    }
   ],
   "source": [
    "categorial_features                 = categorial_features.drop(categorical_features_nev_always)\n",
    "categorial_features_corr_no_corr    = categorial_features\n",
    "categorial_features_corr_no_corr    = categorial_features_corr_no_corr.drop([\n",
    "    'Sex', 'EDuc', 'Etnia', 'IdPol', 'OriPol_1',\n",
    "    'O-C-Test_1', 'O-C-Test2_1', 'O-C-T3_1', 'O-C-T4_1', 'O-C-T5_1',\n",
    "    'Q52_1', 'Q53_1', 'Q54_1', 'Q55_1', 'Q56_1', 'Q63', 'Q64'\n",
    "])\n",
    "print(categorial_features_corr_no_corr)"
   ]
  },
  {
   "cell_type": "code",
   "execution_count": 51,
   "metadata": {},
   "outputs": [],
   "source": [
    "for col in categorial_features_corr_no_corr:\n",
    "    create_bar_chart(cali_df, col, f'{col}', f'{col}', output_folders[1],False)\n",
    "    create_pie_chart(cali_df, col, f'{col}', f'{col}', output_folders[1],False)"
   ]
  },
  {
   "cell_type": "code",
   "execution_count": 52,
   "metadata": {},
   "outputs": [],
   "source": [
    "mapping_dict = {'No corresponden para nada con mis sentimientos'    : 0,\n",
    "                'Corresponde muy poco con mis sentimientos'         : 1,\n",
    "                'Corresponde algo con mis sentimientos'             : 2,\n",
    "                'Corresponde moderadamente con mis sentimientos'    : 4,\n",
    "                'Corresponde con mis sentimientos'                  : 3,\n",
    "                'Corresponde bastante con mis sentimientos'         : 5,\n",
    "                'Corresponden completamente con mis sentimientos'   : 6\n",
    "                }"
   ]
  },
  {
   "cell_type": "code",
   "execution_count": 53,
   "metadata": {},
   "outputs": [],
   "source": [
    "cali_df = encode_ordinal_categories(cali_df, categorial_features_corr_no_corr, mapping_dict,nan_value=7)"
   ]
  },
  {
   "cell_type": "markdown",
   "metadata": {},
   "source": [
    "## Encoding the dataset - Nada - Mucho"
   ]
  },
  {
   "cell_type": "code",
   "execution_count": 54,
   "metadata": {},
   "outputs": [
    {
     "name": "stdout",
     "output_type": "stream",
     "text": [
      "Index(['O-C-Test2_1', 'O-C-T3_1', 'Q53_1', 'Q54_1'], dtype='object')\n"
     ]
    }
   ],
   "source": [
    "categorial_features                 = categorial_features.drop(categorial_features_corr_no_corr)\n",
    "categorial_features_nada_mucho      = categorial_features\n",
    "categorial_features_nada_mucho      = categorial_features_nada_mucho.drop([\n",
    "    'Sex', 'EDuc', 'Etnia', 'IdPol', 'OriPol_1', 'O-C-Test_1',\n",
    "    'O-C-T4_1', 'O-C-T5_1', 'Q52_1',\n",
    "    'Q55_1', 'Q56_1', 'Q63', 'Q64'\n",
    "])\n",
    "print(categorial_features_nada_mucho)"
   ]
  },
  {
   "cell_type": "code",
   "execution_count": 55,
   "metadata": {},
   "outputs": [],
   "source": [
    "replace_dict = {\n",
    "    'Nada'                              : 'Nada', \n",
    "    'Un poco'                           : 'Un poco', \n",
    "    'Un poco, pero es manejable'        : 'Un poco, pero es manejable',\n",
    "    'Moderadamente, pero es manejable'  : 'Un poco, pero es manejable',\n",
    "    'Mucho'                             : 'Mucho',\n",
    "    'Interfieren bastante'              : 'Mucho',\n",
    "    'Casi a toda hora'                  : 'Siempre',\n",
    "    'Gravemente'                        : 'Siempre'\n",
    "    }\n",
    "\n",
    "for col in categorial_features_nada_mucho:\n",
    "    df[col] = df[col].str.strip().str.upper()\n",
    "    cali_df[col] = cali_df[col].replace(replace_dict)"
   ]
  },
  {
   "cell_type": "code",
   "execution_count": 56,
   "metadata": {},
   "outputs": [
    {
     "data": {
      "text/plain": [
       "Index(['O-C-Test2_1', 'O-C-T3_1', 'Q53_1', 'Q54_1'], dtype='object')"
      ]
     },
     "execution_count": 56,
     "metadata": {},
     "output_type": "execute_result"
    }
   ],
   "source": [
    "categorial_features_nada_mucho"
   ]
  },
  {
   "cell_type": "code",
   "execution_count": 57,
   "metadata": {},
   "outputs": [],
   "source": [
    "for col in categorial_features_nada_mucho:\n",
    "    create_bar_chart(cali_df, col, f'{col}', f'{col}', output_folders[1],False)\n",
    "    create_pie_chart(cali_df, col, f'{col}', f'{col}', output_folders[1],False)"
   ]
  },
  {
   "cell_type": "code",
   "execution_count": 58,
   "metadata": {},
   "outputs": [],
   "source": [
    "mapping_dict = {\n",
    "    'Nada'                          : 0,\n",
    "    'Un poco'                       : 1,\n",
    "    'Un poco, pero es manejable'    : 2,\n",
    "    'Mucho'                         : 3,\n",
    "    'Siempre'                       : 4\n",
    "    }"
   ]
  },
  {
   "cell_type": "code",
   "execution_count": 59,
   "metadata": {},
   "outputs": [],
   "source": [
    "cali_df = encode_ordinal_categories(cali_df, categorial_features_nada_mucho, mapping_dict,nan_value=5)"
   ]
  },
  {
   "cell_type": "markdown",
   "metadata": {},
   "source": [
    "## Encoding the dataset - Hora"
   ]
  },
  {
   "cell_type": "code",
   "execution_count": 60,
   "metadata": {},
   "outputs": [
    {
     "name": "stdout",
     "output_type": "stream",
     "text": [
      "Index(['O-C-Test_1', 'Q52_1'], dtype='object')\n"
     ]
    }
   ],
   "source": [
    "categorial_features = categorial_features.drop(categorial_features_nada_mucho)\n",
    "categorial_features_hora = categorial_features\n",
    "categorial_features_hora = categorial_features_hora.drop([\n",
    "    'Sex', 'EDuc', 'Etnia', 'IdPol', 'OriPol_1', 'O-C-T4_1',\n",
    "    'O-C-T5_1', 'Q55_1', 'Q56_1', 'Q63', 'Q64'\n",
    "    ])\n",
    "print(categorial_features_hora)"
   ]
  },
  {
   "cell_type": "code",
   "execution_count": 61,
   "metadata": {},
   "outputs": [],
   "source": [
    "for col in categorial_features_hora:\n",
    "    create_bar_chart(cali_df, col, f'{col}', f'{col}', output_folders[1],False)\n",
    "    create_pie_chart(cali_df, col, f'{col}', f'{col}', output_folders[1],False)"
   ]
  },
  {
   "cell_type": "code",
   "execution_count": 62,
   "metadata": {},
   "outputs": [],
   "source": [
    "mapping_dict = {\n",
    "    'Nada'                      : 0,\n",
    "    'Cerca de 1 hora al día'    : 1,\n",
    "    'Entre 1 y 3 horas al día'  : 2,\n",
    "    'Entre 3 y 8 horas al dia'  : 3,\n",
    "    'Más de 8 horas al dia'     : 4\n",
    "    }"
   ]
  },
  {
   "cell_type": "code",
   "execution_count": 63,
   "metadata": {},
   "outputs": [],
   "source": [
    "cali_df = encode_ordinal_categories(cali_df, categorial_features_hora, mapping_dict,nan_value=5)"
   ]
  },
  {
   "cell_type": "markdown",
   "metadata": {},
   "source": [
    "## Encoding the dataset - Control"
   ]
  },
  {
   "cell_type": "code",
   "execution_count": 64,
   "metadata": {},
   "outputs": [
    {
     "name": "stdout",
     "output_type": "stream",
     "text": [
      "Index(['Sex', 'EDuc', 'Etnia', 'IdPol', 'OriPol_1', 'O-C-T4_1', 'O-C-T5_1',\n",
      "       'Q55_1', 'Q56_1', 'Q63', 'Q64'],\n",
      "      dtype='object')\n"
     ]
    }
   ],
   "source": [
    "categorial_features = categorial_features.drop(categorial_features_hora)\n",
    "print(categorial_features)"
   ]
  },
  {
   "cell_type": "code",
   "execution_count": 65,
   "metadata": {},
   "outputs": [
    {
     "name": "stdout",
     "output_type": "stream",
     "text": [
      "Index(['O-C-T5_1', 'Q56_1'], dtype='object')\n"
     ]
    }
   ],
   "source": [
    "categorial_features_control = categorial_features\n",
    "categorial_features_control = categorial_features_control.drop([\n",
    "    'Sex', 'EDuc', 'Etnia', 'IdPol', 'OriPol_1', 'O-C-T4_1',\n",
    "    'Q55_1', 'Q63', 'Q64'\n",
    "    ])\n",
    "print(categorial_features_control)\n"
   ]
  },
  {
   "cell_type": "code",
   "execution_count": 66,
   "metadata": {},
   "outputs": [],
   "source": [
    "for col in categorial_features_control:\n",
    "    create_bar_chart(cali_df, col, f'{col}', f'{col}', output_folders[1],False)\n",
    "    create_pie_chart(cali_df, col, f'{col}', f'{col}', output_folders[1],False)"
   ]
  },
  {
   "cell_type": "code",
   "execution_count": 67,
   "metadata": {},
   "outputs": [],
   "source": [
    "mapping_dict = {\n",
    "    'Completo control'  : 0,\n",
    "    'Mucho control'     : 1,\n",
    "    'Algo de control'   : 2,\n",
    "    'Poco control'      : 3,\n",
    "    'Ningún control'    : 4\n",
    "    }"
   ]
  },
  {
   "cell_type": "code",
   "execution_count": 68,
   "metadata": {},
   "outputs": [],
   "source": [
    "cali_df = encode_ordinal_categories(cali_df, categorial_features_control, mapping_dict,nan_value=5)"
   ]
  },
  {
   "cell_type": "markdown",
   "metadata": {},
   "source": [
    "## Encoding the dataset - Control"
   ]
  },
  {
   "cell_type": "code",
   "execution_count": 69,
   "metadata": {},
   "outputs": [
    {
     "name": "stdout",
     "output_type": "stream",
     "text": [
      "Index(['Sex', 'EDuc', 'Etnia', 'IdPol', 'OriPol_1', 'O-C-T4_1', 'Q55_1', 'Q63',\n",
      "       'Q64'],\n",
      "      dtype='object')\n"
     ]
    }
   ],
   "source": [
    "categorial_features = categorial_features.drop(categorial_features_control)\n",
    "print(categorial_features)"
   ]
  },
  {
   "cell_type": "code",
   "execution_count": 70,
   "metadata": {},
   "outputs": [
    {
     "name": "stdout",
     "output_type": "stream",
     "text": [
      "Index(['O-C-T4_1', 'Q55_1'], dtype='object')\n"
     ]
    }
   ],
   "source": [
    "categorial_features_gana = categorial_features\n",
    "categorial_features_gana = categorial_features_gana.drop([\n",
    "    'Sex', 'EDuc', 'Etnia', 'IdPol', 'OriPol_1', 'Q63','Q64'\n",
    "    ])\n",
    "print(categorial_features_gana)"
   ]
  },
  {
   "cell_type": "code",
   "execution_count": 71,
   "metadata": {},
   "outputs": [],
   "source": [
    "for col in categorial_features_gana:\n",
    "    create_bar_chart(cali_df, col, f'{col}', f'{col}', output_folders[1],False)\n",
    "    create_pie_chart(cali_df, col, f'{col}', f'{col}', output_folders[1],False)"
   ]
  },
  {
   "cell_type": "code",
   "execution_count": 72,
   "metadata": {},
   "outputs": [],
   "source": [
    "mapping_dict = {\n",
    "    'Siempre'                           : 0,\n",
    "    'La mayor parte del tiempo'         : 1,\n",
    "    'Algunas veces'                     : 2,\n",
    "    'Rara vez. Algunas veces me ganan.' : 3,\n",
    "    'Nunca. Siempre me ganan.'          : 4\n",
    "    }"
   ]
  },
  {
   "cell_type": "code",
   "execution_count": 73,
   "metadata": {},
   "outputs": [],
   "source": [
    "cali_df = encode_ordinal_categories(cali_df, categorial_features_gana, mapping_dict,nan_value=5)"
   ]
  },
  {
   "cell_type": "markdown",
   "metadata": {},
   "source": [
    "## Encoding the dataset - Ultimas"
   ]
  },
  {
   "cell_type": "code",
   "execution_count": 74,
   "metadata": {},
   "outputs": [],
   "source": [
    "categorial_features = categorial_features.drop(categorial_features_gana)"
   ]
  },
  {
   "cell_type": "code",
   "execution_count": 75,
   "metadata": {},
   "outputs": [],
   "source": [
    "for col in categorial_features:\n",
    "    create_bar_chart(cali_df, col, f'{col}', f'{col}', output_folders[1],False)\n",
    "    create_pie_chart(cali_df, col, f'{col}', f'{col}', output_folders[1],False)"
   ]
  },
  {
   "cell_type": "code",
   "execution_count": 76,
   "metadata": {},
   "outputs": [
    {
     "name": "stdout",
     "output_type": "stream",
     "text": [
      "---------------------------------------------------\n",
      "La Variable: Sex tiene este diccionario de codificación:\n",
      "\n",
      "{'HOMBRE': 0, 'MUJER': 1, 'OTRO': 2, nan: 3}\n",
      "---------------------------------------------------\n",
      "La Variable: EDuc tiene este diccionario de codificación:\n",
      "\n",
      "{'POSGRADO': 0, 'PRESCOLAR': 1, 'PRIMARIA': 2, 'SECUNDARIA': 3, 'TÉCNICO O TECNOLÓGICO': 4, 'UNIVERSITARIO': 5, nan: 6}\n",
      "---------------------------------------------------\n",
      "La Variable: Etnia tiene este diccionario de codificación:\n",
      "\n",
      "{'AFRODESCENDIENTE': 0, 'BLANCO': 1, 'INDÍGENA': 2, 'MESTIZO': 3, 'NINGUNA': 4, nan: 5}\n",
      "---------------------------------------------------\n",
      "La Variable: IdPol tiene este diccionario de codificación:\n",
      "\n",
      "{'Otro, ¿Cuál?': 0, 'Petrista y/o de izquierda': 1, 'Principalmente petrista': 2, 'Principalmente uribista': 3, 'Sólo de derecha': 4, 'Sólo de izquierda': 5, 'Uribista y/o de derecha': 6, nan: 7}\n",
      "---------------------------------------------------\n",
      "La Variable: OriPol_1 tiene este diccionario de codificación:\n",
      "\n",
      "{'.': 0, '.Centro': 1, 'Extrema Izquierda': 2, 'Extrema derecha': 3, nan: 4}\n",
      "---------------------------------------------------\n",
      "La Variable: Q63 tiene este diccionario de codificación:\n",
      "\n",
      "{'FEDERICO (FICO) GUTIERREZ': 0, 'GUSTAVO PETRO': 1, 'NO QUIERO RESPONDER': 2, 'NO VOTÉ': 3, 'OTRO': 4, 'RODOLFO HERNÁNDEZ': 5, 'SERGIO FAJARDO': 6}\n",
      "---------------------------------------------------\n",
      "La Variable: Q64 tiene este diccionario de codificación:\n",
      "\n",
      "{'A OTRO. CUÁL?': 0, 'FEDERICO (FICO) GUTIERREZ': 1, 'GUSTAVO PETRO': 2, 'NO VOTARÍA': 3, 'RODOLFO HERNÁNDEZ': 4, 'SERGIO FAJARDO': 5, nan: 6}\n"
     ]
    }
   ],
   "source": [
    "label_encoders = {}\n",
    "\n",
    "for cate in categorial_features:\n",
    "    le = LE()\n",
    "    cali_df[cate] = le.fit_transform(cali_df[cate])\n",
    "    label_encoders[cate] = dict(zip(le.classes_, le.transform(le.classes_)))\n",
    "\n",
    "for var in categorial_features:\n",
    "    print('---------------------------------------------------')\n",
    "    print(f'La Variable: {var} tiene este diccionario de codificación:\\n')\n",
    "    print(label_encoders[var])"
   ]
  },
  {
   "cell_type": "code",
   "execution_count": 85,
   "metadata": {},
   "outputs": [
    {
     "data": {
      "image/png": "[encoded data removed]",
      "text/plain": [
       "<Figure size 800x600 with 1 Axes>"
      ]
     },
     "metadata": {},
     "output_type": "display_data"
    },
    {
     "data": {
      "image/png": "[encoded data removed]",
      "text/plain": [
       "<Figure size 800x600 with 1 Axes>"
      ]
     },
     "metadata": {},
     "output_type": "display_data"
    },
    {
     "data": {
      "image/png": "[encoded data removed]",
      "text/plain": [
       "<Figure size 800x600 with 1 Axes>"
      ]
     },
     "metadata": {},
     "output_type": "display_data"
    },
    {
     "data": {
      "image/png": "[encoded data removed]",
      "text/plain": [
       "<Figure size 800x600 with 1 Axes>"
      ]
     },
     "metadata": {},
     "output_type": "display_data"
    }
   ],
   "source": [
    "import matplotlib.pyplot as plt\n",
    "\n",
    "# Histograma para la variable 'Duration in minutes'\n",
    "plt.figure(figsize=(8, 6))\n",
    "plt.hist(cali_df['Duration in minutes'], bins=20, edgecolor='black')\n",
    "plt.title('Histograma de la variable Duration in minutes')\n",
    "plt.xlabel('Minutos')\n",
    "plt.ylabel('Frecuencia')\n",
    "plt.show()\n",
    "\n",
    "# Histograma para la variable 'minutes_per_question'\n",
    "plt.figure(figsize=(8, 6))\n",
    "plt.hist(cali_df['minutes_per_question'], bins=20, edgecolor='black')\n",
    "plt.title('Histograma de la variable minutes_per_question')\n",
    "plt.xlabel('Minutos por pregunta')\n",
    "plt.ylabel('Frecuencia')\n",
    "plt.show()\n",
    "\n",
    "# Diagrama de caja para la variable 'Duration in minutes'\n",
    "plt.figure(figsize=(8, 6))\n",
    "plt.boxplot(cali_df['Duration in minutes'])\n",
    "plt.title('Diagrama de caja de la variable Duration in minutes')\n",
    "plt.ylabel('Minutos')\n",
    "plt.show()\n",
    "\n",
    "# Diagrama de caja para la variable 'minutes_per_question'\n",
    "plt.figure(figsize=(8, 6))\n",
    "plt.boxplot(cali_df['minutes_per_question'])\n",
    "plt.title('Diagrama de caja de la variable minutes_per_question')\n",
    "plt.ylabel('Minutos por pregunta')\n",
    "plt.show()"
   ]
  },
  {
   "cell_type": "code",
   "execution_count": 84,
   "metadata": {},
   "outputs": [
    {
     "name": "stdout",
     "output_type": "stream",
     "text": [
      "2078.3166666666666\n"
     ]
    }
   ],
   "source": [
    "max_duration = cali_df['Duration in minutes'].max()\n",
    "print(max_duration)"
   ]
  },
  {
   "cell_type": "code",
   "execution_count": 86,
   "metadata": {},
   "outputs": [],
   "source": [
    "import plotly.graph_objs as go\n",
    "\n",
    "def create_hist_chart(df, column, file_name, output_folder):\n",
    "    \"\"\"\n",
    "    Crea un histograma interactivo utilizando Plotly para una columna específica de un DataFrame.\n",
    "    \n",
    "    Args:\n",
    "        df (pandas.DataFrame): DataFrame que contiene los datos.\n",
    "        column (str): Nombre de la columna para crear el histograma.\n",
    "        file_name (str): Nombre del archivo HTML de salida.\n",
    "        output_folder (str): Ruta de la carpeta de salida donde se guardará el archivo HTML.\n",
    "    \"\"\"\n",
    "    fig = go.Figure(data=[go.Histogram(x=df[column])])\n",
    "    fig.update_layout(\n",
    "        title=f'Histograma de la variable {column}',\n",
    "        xaxis_title=column.split('_')[0],\n",
    "        yaxis_title='Frecuencia'\n",
    "    )\n",
    "    fig.write_html(output_folder.joinpath('hist_chart_' + file_name + '.html'))\n",
    "\n",
    "def create_box_chart(df, column, file_name, output_folder):\n",
    "    \"\"\"\n",
    "    Crea un diagrama de caja interactivo utilizando Plotly para una columna específica de un DataFrame.\n",
    "    \n",
    "    Args:\n",
    "        df (pandas.DataFrame): DataFrame que contiene los datos.\n",
    "        column (str): Nombre de la columna para crear el diagrama de caja.\n",
    "        file_name (str): Nombre del archivo HTML de salida.\n",
    "        output_folder (str): Ruta de la carpeta de salida donde se guardará el archivo HTML.\n",
    "    \"\"\"\n",
    "    fig = go.Figure(data=[go.Box(y=df[column])])\n",
    "    fig.update_layout(\n",
    "        title=f'Diagrama de caja de la variable {column}',\n",
    "        yaxis_title=column.split('_')[0]\n",
    "    )\n",
    "    fig.write_html(output_folder.joinpath('box_chart_' + file_name + '.html'))"
   ]
  },
  {
   "cell_type": "code",
   "execution_count": 87,
   "metadata": {},
   "outputs": [],
   "source": [
    "\n",
    "create_hist_chart(cali_df, 'Duration in minutes', 'duration_minutes', output_folders[1])\n",
    "create_hist_chart(cali_df, 'minutes_per_question', 'minutes_per_question', output_folders[1])\n",
    "create_box_chart(cali_df, 'Duration in minutes', 'duration_minutes', output_folders[1])\n",
    "create_box_chart(cali_df, 'minutes_per_question', 'minutes_per_question', output_folders[1])"
   ]
  },
  {
   "cell_type": "code",
   "execution_count": null,
   "metadata": {},
   "outputs": [],
   "source": []
  },
  {
   "cell_type": "code",
   "execution_count": null,
   "metadata": {},
   "outputs": [],
   "source": []
  },
  {
   "cell_type": "code",
   "execution_count": null,
   "metadata": {},
   "outputs": [],
   "source": []
  },
  {
   "cell_type": "code",
   "execution_count": null,
   "metadata": {},
   "outputs": [],
   "source": []
  },
  {
   "cell_type": "code",
   "execution_count": null,
   "metadata": {},
   "outputs": [],
   "source": []
  },
  {
   "cell_type": "code",
   "execution_count": 83,
   "metadata": {},
   "outputs": [],
   "source": [
    "cali_df.to_csv(data_folders[1].joinpath('cali.csv'))\n",
    "cali_df.to_excel(data_folders[1].joinpath('cali.xlsx'))"
   ]
  },
  {
   "cell_type": "code",
   "execution_count": null,
   "metadata": {},
   "outputs": [],
   "source": [
    "cali_df.shape"
   ]
  }
 ],
 "metadata": {
  "kernelspec": {
   "display_name": ".venv",
   "language": "python",
   "name": "python3"
  },
  "language_info": {
   "codemirror_mode": {
    "name": "ipython",
    "version": 3
   },
   "file_extension": ".py",
   "mimetype": "text/x-python",
   "name": "python",
   "nbconvert_exporter": "python",
   "pygments_lexer": "ipython3",
   "version": "3.11.4"
  }
 },
 "nbformat": 4,
 "nbformat_minor": 2
}
