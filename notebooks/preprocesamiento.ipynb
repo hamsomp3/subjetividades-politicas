{
 "cells": [
  {
   "cell_type": "markdown",
   "metadata": {},
   "source": [
    "# Import Libraries"
   ]
  },
  {
   "cell_type": "code",
   "execution_count": null,
   "metadata": {},
   "outputs": [],
   "source": [
    "import pandas as pd\n",
    "import pathlib as pl\n",
    "import plotly.express as px\n",
    "import folium"
   ]
  },
  {
   "cell_type": "code",
   "execution_count": null,
   "metadata": {},
   "outputs": [],
   "source": [
    "def create_output_directories(base_path):\n",
    "    \"\"\"\n",
    "    Creates necessary output directories for data img and notebooks.\n",
    "    \"\"\"\n",
    "    \n",
    "    folders_to_create = ['data','img','notebooks']\n",
    "    \n",
    "    list_of_folders = []\n",
    "    \n",
    "    for main_folder in folders_to_create:\n",
    "            folder_path = base_path.joinpath(main_folder)\n",
    "            folder_path.mkdir(parents=True, exist_ok=True)\n",
    "            list_of_folders.append(folder_path)\n",
    "    \n",
    "    return list_of_folders"
   ]
  },
  {
   "cell_type": "code",
   "execution_count": null,
   "metadata": {},
   "outputs": [],
   "source": [
    "def create_data_directories(base_path):\n",
    "    \"\"\"\n",
    "    Creates necessary output directories for data img and notebooks.\n",
    "    \"\"\"\n",
    "    \n",
    "    folders_to_create = ['raw','processed']\n",
    "    \n",
    "    list_of_folders = []\n",
    "    \n",
    "    for main_folder in folders_to_create:\n",
    "            folder_path = base_path.joinpath(main_folder)\n",
    "            folder_path.mkdir(parents=True, exist_ok=True)\n",
    "            list_of_folders.append(folder_path)\n",
    "    \n",
    "    return list_of_folders"
   ]
  },
  {
   "cell_type": "code",
   "execution_count": null,
   "metadata": {},
   "outputs": [],
   "source": [
    "current_path    = pl.Path.cwd().parent\n",
    "output_folders  = create_output_directories(current_path)\n",
    "data_folders    = create_data_directories(output_folders[0])\n",
    "docs_list       = list(data_folders[0].glob('*.xlsx'))"
   ]
  },
  {
   "cell_type": "markdown",
   "metadata": {},
   "source": [
    "# Import the dataset"
   ]
  },
  {
   "cell_type": "code",
   "execution_count": null,
   "metadata": {},
   "outputs": [],
   "source": [
    "df          = pd.read_excel(docs_list[0], sheet_name='Sheet0')\n",
    "df          =    df.drop(0, axis=0)\n",
    "df['Age']   = df['Age'].str.replace(r'(años|\\. Años|AÑOS|de|Y i)', '', regex=True)\n",
    "df          = df.dropna(subset=['Age']) # Drop rows with NaN values in Age column\n",
    "df['Age']   = pd.to_numeric(df['Age'], errors='coerce')\n",
    "df          = df[(df['Age'] >= 30) & (df['Age'] <= 64)] # Set a fitler for age between 30 and 64\n",
    "df.head()"
   ]
  },
  {
   "cell_type": "code",
   "execution_count": null,
   "metadata": {},
   "outputs": [],
   "source": [
    "df.dtypes"
   ]
  },
  {
   "cell_type": "code",
   "execution_count": null,
   "metadata": {},
   "outputs": [],
   "source": [
    "columnas = df.columns # variable para borrar\n",
    "print(columnas)"
   ]
  },
  {
   "cell_type": "code",
   "execution_count": null,
   "metadata": {},
   "outputs": [],
   "source": [
    "print(f'Number of rows: {df.shape[0]}')\n",
    "print(f'Number of columns: {df.shape[1]}')\n",
    "print(f'Loss information: {100*(1-df.shape[0]/1151)}%')"
   ]
  },
  {
   "cell_type": "code",
   "execution_count": null,
   "metadata": {},
   "outputs": [],
   "source": [
    "df['Q69'] = df['Q69'].str.strip()\n",
    "df['Q69'] = df['Q69'].str.upper() \n",
    "\n",
    "#Replace the values of the colunm Q69 in the dataframe df named 'SANTIAGO DE CALI' with 'CALI'\n",
    "df['Q69'] = df['Q69'].str.strip().str.upper()\n",
    "\n",
    "# replace_dict = {\n",
    "#     'SANTIAGO DE CALI': 'CALI',\n",
    "#     'JAMUNDI': 'CALI',\n",
    "#     'PALMIRA': 'CALI',\n",
    "#     'YUMBO': 'CALI',\n",
    "#     'VALLE DEL CAUCA': 'CALI',\n",
    "#     'CAÑASGORDAS': 'CALI',\n",
    "#     'EL CERRITO': 'CALI',\n",
    "#     'JAMUNDÍ': 'CALI',\n",
    "#     'JAMUNDI, VALLE': 'CALI',\n",
    "#     'VALLE': 'CALI',\n",
    "#     'CALI VALLE': 'CALI',\n",
    "#     'CALI VALLE DEL CAUCA': 'CALI',\n",
    "#     'EN SANTIAGO SDE CALL': 'CALI',\n",
    "#     'BUENAVENTURA': 'CALI',\n",
    "#     'BUGA': 'CALI',\n",
    "#     'ZARZAL': 'CALI',\n",
    "#     'CALIMA': 'CALI',\n",
    "#     'TULUA': 'CALI',\n",
    "#     'MEDELLIN': 'MEDELLÍN',\n",
    "#     'MEDELIN': 'MEDELLÍN',\n",
    "#     'ENVIGADO': 'MEDELLÍN',\n",
    "#     'RIONEGRO': 'MEDELLÍN',\n",
    "#     'SABANETA': 'MEDELLÍN',\n",
    "#     'BELLO': 'MEDELLÍN',\n",
    "#     'GIRARDOT': 'MEDELLÍN',\n",
    "#     'ITAGUI': 'MEDELLÍN',\n",
    "#     'ITAGÜÍ': 'MEDELLÍN',\n",
    "#     'BOGOTA': 'BOGOTÁ',\n",
    "#     'BOGOTÁ D.C': 'BOGOTÁ',\n",
    "#     'BOGOTÁ D.C.': 'BOGOTÁ'\n",
    "# }\n",
    "replace_dict = {\n",
    "    'SANTIAGO DE CALI': 'CALI',\n",
    "    'CAÑASGORDAS': 'CALI',\n",
    "    'CALI VALLE': 'CALI',\n",
    "    'CALI VALLE DEL CAUCA': 'CALI',\n",
    "    'EN SANTIAGO SDE CALL': 'CALI',\n",
    "    'MEDELLIN': 'MEDELLÍN',\n",
    "    'MEDELIN': 'MEDELLÍN',\n",
    "    'ENVIGADO': 'MEDELLÍN',\n",
    "    'RIONEGRO': 'MEDELLÍN',\n",
    "    'SABANETA': 'MEDELLÍN',\n",
    "    'BELLO': 'MEDELLÍN',\n",
    "    'GIRARDOT': 'MEDELLÍN',\n",
    "    'ITAGUI': 'MEDELLÍN',\n",
    "    'ITAGÜÍ': 'MEDELLÍN',\n",
    "    'BOGOTA': 'BOGOTÁ',\n",
    "    'BOGOTÁ D.C': 'BOGOTÁ',\n",
    "    'BOGOTÁ D.C.': 'BOGOTÁ'\n",
    "}\n",
    "df['Q69'] = df['Q69'].replace(replace_dict)\n",
    "\n",
    "\n",
    "ciudades = df['Q69'].value_counts() # variable temporal para borrar\n",
    "print(ciudades)\n"
   ]
  },
  {
   "cell_type": "code",
   "execution_count": null,
   "metadata": {},
   "outputs": [],
   "source": [
    "ciudades.to_csv(data_folders[1].joinpath('ciudades.csv'))"
   ]
  },
  {
   "cell_type": "code",
   "execution_count": null,
   "metadata": {},
   "outputs": [],
   "source": [
    "def create_bar_chart(df, column_name, file_name, plot_title,output_folder):\n",
    "    unique_values = df[column_name].value_counts()\n",
    "\n",
    "    # Create a bar chart using Plotly Express\n",
    "    fig = px.bar(x=unique_values.index, y=unique_values.values)\n",
    "\n",
    "    # Update layout if needed\n",
    "    fig.update_layout(\n",
    "        title='Bar Chart of '+ plot_title,\n",
    "        xaxis_title=\"Unique Values\",\n",
    "        yaxis_title=\"Count\"\n",
    "    )\n",
    "\n",
    "    # Show the plot\n",
    "    fig.show()\n",
    "\n",
    "    # Save the plot as an HTML file\n",
    "    fig.write_html(output_folder.joinpath('bar_chart_'+file_name + '.html'))\n"
   ]
  },
  {
   "cell_type": "code",
   "execution_count": null,
   "metadata": {},
   "outputs": [],
   "source": [
    "create_bar_chart(df, 'Q69', 'cities', 'Cities', output_folders[1])"
   ]
  },
  {
   "cell_type": "code",
   "execution_count": null,
   "metadata": {},
   "outputs": [],
   "source": [
    "edades = df['Age'].value_counts().sort_index()\n",
    "# df['Age'].describe()"
   ]
  },
  {
   "cell_type": "code",
   "execution_count": null,
   "metadata": {},
   "outputs": [],
   "source": [
    "cali_df = df[df['Q69'] == 'CALI']\n",
    "cali_df.to_csv(data_folders[1].joinpath('cali.csv'))\n",
    "cali_df.to_excel(data_folders[1].joinpath('cali.xlsx'))\n",
    "cali_df.head()"
   ]
  },
  {
   "cell_type": "code",
   "execution_count": null,
   "metadata": {},
   "outputs": [],
   "source": [
    "print(f'Number of rows in Cali: {cali_df.shape[0]}')\n",
    "print(f'Number of columns in Cali: {cali_df.shape[1]}')"
   ]
  },
  {
   "cell_type": "code",
   "execution_count": null,
   "metadata": {},
   "outputs": [],
   "source": [
    "create_bar_chart(cali_df, 'Age', 'age', 'Age', output_folders[1])"
   ]
  },
  {
   "cell_type": "code",
   "execution_count": null,
   "metadata": {},
   "outputs": [],
   "source": [
    "cali_df['Q78'] = cali_df['Q78'].str.strip().str.upper()\n",
    "replace_dict = {\n",
    "    '(00008909547) LESLIE PATRICIA POLANCO VELASCO': '00008909547-JAVCALI',\n",
    "    'JavCali(00008909547)': '00008909547-JAVCALI',\n",
    "    'JAVCALI(00008909547)':'00008909547-JAVCALI',\n",
    "    'JAVCALI(00008909547)XIOMARA AMU':'00008909547-JAVCALI',\n",
    "    'JAVCALI00008909547':'00008909547-JAVCALI',\n",
    "    '00008909547':'00008909547-JAVCALI',\n",
    "    'JAVCALI(00008909547)':'00008909547-JAVCALI',\n",
    "    '8968160JAVECALI'   : '00008968160-JAVCALI',\n",
    "    'JAVCALI 8959170'   : '00008959170-JAVCALI',\n",
    "    'JAVCALI(8960388)'  : '00008960388-JAVCALI',\n",
    "    'JAVCALI- (8959446)': '00008959446-JAVCALI',\n",
    "    'JAVCALI8958506'    : '00008958506-JAVCALI',\n",
    "    'JAVCALI8959955'    : '00008959955-JAVCALI',\n",
    "    'JAVCALI8963141'    : '00008963141-JAVCALI',\n",
    "    'JAVECALI8953122'   : '00008953122-JAVCALI',\n",
    "    'JAVECALI8958190'   : '00008958190-JAVCALI',\n",
    "    '8948180'           : '00008948180-JAVCALI',\n",
    "    '8958113'           : '00008958113-JAVCALI',\n",
    "    '300000121840'         : '30000121840-USBCALI',\n",
    "    '30000085639'          : '30000085639-USBCALI',\n",
    "    '30000116835'          : '30000116835-USBCALI',\n",
    "    '30000116835 USB CALI' : '30000116835-USBCALI',\n",
    "    '30000121119'          : '30000121119-USBCALI',\n",
    "    '30000121119USBCALI'   : '30000121119-USBCALI',\n",
    "    '30000121234 USBCALI'  : '30000121234-USBCALI',\n",
    "    '30000121417USBCALI'   : '30000121417-USBCALI',\n",
    "    '30000122711USB'       : '30000122711-USBCALI',\n",
    "    '30000124761USBCALI'   : '30000124761-USBCALI',\n",
    "    '3000122700USBCALI'    : '30000122700-USBCALI',\n",
    "    '3000124761USBCALI'    : '30000124761-USBCALI',\n",
    "    'USB-CALI-30000122709' : '30000122709-USBCALI',\n",
    "    'USB-CALI-30000124779' : '30000124779-USBCALI',\n",
    "    '3000000121840'        : '30000121840-USBCALI',\n",
    "    'USB30000124779'       : '30000124779-USBCALI',\n",
    "}\n",
    "cali_df['Q78'] = cali_df['Q78'].replace(replace_dict)\n",
    "cali_df['Q78'].value_counts().sort_index()"
   ]
  },
  {
   "cell_type": "code",
   "execution_count": null,
   "metadata": {},
   "outputs": [],
   "source": [
    "create_bar_chart(cali_df, 'Q78', 'code', 'Code', output_folders[1])"
   ]
  },
  {
   "cell_type": "markdown",
   "metadata": {},
   "source": [
    "# Georeferencing the dataset"
   ]
  },
  {
   "cell_type": "code",
   "execution_count": null,
   "metadata": {},
   "outputs": [],
   "source": [
    "def print_map(df, save_name):\n",
    "    # Remove the rows with missing values in the column 'LocationLatitude'\n",
    "    df = df.dropna(subset=['LocationLatitude'])\n",
    "\n",
    "    # Create a folium map\n",
    "    m = folium.Map(location=[4.570868, -74.082125], zoom_start=6, projection=\"mercator\")\n",
    "\n",
    "    # Add observations to the map\n",
    "    for i in range(len(df)):\n",
    "        # Create a marker with the latitude and longitude of the observation\n",
    "        marker = folium.Marker([df.iloc[i, 13], df.iloc[i, 14]], popup=df.iloc[i, 18])\n",
    "        # Add the marker to the map\n",
    "        m.add_child(marker)\n",
    "\n",
    "    # Save the map as an HTML file\n",
    "    m.save(output_folders[1].joinpath(save_name + '.html'))\n"
   ]
  },
  {
   "cell_type": "code",
   "execution_count": null,
   "metadata": {},
   "outputs": [],
   "source": [
    "print_map(cali_df, 'cali_map')\n",
    "print_map(df, 'colombia_map')"
   ]
  },
  {
   "cell_type": "code",
   "execution_count": null,
   "metadata": {},
   "outputs": [],
   "source": [
    "codigos = cali_df['Q78'].value_counts().sum()\n",
    "total = cali_df.shape[0]\n",
    "print(f'Porcentaje de personas que asignaron codigo: {100*codigos/total}%')"
   ]
  }
 ],
 "metadata": {
  "kernelspec": {
   "display_name": ".venv",
   "language": "python",
   "name": "python3"
  },
  "language_info": {
   "codemirror_mode": {
    "name": "ipython",
    "version": 3
   },
   "file_extension": ".py",
   "mimetype": "text/x-python",
   "name": "python",
   "nbconvert_exporter": "python",
   "pygments_lexer": "ipython3",
   "version": "3.11.4"
  }
 },
 "nbformat": 4,
 "nbformat_minor": 2
}
