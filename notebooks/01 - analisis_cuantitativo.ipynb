{
 "cells": [
  {
   "cell_type": "markdown",
   "metadata": {},
   "source": [
    "# Import Libraries"
   ]
  },
  {
   "cell_type": "code",
   "execution_count": 1,
   "metadata": {},
   "outputs": [],
   "source": [
    "import prince\n",
    "import itertools\n",
    "import numpy as np\n",
    "import pandas as pd\n",
    "import pathlib as pl\n",
    "import seaborn as sns\n",
    "\n",
    "# from prince import MCA\n",
    "from scipy import stats\n",
    "from subjetividades import *\n",
    "import matplotlib.pyplot as plt\n",
    "from scipy.stats import shapiro\n",
    "from scipy.stats import chi2_contingency\n",
    "from matplotlib.patheffects import withStroke"
   ]
  },
  {
   "cell_type": "code",
   "execution_count": 2,
   "metadata": {},
   "outputs": [
    {
     "data": {
      "text/plain": [
       "[WindowsPath('d:/Repositorios/Vanessa - subjetividades/subjetividades-politicas/data/raw/cali.parquet')]"
      ]
     },
     "execution_count": 2,
     "metadata": {},
     "output_type": "execute_result"
    }
   ],
   "source": [
    "current_path    = pl.Path.cwd().parent\n",
    "output_folders  = create_output_directories(current_path)\n",
    "data_folders    = create_data_directories(output_folders[0])\n",
    "docs_list       = list(data_folders[0].glob('*.parquet'))\n",
    "docs_list"
   ]
  },
  {
   "cell_type": "markdown",
   "metadata": {},
   "source": [
    "# Import the dataset"
   ]
  },
  {
   "cell_type": "code",
   "execution_count": 3,
   "metadata": {},
   "outputs": [
    {
     "data": {
      "text/html": [
       "<div>\n",
       "<style scoped>\n",
       "    .dataframe tbody tr th:only-of-type {\n",
       "        vertical-align: middle;\n",
       "    }\n",
       "\n",
       "    .dataframe tbody tr th {\n",
       "        vertical-align: top;\n",
       "    }\n",
       "\n",
       "    .dataframe thead th {\n",
       "        text-align: right;\n",
       "    }\n",
       "</style>\n",
       "<table border=\"1\" class=\"dataframe\">\n",
       "  <thead>\n",
       "    <tr style=\"text-align: right;\">\n",
       "      <th></th>\n",
       "      <th>ResponseId</th>\n",
       "      <th>LocationLatitude</th>\n",
       "      <th>LocationLongitude</th>\n",
       "      <th>Sex</th>\n",
       "      <th>Age</th>\n",
       "      <th>EDuc</th>\n",
       "      <th>Etnia</th>\n",
       "      <th>Q69</th>\n",
       "      <th>Q70</th>\n",
       "      <th>Identity Fusion_1</th>\n",
       "      <th>...</th>\n",
       "      <th>Q78_2</th>\n",
       "      <th>Q78_3</th>\n",
       "      <th>Q78_4</th>\n",
       "      <th>Deshum_1</th>\n",
       "      <th>Deshum_2</th>\n",
       "      <th>Deshum_3</th>\n",
       "      <th>Q63</th>\n",
       "      <th>Q64</th>\n",
       "      <th>Duration in minutes</th>\n",
       "      <th>minutes_per_question</th>\n",
       "    </tr>\n",
       "  </thead>\n",
       "  <tbody>\n",
       "    <tr>\n",
       "      <th>88</th>\n",
       "      <td>R_1kLcWuTC7wCd3kf</td>\n",
       "      <td>3.4129</td>\n",
       "      <td>-76.5191</td>\n",
       "      <td>1</td>\n",
       "      <td>35</td>\n",
       "      <td>5</td>\n",
       "      <td>4</td>\n",
       "      <td>CALI</td>\n",
       "      <td>VALLE DEL CAUCA</td>\n",
       "      <td>2.0</td>\n",
       "      <td>...</td>\n",
       "      <td>7.0</td>\n",
       "      <td>5.0</td>\n",
       "      <td>7.0</td>\n",
       "      <td>71.0</td>\n",
       "      <td>94.0</td>\n",
       "      <td>48.0</td>\n",
       "      <td>1</td>\n",
       "      <td>2</td>\n",
       "      <td>56.133333</td>\n",
       "      <td>0.357537</td>\n",
       "    </tr>\n",
       "    <tr>\n",
       "      <th>253</th>\n",
       "      <td>R_3lS6rYyZtlfoUM0</td>\n",
       "      <td>3.4129</td>\n",
       "      <td>-76.5191</td>\n",
       "      <td>1</td>\n",
       "      <td>55</td>\n",
       "      <td>4</td>\n",
       "      <td>0</td>\n",
       "      <td>CALI</td>\n",
       "      <td>VALLE DEL CAUCA</td>\n",
       "      <td>5.0</td>\n",
       "      <td>...</td>\n",
       "      <td>7.0</td>\n",
       "      <td>7.0</td>\n",
       "      <td>7.0</td>\n",
       "      <td>18.0</td>\n",
       "      <td>18.0</td>\n",
       "      <td>15.0</td>\n",
       "      <td>3</td>\n",
       "      <td>3</td>\n",
       "      <td>25.533333</td>\n",
       "      <td>0.162633</td>\n",
       "    </tr>\n",
       "    <tr>\n",
       "      <th>255</th>\n",
       "      <td>R_2zoHnCAn6RAEMZ3</td>\n",
       "      <td>4.6913</td>\n",
       "      <td>-74.0320</td>\n",
       "      <td>1</td>\n",
       "      <td>34</td>\n",
       "      <td>5</td>\n",
       "      <td>3</td>\n",
       "      <td>CALI</td>\n",
       "      <td>VALLE DEL CAUCA</td>\n",
       "      <td>5.0</td>\n",
       "      <td>...</td>\n",
       "      <td>1.0</td>\n",
       "      <td>1.0</td>\n",
       "      <td>1.0</td>\n",
       "      <td>0.0</td>\n",
       "      <td>0.0</td>\n",
       "      <td>0.0</td>\n",
       "      <td>2</td>\n",
       "      <td>5</td>\n",
       "      <td>12.700000</td>\n",
       "      <td>0.080892</td>\n",
       "    </tr>\n",
       "    <tr>\n",
       "      <th>256</th>\n",
       "      <td>R_1dKXNeYwm48UtUJ</td>\n",
       "      <td>3.4129</td>\n",
       "      <td>-76.5191</td>\n",
       "      <td>1</td>\n",
       "      <td>55</td>\n",
       "      <td>4</td>\n",
       "      <td>0</td>\n",
       "      <td>CALI</td>\n",
       "      <td>VALLE DEL CAUCA</td>\n",
       "      <td>5.0</td>\n",
       "      <td>...</td>\n",
       "      <td>7.0</td>\n",
       "      <td>7.0</td>\n",
       "      <td>7.0</td>\n",
       "      <td>17.0</td>\n",
       "      <td>19.0</td>\n",
       "      <td>24.0</td>\n",
       "      <td>3</td>\n",
       "      <td>3</td>\n",
       "      <td>37.633333</td>\n",
       "      <td>0.239703</td>\n",
       "    </tr>\n",
       "    <tr>\n",
       "      <th>261</th>\n",
       "      <td>R_3staFjzi5giVh5F</td>\n",
       "      <td>3.4129</td>\n",
       "      <td>-76.5191</td>\n",
       "      <td>1</td>\n",
       "      <td>46</td>\n",
       "      <td>4</td>\n",
       "      <td>0</td>\n",
       "      <td>CALI</td>\n",
       "      <td>VALLE DEL CAUCA</td>\n",
       "      <td>5.0</td>\n",
       "      <td>...</td>\n",
       "      <td>5.0</td>\n",
       "      <td>5.0</td>\n",
       "      <td>7.0</td>\n",
       "      <td>100.0</td>\n",
       "      <td>50.0</td>\n",
       "      <td>100.0</td>\n",
       "      <td>1</td>\n",
       "      <td>2</td>\n",
       "      <td>123.600000</td>\n",
       "      <td>0.787261</td>\n",
       "    </tr>\n",
       "  </tbody>\n",
       "</table>\n",
       "<p>5 rows × 107 columns</p>\n",
       "</div>"
      ],
      "text/plain": [
       "            ResponseId  LocationLatitude  LocationLongitude  Sex  Age  EDuc  \\\n",
       "88   R_1kLcWuTC7wCd3kf            3.4129           -76.5191    1   35     5   \n",
       "253  R_3lS6rYyZtlfoUM0            3.4129           -76.5191    1   55     4   \n",
       "255  R_2zoHnCAn6RAEMZ3            4.6913           -74.0320    1   34     5   \n",
       "256  R_1dKXNeYwm48UtUJ            3.4129           -76.5191    1   55     4   \n",
       "261  R_3staFjzi5giVh5F            3.4129           -76.5191    1   46     4   \n",
       "\n",
       "     Etnia   Q69              Q70  Identity Fusion_1  ...  Q78_2  Q78_3  \\\n",
       "88       4  CALI  VALLE DEL CAUCA                2.0  ...    7.0    5.0   \n",
       "253      0  CALI  VALLE DEL CAUCA                5.0  ...    7.0    7.0   \n",
       "255      3  CALI  VALLE DEL CAUCA                5.0  ...    1.0    1.0   \n",
       "256      0  CALI  VALLE DEL CAUCA                5.0  ...    7.0    7.0   \n",
       "261      0  CALI  VALLE DEL CAUCA                5.0  ...    5.0    5.0   \n",
       "\n",
       "     Q78_4  Deshum_1  Deshum_2  Deshum_3 Q63  Q64  Duration in minutes  \\\n",
       "88     7.0      71.0      94.0      48.0   1    2            56.133333   \n",
       "253    7.0      18.0      18.0      15.0   3    3            25.533333   \n",
       "255    1.0       0.0       0.0       0.0   2    5            12.700000   \n",
       "256    7.0      17.0      19.0      24.0   3    3            37.633333   \n",
       "261    7.0     100.0      50.0     100.0   1    2           123.600000   \n",
       "\n",
       "     minutes_per_question  \n",
       "88               0.357537  \n",
       "253              0.162633  \n",
       "255              0.080892  \n",
       "256              0.239703  \n",
       "261              0.787261  \n",
       "\n",
       "[5 rows x 107 columns]"
      ]
     },
     "execution_count": 3,
     "metadata": {},
     "output_type": "execute_result"
    }
   ],
   "source": [
    "df = pd.read_parquet(docs_list[0])\n",
    "df.head()"
   ]
  },
  {
   "cell_type": "code",
   "execution_count": 4,
   "metadata": {},
   "outputs": [
    {
     "data": {
      "text/plain": [
       "(96, 107)"
      ]
     },
     "execution_count": 4,
     "metadata": {},
     "output_type": "execute_result"
    }
   ],
   "source": [
    "df.shape"
   ]
  },
  {
   "cell_type": "code",
   "execution_count": 5,
   "metadata": {},
   "outputs": [],
   "source": [
    "all_columns=df.columns.to_list()\n"
   ]
  },
  {
   "cell_type": "code",
   "execution_count": 6,
   "metadata": {},
   "outputs": [
    {
     "data": {
      "text/html": [
       "<div>\n",
       "<style scoped>\n",
       "    .dataframe tbody tr th:only-of-type {\n",
       "        vertical-align: middle;\n",
       "    }\n",
       "\n",
       "    .dataframe tbody tr th {\n",
       "        vertical-align: top;\n",
       "    }\n",
       "\n",
       "    .dataframe thead th {\n",
       "        text-align: right;\n",
       "    }\n",
       "</style>\n",
       "<table border=\"1\" class=\"dataframe\">\n",
       "  <thead>\n",
       "    <tr style=\"text-align: right;\">\n",
       "      <th></th>\n",
       "      <th>Sex</th>\n",
       "      <th>Age</th>\n",
       "      <th>EDuc</th>\n",
       "      <th>Etnia</th>\n",
       "      <th>Identity Fusion_1</th>\n",
       "      <th>Identity Fusion_2</th>\n",
       "      <th>Identity Fusion_3</th>\n",
       "      <th>Identity Fusion_4</th>\n",
       "      <th>Identity Fusion_5</th>\n",
       "      <th>IdPol</th>\n",
       "      <th>...</th>\n",
       "      <th>Q54_1</th>\n",
       "      <th>ActRadic_1</th>\n",
       "      <th>Q76_2</th>\n",
       "      <th>Q72_1</th>\n",
       "      <th>Q72_3</th>\n",
       "      <th>Q72_4</th>\n",
       "      <th>Q78_4</th>\n",
       "      <th>Deshum_1</th>\n",
       "      <th>Deshum_2</th>\n",
       "      <th>Deshum_3</th>\n",
       "    </tr>\n",
       "  </thead>\n",
       "  <tbody>\n",
       "    <tr>\n",
       "      <th>88</th>\n",
       "      <td>1</td>\n",
       "      <td>35</td>\n",
       "      <td>5</td>\n",
       "      <td>4</td>\n",
       "      <td>2.0</td>\n",
       "      <td>0.0</td>\n",
       "      <td>1.0</td>\n",
       "      <td>1</td>\n",
       "      <td>2.0</td>\n",
       "      <td>1</td>\n",
       "      <td>...</td>\n",
       "      <td>0</td>\n",
       "      <td>7.0</td>\n",
       "      <td>1.0</td>\n",
       "      <td>7.0</td>\n",
       "      <td>5.0</td>\n",
       "      <td>7.0</td>\n",
       "      <td>7.0</td>\n",
       "      <td>71.0</td>\n",
       "      <td>94.0</td>\n",
       "      <td>48.0</td>\n",
       "    </tr>\n",
       "    <tr>\n",
       "      <th>253</th>\n",
       "      <td>1</td>\n",
       "      <td>55</td>\n",
       "      <td>4</td>\n",
       "      <td>0</td>\n",
       "      <td>5.0</td>\n",
       "      <td>5.0</td>\n",
       "      <td>5.0</td>\n",
       "      <td>5</td>\n",
       "      <td>5.0</td>\n",
       "      <td>0</td>\n",
       "      <td>...</td>\n",
       "      <td>0</td>\n",
       "      <td>3.0</td>\n",
       "      <td>7.0</td>\n",
       "      <td>3.0</td>\n",
       "      <td>3.0</td>\n",
       "      <td>3.0</td>\n",
       "      <td>7.0</td>\n",
       "      <td>18.0</td>\n",
       "      <td>18.0</td>\n",
       "      <td>15.0</td>\n",
       "    </tr>\n",
       "    <tr>\n",
       "      <th>255</th>\n",
       "      <td>1</td>\n",
       "      <td>34</td>\n",
       "      <td>5</td>\n",
       "      <td>3</td>\n",
       "      <td>5.0</td>\n",
       "      <td>7.0</td>\n",
       "      <td>7.0</td>\n",
       "      <td>5</td>\n",
       "      <td>7.0</td>\n",
       "      <td>1</td>\n",
       "      <td>...</td>\n",
       "      <td>0</td>\n",
       "      <td>1.0</td>\n",
       "      <td>1.0</td>\n",
       "      <td>1.0</td>\n",
       "      <td>5.0</td>\n",
       "      <td>5.0</td>\n",
       "      <td>1.0</td>\n",
       "      <td>0.0</td>\n",
       "      <td>0.0</td>\n",
       "      <td>0.0</td>\n",
       "    </tr>\n",
       "    <tr>\n",
       "      <th>256</th>\n",
       "      <td>1</td>\n",
       "      <td>55</td>\n",
       "      <td>4</td>\n",
       "      <td>0</td>\n",
       "      <td>5.0</td>\n",
       "      <td>5.0</td>\n",
       "      <td>5.0</td>\n",
       "      <td>5</td>\n",
       "      <td>5.0</td>\n",
       "      <td>7</td>\n",
       "      <td>...</td>\n",
       "      <td>0</td>\n",
       "      <td>7.0</td>\n",
       "      <td>7.0</td>\n",
       "      <td>7.0</td>\n",
       "      <td>5.0</td>\n",
       "      <td>7.0</td>\n",
       "      <td>7.0</td>\n",
       "      <td>17.0</td>\n",
       "      <td>19.0</td>\n",
       "      <td>24.0</td>\n",
       "    </tr>\n",
       "    <tr>\n",
       "      <th>261</th>\n",
       "      <td>1</td>\n",
       "      <td>46</td>\n",
       "      <td>4</td>\n",
       "      <td>0</td>\n",
       "      <td>5.0</td>\n",
       "      <td>5.0</td>\n",
       "      <td>6.0</td>\n",
       "      <td>6</td>\n",
       "      <td>5.0</td>\n",
       "      <td>5</td>\n",
       "      <td>...</td>\n",
       "      <td>0</td>\n",
       "      <td>7.0</td>\n",
       "      <td>7.0</td>\n",
       "      <td>5.0</td>\n",
       "      <td>5.0</td>\n",
       "      <td>5.0</td>\n",
       "      <td>7.0</td>\n",
       "      <td>100.0</td>\n",
       "      <td>50.0</td>\n",
       "      <td>100.0</td>\n",
       "    </tr>\n",
       "  </tbody>\n",
       "</table>\n",
       "<p>5 rows × 43 columns</p>\n",
       "</div>"
      ],
      "text/plain": [
       "     Sex  Age  EDuc  Etnia  Identity Fusion_1  Identity Fusion_2  \\\n",
       "88     1   35     5      4                2.0                0.0   \n",
       "253    1   55     4      0                5.0                5.0   \n",
       "255    1   34     5      3                5.0                7.0   \n",
       "256    1   55     4      0                5.0                5.0   \n",
       "261    1   46     4      0                5.0                5.0   \n",
       "\n",
       "     Identity Fusion_3  Identity Fusion_4  Identity Fusion_5  IdPol  ...  \\\n",
       "88                 1.0                  1                2.0      1  ...   \n",
       "253                5.0                  5                5.0      0  ...   \n",
       "255                7.0                  5                7.0      1  ...   \n",
       "256                5.0                  5                5.0      7  ...   \n",
       "261                6.0                  6                5.0      5  ...   \n",
       "\n",
       "     Q54_1  ActRadic_1  Q76_2  Q72_1  Q72_3  Q72_4  Q78_4  Deshum_1  Deshum_2  \\\n",
       "88       0         7.0    1.0    7.0    5.0    7.0    7.0      71.0      94.0   \n",
       "253      0         3.0    7.0    3.0    3.0    3.0    7.0      18.0      18.0   \n",
       "255      0         1.0    1.0    1.0    5.0    5.0    1.0       0.0       0.0   \n",
       "256      0         7.0    7.0    7.0    5.0    7.0    7.0      17.0      19.0   \n",
       "261      0         7.0    7.0    5.0    5.0    5.0    7.0     100.0      50.0   \n",
       "\n",
       "     Deshum_3  \n",
       "88       48.0  \n",
       "253      15.0  \n",
       "255       0.0  \n",
       "256      24.0  \n",
       "261     100.0  \n",
       "\n",
       "[5 rows x 43 columns]"
      ]
     },
     "execution_count": 6,
     "metadata": {},
     "output_type": "execute_result"
    }
   ],
   "source": [
    "lista_columns = ['Sex', 'Age', 'EDuc', 'Etnia', 'Identity Fusion_1', 'Identity Fusion_2', 'Identity Fusion_3', 'Identity Fusion_4', 'Identity Fusion_5', 'IdPol', 'IdF_1', 'IdF_3', 'IdF_4', 'IdF_5', 'CollUnc_1', 'CollUnc_3', 'CollUnc_4', 'SRW_1', 'SRW_3', 'Q74_1', 'Q74_2', 'Q74_3', 'Q71_3', 'Q75_3', 'InterGcontact_2', 'InterGcontact_4', 'InterGcontact_7', 'Salment_1', 'Salment_2', 'Salment_6', 'O-C-Test_1','O-C-T3_1', 'Q52_1', 'Q54_1', 'ActRadic_1', 'Q76_2', 'Q72_1', 'Q72_3', 'Q72_4', 'Q78_4', 'Deshum_1', 'Deshum_2', 'Deshum_3']\n",
    "#create a subset of the data named df_subset with the columns in lista_columns\n",
    "df = df[lista_columns]\n",
    "\n",
    "\n",
    "df.head()"
   ]
  },
  {
   "cell_type": "code",
   "execution_count": 7,
   "metadata": {},
   "outputs": [
    {
     "data": {
      "text/plain": [
       "<bound method DataFrame.info of       Sex  Age  EDuc  Etnia  Identity Fusion_1  Identity Fusion_2  \\\n",
       "88      1   35     5      4                2.0                0.0   \n",
       "253     1   55     4      0                5.0                5.0   \n",
       "255     1   34     5      3                5.0                7.0   \n",
       "256     1   55     4      0                5.0                5.0   \n",
       "261     1   46     4      0                5.0                5.0   \n",
       "...   ...  ...   ...    ...                ...                ...   \n",
       "1175    1   44     0      3                3.0                5.0   \n",
       "1178    1   49     5      3                6.0                5.0   \n",
       "1179    0   39     0      3                4.0                4.0   \n",
       "1180    1   49     5      1                5.0                5.0   \n",
       "1186    1   45     4      3                5.0                5.0   \n",
       "\n",
       "      Identity Fusion_3  Identity Fusion_4  Identity Fusion_5  IdPol  ...  \\\n",
       "88                  1.0                  1                2.0      1  ...   \n",
       "253                 5.0                  5                5.0      0  ...   \n",
       "255                 7.0                  5                7.0      1  ...   \n",
       "256                 5.0                  5                5.0      7  ...   \n",
       "261                 6.0                  6                5.0      5  ...   \n",
       "...                 ...                ...                ...    ...  ...   \n",
       "1175                5.0                  5                4.0      4  ...   \n",
       "1178                6.0                  6                6.0      6  ...   \n",
       "1179                5.0                  3                3.0      0  ...   \n",
       "1180                6.0                  4                1.0      0  ...   \n",
       "1186                5.0                  5                2.0      4  ...   \n",
       "\n",
       "      Q54_1  ActRadic_1  Q76_2  Q72_1  Q72_3  Q72_4  Q78_4  Deshum_1  \\\n",
       "88        0         7.0    1.0    7.0    5.0    7.0    7.0      71.0   \n",
       "253       0         3.0    7.0    3.0    3.0    3.0    7.0      18.0   \n",
       "255       0         1.0    1.0    1.0    5.0    5.0    1.0       0.0   \n",
       "256       0         7.0    7.0    7.0    5.0    7.0    7.0      17.0   \n",
       "261       0         7.0    7.0    5.0    5.0    5.0    7.0     100.0   \n",
       "...     ...         ...    ...    ...    ...    ...    ...       ...   \n",
       "1175      0         7.0    7.0    7.0    7.0    7.0    7.0       0.0   \n",
       "1178      0         7.0    7.0    1.0    7.0    5.0    7.0     100.0   \n",
       "1179      0         7.0    7.0    7.0    3.0    7.0    7.0      70.0   \n",
       "1180      2         7.0    7.0    7.0    7.0    7.0    7.0      18.0   \n",
       "1186      1         7.0    7.0    1.0    7.0    7.0    7.0      62.0   \n",
       "\n",
       "      Deshum_2  Deshum_3  \n",
       "88        94.0      48.0  \n",
       "253       18.0      15.0  \n",
       "255        0.0       0.0  \n",
       "256       19.0      24.0  \n",
       "261       50.0     100.0  \n",
       "...        ...       ...  \n",
       "1175     100.0     100.0  \n",
       "1178       3.0     100.0  \n",
       "1179      70.0      90.0  \n",
       "1180     100.0      62.0  \n",
       "1186      31.0      78.0  \n",
       "\n",
       "[96 rows x 43 columns]>"
      ]
     },
     "execution_count": 7,
     "metadata": {},
     "output_type": "execute_result"
    }
   ],
   "source": [
    "df.info"
   ]
  },
  {
   "cell_type": "code",
   "execution_count": 8,
   "metadata": {},
   "outputs": [
    {
     "data": {
      "text/plain": [
       "Sex                    int32\n",
       "Age                    int64\n",
       "EDuc                   int32\n",
       "Etnia                  int32\n",
       "Identity Fusion_1    float64\n",
       "Identity Fusion_2    float64\n",
       "Identity Fusion_3    float64\n",
       "Identity Fusion_4      int64\n",
       "Identity Fusion_5    float64\n",
       "IdPol                  int32\n",
       "IdF_1                float64\n",
       "IdF_3                float64\n",
       "IdF_4                float64\n",
       "IdF_5                float64\n",
       "CollUnc_1            float64\n",
       "CollUnc_3            float64\n",
       "CollUnc_4            float64\n",
       "SRW_1                float64\n",
       "SRW_3                float64\n",
       "Q74_1                float64\n",
       "Q74_2                float64\n",
       "Q74_3                float64\n",
       "Q71_3                float64\n",
       "Q75_3                float64\n",
       "InterGcontact_2      float64\n",
       "InterGcontact_4        int64\n",
       "InterGcontact_7        int64\n",
       "Salment_1              int64\n",
       "Salment_2            float64\n",
       "Salment_6            float64\n",
       "O-C-Test_1             int64\n",
       "O-C-T3_1             float64\n",
       "Q52_1                  int64\n",
       "Q54_1                  int64\n",
       "ActRadic_1           float64\n",
       "Q76_2                float64\n",
       "Q72_1                float64\n",
       "Q72_3                float64\n",
       "Q72_4                float64\n",
       "Q78_4                float64\n",
       "Deshum_1             float64\n",
       "Deshum_2             float64\n",
       "Deshum_3             float64\n",
       "dtype: object"
      ]
     },
     "execution_count": 8,
     "metadata": {},
     "output_type": "execute_result"
    }
   ],
   "source": [
    "df.dtypes"
   ]
  },
  {
   "cell_type": "code",
   "execution_count": 9,
   "metadata": {},
   "outputs": [
    {
     "name": "stdout",
     "output_type": "stream",
     "text": [
      "39\n",
      "43\n"
     ]
    },
    {
     "data": {
      "text/plain": [
       "['Sex',\n",
       " 'EDuc',\n",
       " 'Etnia',\n",
       " 'Identity Fusion_1',\n",
       " 'Identity Fusion_2',\n",
       " 'Identity Fusion_3',\n",
       " 'Identity Fusion_4',\n",
       " 'Identity Fusion_5',\n",
       " 'IdPol',\n",
       " 'IdF_1',\n",
       " 'IdF_3',\n",
       " 'IdF_4',\n",
       " 'IdF_5',\n",
       " 'CollUnc_1',\n",
       " 'CollUnc_3',\n",
       " 'CollUnc_4',\n",
       " 'SRW_1',\n",
       " 'SRW_3',\n",
       " 'Q74_1',\n",
       " 'Q74_2',\n",
       " 'Q74_3',\n",
       " 'Q71_3',\n",
       " 'Q75_3',\n",
       " 'InterGcontact_2',\n",
       " 'InterGcontact_4',\n",
       " 'InterGcontact_7',\n",
       " 'Salment_1',\n",
       " 'Salment_2',\n",
       " 'Salment_6',\n",
       " 'O-C-Test_1',\n",
       " 'O-C-T3_1',\n",
       " 'Q52_1',\n",
       " 'Q54_1',\n",
       " 'ActRadic_1',\n",
       " 'Q76_2',\n",
       " 'Q72_1',\n",
       " 'Q72_3',\n",
       " 'Q72_4',\n",
       " 'Q78_4']"
      ]
     },
     "execution_count": 9,
     "metadata": {},
     "output_type": "execute_result"
    }
   ],
   "source": [
    "all_features = [\n",
    "    'ResponseId', 'Sex', 'EDuc', 'Etnia', 'Identity Fusion_1', 'Identity Fusion_2',\n",
    "    'Identity Fusion_3', 'Identity Fusion_4', 'Identity Fusion_5',\n",
    "    'Identity Fusion_6', 'Identity Fusion_7', 'IdPol', 'IdF_1', 'IdF_2',\n",
    "    'IdF_3', 'IdF_4', 'IdF_5', 'IdF_6', 'IdF_7', 'OriPol_1', 'IdPolUribe_1',\n",
    "    'IdPolUribe_2', 'IdPolUribe_3', 'IdPolUribe_4', 'IdPolUribe_5',\n",
    "    'IdPolUribe_6', 'IdPolUribe_7', 'IdPolUribe_8', 'CollUnc_1',\n",
    "    'CollUnc_2', 'CollUnc_3', 'CollUnc_4', 'SRW_1', 'SRW_2', 'SRW_3',\n",
    "    'Q74_1', 'Q74_2', 'Q74_3', 'Q71_1', 'Q71_2', 'Q71_3', 'Q75_1', 'Q75_2',\n",
    "    'Q75_3', 'Q73_1', 'Q73_2', 'InterGcontact_1', 'InterGcontact_2',\n",
    "    'InterGcontact_3', 'InterGcontact_4', 'InterGcontact_5',\n",
    "    'InterGcontact_6', 'InterGcontact_7', 'Salment_1', 'Salment_2',\n",
    "    'Salment_3', 'Salment_4', 'Salment_5', 'Salment_6', 'Salment_7',\n",
    "    'SatVida_1', 'SatVida_2', 'SatVida_3', 'SatVida_4', 'SatVida_5',\n",
    "    'O-C-Test_1', 'O-C-Test2_1', 'O-C-T3_1', 'O-C-T4_1', 'O-C-T5_1',\n",
    "    'Q52_1', 'Q53_1', 'Q54_1', 'Q55_1', 'Q56_1', 'ActRadic_1', 'ActRadic_2',\n",
    "    'ActRadic_3', 'Q76_1', 'Q76_2', 'Q76_3', 'Q72_1', 'Q72_2', 'Q72_3',\n",
    "    'Q72_4', 'Q78_1', 'Q78_2', 'Q78_3', 'Q78_4', 'Q63', 'Q64']\n",
    "\n",
    "# I want to remove the elements of the list of all_features that are not in the list lista_columns\n",
    "all_features = [x for x in all_features if x in lista_columns]\n",
    "\n",
    "print(len(all_features))\n",
    "print(len(lista_columns))\n",
    "\n",
    "all_features"
   ]
  },
  {
   "cell_type": "code",
   "execution_count": 10,
   "metadata": {},
   "outputs": [
    {
     "name": "stdout",
     "output_type": "stream",
     "text": [
      "Number of categorial features: 39\n",
      "Number of numerical features: 4\n"
     ]
    }
   ],
   "source": [
    "# categorical_features = df.select_dtypes(include=['object']).columns\n",
    "categorical_features = all_features\n",
    "df[categorical_features] = df[categorical_features].astype('object')\n",
    "\n",
    "print(f'Number of categorial features: {len(categorical_features)}')\n",
    "print(f'Number of numerical features: {df.shape[1] - len(categorical_features)}')"
   ]
  },
  {
   "cell_type": "code",
   "execution_count": 11,
   "metadata": {},
   "outputs": [
    {
     "name": "stdout",
     "output_type": "stream",
     "text": [
      "Total number of features: 43\n"
     ]
    },
    {
     "data": {
      "text/plain": [
       "['Age', 'Deshum_1', 'Deshum_2', 'Deshum_3']"
      ]
     },
     "execution_count": 11,
     "metadata": {},
     "output_type": "execute_result"
    }
   ],
   "source": [
    "total_features = df.columns.to_list()\n",
    "total_features\n",
    "print(f'Total number of features: {len(total_features)}')\n",
    "\n",
    "\n",
    "numerical_features = [feature for feature in total_features if feature not in categorical_features]\n",
    "df[numerical_features] = df[numerical_features].astype('int')\n",
    "\n",
    "numerical_features"
   ]
  },
  {
   "cell_type": "markdown",
   "metadata": {},
   "source": [
    "# Descriptive analysis for Numerical features"
   ]
  },
  {
   "cell_type": "code",
   "execution_count": 12,
   "metadata": {},
   "outputs": [],
   "source": [
    "descriptive_stats = df[numerical_features].describe().round(3)\n",
    "descriptive_stats\n",
    "descriptive_stats.to_excel(data_folders[1].joinpath('descriptive_stats.xlsx'))"
   ]
  },
  {
   "cell_type": "markdown",
   "metadata": {},
   "source": [
    "# Normality test for Numerical features"
   ]
  },
  {
   "cell_type": "code",
   "execution_count": 13,
   "metadata": {},
   "outputs": [
    {
     "name": "stdout",
     "output_type": "stream",
     "text": [
      "Age - Shapiro-Wilk Test: Statistic=0.9691, p-value=0.023\n",
      "Deshum_1 - Shapiro-Wilk Test: Statistic=0.8184, p-value=0.0\n",
      "Deshum_2 - Shapiro-Wilk Test: Statistic=0.8442, p-value=0.0\n",
      "Deshum_3 - Shapiro-Wilk Test: Statistic=0.8479, p-value=0.0\n"
     ]
    },
    {
     "name": "stderr",
     "output_type": "stream",
     "text": [
      "C:\\Users\\hamso\\AppData\\Local\\Temp\\ipykernel_9728\\1490278103.py:12: FutureWarning: The behavior of DataFrame concatenation with empty or all-NA entries is deprecated. In a future version, this will no longer exclude empty or all-NA columns when determining the result dtypes. To retain the old behavior, exclude the relevant entries before the concat operation.\n",
      "  df2 = pd.concat([df2, pd.DataFrame(rows2)], ignore_index=True)\n"
     ]
    }
   ],
   "source": [
    "# Test de Shapiro-Wilk para evaluar la normalidad\n",
    "normality_results = {}\n",
    "df2 = pd.DataFrame(columns=['Feature', 'Result', 'p-value'])\n",
    "rows2 = []\n",
    "\n",
    "for feature in numerical_features:\n",
    "    stat, p_value = shapiro(df[feature].dropna())  # Eliminar NaNs para el test\n",
    "    # normality_results[feature] = {'Statistic': stat, 'p-value': p_value}\n",
    "    normality_results[feature] = {'Statistic': round(stat, 4), 'p-value': round(p_value, 4)}\n",
    "    rows2.append({'Feature':feature, 'Result':stat, 'p-value': p_value})\n",
    "\n",
    "df2 = pd.concat([df2, pd.DataFrame(rows2)], ignore_index=True)\n",
    "df2.to_excel(data_folders[1].joinpath('shapiro_results.xlsx'))\n",
    "\n",
    "# Mostrar los resultados\n",
    "for feature, result in normality_results.items():\n",
    "    print(f\"{feature} - Shapiro-Wilk Test: Statistic={result['Statistic']}, p-value={result['p-value']}\")\n"
   ]
  },
  {
   "cell_type": "markdown",
   "metadata": {},
   "source": [
    "# Correlations between Numerical features"
   ]
  },
  {
   "cell_type": "code",
   "execution_count": 14,
   "metadata": {},
   "outputs": [],
   "source": [
    "def stars(p):\n",
    "    \"\"\"\n",
    "    Returns a string of asterisks (*) based on the significance level (alpha value) of a statistical test.\n",
    "\n",
    "    Args:\n",
    "        p (float): the p-value of the statistical test\n",
    "\n",
    "    Returns:\n",
    "        A string of asterisks indicating the significance level, as follows:\n",
    "        - five asterisks (*****): alpha value is 0.0001 or 0.01% with 99.99% confidence\n",
    "        - four asterisks (****): alpha value is 0.001 or 0.1% with 99.9% confidence\n",
    "        - three asterisks (***): alpha value is 0.01 or 1% with 99% confidence\n",
    "        - two asterisks (**): alpha value is 0.05 or 5% with 95% confidence\n",
    "        - one asterisk (*): alpha value is 0.1 or 10% with 90% confidence\n",
    "        - empty string (''): alpha value is greater than or equal to 0.1\n",
    "    \"\"\"\n",
    "    if p < 0.0001:\n",
    "        return '*****'\n",
    "    elif p < 0.001:\n",
    "        return '****'\n",
    "    elif p < 0.01:\n",
    "        return '***'\n",
    "    elif p < 0.05:\n",
    "        return '**'\n",
    "    elif p < 0.1:\n",
    "        return '*'\n",
    "    else:\n",
    "        return ''"
   ]
  },
  {
   "cell_type": "code",
   "execution_count": 15,
   "metadata": {},
   "outputs": [],
   "source": [
    "def plot_correlations(dataframe, corr_methods):\n",
    "    for method in corr_methods:\n",
    "        stroke = withStroke(linewidth=2, foreground='black')\n",
    "        corr_matrix = dataframe.corr(method=method)\n",
    "        pval_matrix = dataframe.corr(method=lambda x, y: stats.pearsonr(x, y)[1])\n",
    "\n",
    "        # Create a mask to show only the lower triangle of the matrix\n",
    "        mask = np.triu(np.ones_like(corr_matrix))\n",
    "        mask2 = np.tril(np.ones_like(corr_matrix))\n",
    "        stars_corr = pval_matrix * mask2 + mask\n",
    "        pval_stars = stars_corr.applymap(stars)\n",
    "        color_palette = sns.color_palette(\"Blues\")\n",
    "        with sns.axes_style(\"whitegrid\"):\n",
    "            f, ax = plt.subplots(figsize=(12, 10))\n",
    "            ax = sns.heatmap(corr_matrix.round(4),\n",
    "                             mask=mask,\n",
    "                             vmax=1,\n",
    "                             center=0,\n",
    "                             vmin=-1,\n",
    "                             square=True,\n",
    "                             cmap=sns.cubehelix_palette(8, start=.5, rot=-.75, as_cmap=True),\n",
    "                             linewidths=.5,\n",
    "                             annot=True,\n",
    "                             annot_kws={\"size\": 12},\n",
    "                             fmt='.2f')\n",
    "            ax.set_title(f'{method.capitalize()} Correlations Matrix', fontsize=20)\n",
    "            plt.xticks(fontsize=9)\n",
    "            plt.yticks(fontsize=9)\n",
    "            \n",
    "            for i, j in itertools.product(range(corr_matrix.shape[0]), range(corr_matrix.shape[0])):\n",
    "                ax.text(j + 0.5, i + 0.8, pval_stars.iloc[i, j], ha='center', va='center', color='white', fontsize=18,path_effects=[stroke])\n",
    "\n",
    "            plt.savefig(output_folders[1].joinpath(f'correlation_vi_{method.capitalize()}_triangular_stage.png'), dpi=300, bbox_inches='tight')\n",
    "            plt.savefig(output_folders[1].joinpath(f'correlation_vi_{method.capitalize()}_triangular_stage.eps'), dpi=300, format='eps', bbox_inches='tight')\n",
    "            plt.show()"
   ]
  },
  {
   "cell_type": "code",
   "execution_count": 16,
   "metadata": {},
   "outputs": [
    {
     "name": "stderr",
     "output_type": "stream",
     "text": [
      "C:\\Users\\hamso\\AppData\\Local\\Temp\\ipykernel_9728\\162625470.py:11: FutureWarning: DataFrame.applymap has been deprecated. Use DataFrame.map instead.\n",
      "  pval_stars = stars_corr.applymap(stars)\n"
     ]
    },
    {
     "data": {
      "image/png": "[encoded data removed]",
      "text/plain": [
       "<Figure size 1200x1000 with 2 Axes>"
      ]
     },
     "metadata": {},
     "output_type": "display_data"
    },
    {
     "name": "stderr",
     "output_type": "stream",
     "text": [
      "C:\\Users\\hamso\\AppData\\Local\\Temp\\ipykernel_9728\\162625470.py:11: FutureWarning: DataFrame.applymap has been deprecated. Use DataFrame.map instead.\n",
      "  pval_stars = stars_corr.applymap(stars)\n"
     ]
    },
    {
     "data": {
      "image/png": "[encoded data removed]",
      "text/plain": [
       "<Figure size 1200x1000 with 2 Axes>"
      ]
     },
     "metadata": {},
     "output_type": "display_data"
    },
    {
     "name": "stderr",
     "output_type": "stream",
     "text": [
      "C:\\Users\\hamso\\AppData\\Local\\Temp\\ipykernel_9728\\162625470.py:11: FutureWarning: DataFrame.applymap has been deprecated. Use DataFrame.map instead.\n",
      "  pval_stars = stars_corr.applymap(stars)\n"
     ]
    },
    {
     "data": {
      "image/png": "[encoded data removed]",
      "text/plain": [
       "<Figure size 1200x1000 with 2 Axes>"
      ]
     },
     "metadata": {},
     "output_type": "display_data"
    }
   ],
   "source": [
    "correlation_methods = ['pearson','spearman','kendall']\n",
    "plot_correlations(df[numerical_features],correlation_methods)"
   ]
  },
  {
   "cell_type": "code",
   "execution_count": 17,
   "metadata": {},
   "outputs": [
    {
     "name": "stdout",
     "output_type": "stream",
     "text": [
      "Distribución de EDuc:\n",
      "EDuc\n",
      "5    0.354167\n",
      "4    0.260417\n",
      "0    0.229167\n",
      "3    0.125000\n",
      "2    0.010417\n",
      "1    0.010417\n",
      "6    0.010417\n",
      "Name: proportion, dtype: float64\n",
      "\n",
      "\n",
      "Distribución de Etnia:\n",
      "Etnia\n",
      "3    0.343750\n",
      "4    0.270833\n",
      "1    0.250000\n",
      "0    0.093750\n",
      "2    0.020833\n",
      "5    0.020833\n",
      "Name: proportion, dtype: float64\n",
      "\n",
      "\n",
      "Distribución de Identity Fusion_1:\n",
      "Identity Fusion_1\n",
      "5.0    0.427083\n",
      "6.0    0.156250\n",
      "2.0    0.114583\n",
      "4.0    0.093750\n",
      "3.0    0.072917\n",
      "0.0    0.062500\n",
      "1.0    0.062500\n",
      "7.0    0.010417\n",
      "Name: proportion, dtype: float64\n",
      "\n",
      "\n",
      "Distribución de Identity Fusion_2:\n",
      "Identity Fusion_2\n",
      "5.0    0.531250\n",
      "6.0    0.270833\n",
      "4.0    0.062500\n",
      "7.0    0.052083\n",
      "0.0    0.031250\n",
      "2.0    0.031250\n",
      "3.0    0.020833\n",
      "Name: proportion, dtype: float64\n",
      "\n",
      "\n",
      "Distribución de Identity Fusion_3:\n",
      "Identity Fusion_3\n",
      "5.0    0.531250\n",
      "6.0    0.281250\n",
      "4.0    0.072917\n",
      "1.0    0.031250\n",
      "7.0    0.031250\n",
      "3.0    0.031250\n",
      "0.0    0.010417\n",
      "2.0    0.010417\n",
      "Name: proportion, dtype: float64\n",
      "\n",
      "\n",
      "Distribución de Identity Fusion_4:\n",
      "Identity Fusion_4\n",
      "5    0.489583\n",
      "6    0.218750\n",
      "4    0.093750\n",
      "2    0.062500\n",
      "1    0.052083\n",
      "3    0.052083\n",
      "0    0.031250\n",
      "Name: proportion, dtype: float64\n",
      "\n",
      "\n",
      "Distribución de Identity Fusion_5:\n",
      "Identity Fusion_5\n",
      "5.0    0.291667\n",
      "4.0    0.270833\n",
      "3.0    0.166667\n",
      "1.0    0.093750\n",
      "2.0    0.072917\n",
      "6.0    0.072917\n",
      "7.0    0.020833\n",
      "0.0    0.010417\n",
      "Name: proportion, dtype: float64\n",
      "\n",
      "\n",
      "Distribución de IdPol:\n",
      "IdPol\n",
      "0    0.302083\n",
      "4    0.208333\n",
      "6    0.187500\n",
      "5    0.104167\n",
      "1    0.083333\n",
      "2    0.072917\n",
      "3    0.031250\n",
      "7    0.010417\n",
      "Name: proportion, dtype: float64\n",
      "\n",
      "\n",
      "Distribución de IdF_1:\n",
      "IdF_1\n",
      "5.0    0.260417\n",
      "3.0    0.208333\n",
      "4.0    0.197917\n",
      "1.0    0.156250\n",
      "7.0    0.114583\n",
      "2.0    0.062500\n",
      "Name: proportion, dtype: float64\n",
      "\n",
      "\n",
      "Distribución de IdF_3:\n",
      "IdF_3\n",
      "4.0    0.239583\n",
      "3.0    0.239583\n",
      "1.0    0.177083\n",
      "5.0    0.166667\n",
      "7.0    0.114583\n",
      "2.0    0.062500\n",
      "Name: proportion, dtype: float64\n",
      "\n",
      "\n",
      "Distribución de IdF_4:\n",
      "IdF_4\n",
      "3.0    0.229167\n",
      "4.0    0.229167\n",
      "5.0    0.145833\n",
      "1.0    0.145833\n",
      "7.0    0.135417\n",
      "2.0    0.114583\n",
      "Name: proportion, dtype: float64\n",
      "\n",
      "\n",
      "Distribución de IdF_5:\n",
      "IdF_5\n",
      "3.0    0.239583\n",
      "4.0    0.218750\n",
      "1.0    0.197917\n",
      "5.0    0.145833\n",
      "7.0    0.135417\n",
      "2.0    0.062500\n",
      "Name: proportion, dtype: float64\n",
      "\n",
      "\n",
      "Distribución de CollUnc_1:\n",
      "CollUnc_1\n",
      "7.0    0.489583\n",
      "5.0    0.479167\n",
      "3.0    0.020833\n",
      "1.0    0.010417\n",
      "Name: proportion, dtype: float64\n",
      "\n",
      "\n",
      "Distribución de CollUnc_3:\n",
      "CollUnc_3\n",
      "7.0    0.500000\n",
      "5.0    0.406250\n",
      "3.0    0.052083\n",
      "1.0    0.041667\n",
      "Name: proportion, dtype: float64\n",
      "\n",
      "\n",
      "Distribución de CollUnc_4:\n",
      "CollUnc_4\n",
      "7.0    0.416667\n",
      "5.0    0.406250\n",
      "3.0    0.093750\n",
      "1.0    0.083333\n",
      "Name: proportion, dtype: float64\n",
      "\n",
      "\n",
      "Distribución de SRW_1:\n",
      "SRW_1\n",
      "7.0    0.489583\n",
      "5.0    0.427083\n",
      "1.0    0.041667\n",
      "3.0    0.041667\n",
      "Name: proportion, dtype: float64\n",
      "\n",
      "\n",
      "Distribución de SRW_3:\n",
      "SRW_3\n",
      "7.0    0.406250\n",
      "5.0    0.395833\n",
      "3.0    0.125000\n",
      "1.0    0.072917\n",
      "Name: proportion, dtype: float64\n",
      "\n",
      "\n",
      "Distribución de Q74_1:\n",
      "Q74_1\n",
      "5.0    0.500000\n",
      "7.0    0.427083\n",
      "3.0    0.052083\n",
      "1.0    0.020833\n",
      "Name: proportion, dtype: float64\n",
      "\n",
      "\n",
      "Distribución de Q74_2:\n",
      "Q74_2\n",
      "7.0    0.385417\n",
      "5.0    0.281250\n",
      "3.0    0.166667\n",
      "1.0    0.166667\n",
      "Name: proportion, dtype: float64\n",
      "\n",
      "\n",
      "Distribución de Q74_3:\n",
      "Q74_3\n",
      "7.0    0.375000\n",
      "5.0    0.322917\n",
      "3.0    0.208333\n",
      "1.0    0.093750\n",
      "Name: proportion, dtype: float64\n",
      "\n",
      "\n",
      "Distribución de Q71_3:\n",
      "Q71_3\n",
      "5.0    0.437500\n",
      "7.0    0.312500\n",
      "3.0    0.208333\n",
      "1.0    0.041667\n",
      "Name: proportion, dtype: float64\n",
      "\n",
      "\n",
      "Distribución de Q75_3:\n",
      "Q75_3\n",
      "5.0    0.395833\n",
      "7.0    0.364583\n",
      "3.0    0.166667\n",
      "1.0    0.072917\n",
      "Name: proportion, dtype: float64\n",
      "\n",
      "\n",
      "Distribución de InterGcontact_2:\n",
      "InterGcontact_2\n",
      "0.0    0.322917\n",
      "3.0    0.145833\n",
      "2.0    0.135417\n",
      "1.0    0.114583\n",
      "4.0    0.104167\n",
      "5.0    0.093750\n",
      "6.0    0.072917\n",
      "7.0    0.010417\n",
      "Name: proportion, dtype: float64\n",
      "\n",
      "\n",
      "Distribución de InterGcontact_4:\n",
      "InterGcontact_4\n",
      "2    0.260417\n",
      "4    0.177083\n",
      "0    0.177083\n",
      "6    0.156250\n",
      "3    0.104167\n",
      "5    0.083333\n",
      "1    0.041667\n",
      "Name: proportion, dtype: float64\n",
      "\n",
      "\n",
      "Distribución de InterGcontact_7:\n",
      "InterGcontact_7\n",
      "3    0.218750\n",
      "2    0.208333\n",
      "4    0.166667\n",
      "0    0.135417\n",
      "6    0.104167\n",
      "1    0.093750\n",
      "5    0.072917\n",
      "Name: proportion, dtype: float64\n",
      "\n",
      "\n",
      "Distribución de Salment_1:\n",
      "Salment_1\n",
      "0    0.583333\n",
      "1    0.166667\n",
      "2    0.104167\n",
      "4    0.072917\n",
      "3    0.052083\n",
      "6    0.010417\n",
      "5    0.010417\n",
      "Name: proportion, dtype: float64\n",
      "\n",
      "\n",
      "Distribución de Salment_2:\n",
      "Salment_2\n",
      "0.0    0.656250\n",
      "1.0    0.145833\n",
      "4.0    0.052083\n",
      "2.0    0.052083\n",
      "3.0    0.052083\n",
      "7.0    0.031250\n",
      "6.0    0.010417\n",
      "Name: proportion, dtype: float64\n",
      "\n",
      "\n",
      "Distribución de Salment_6:\n",
      "Salment_6\n",
      "0.0    0.583333\n",
      "2.0    0.145833\n",
      "1.0    0.125000\n",
      "4.0    0.072917\n",
      "3.0    0.052083\n",
      "7.0    0.010417\n",
      "6.0    0.010417\n",
      "Name: proportion, dtype: float64\n",
      "\n",
      "\n",
      "Distribución de O-C-Test_1:\n",
      "O-C-Test_1\n",
      "0    0.656250\n",
      "1    0.239583\n",
      "2    0.072917\n",
      "4    0.020833\n",
      "3    0.010417\n",
      "Name: proportion, dtype: float64\n",
      "\n",
      "\n",
      "Distribución de O-C-T3_1:\n",
      "O-C-T3_1\n",
      "0.0    0.677083\n",
      "1.0    0.187500\n",
      "2.0    0.083333\n",
      "3.0    0.041667\n",
      "5.0    0.010417\n",
      "Name: proportion, dtype: float64\n",
      "\n",
      "\n",
      "Distribución de Q52_1:\n",
      "Q52_1\n",
      "0    0.718750\n",
      "1    0.166667\n",
      "2    0.062500\n",
      "3    0.041667\n",
      "4    0.010417\n",
      "Name: proportion, dtype: float64\n",
      "\n",
      "\n",
      "Distribución de Q54_1:\n",
      "Q54_1\n",
      "0    0.677083\n",
      "1    0.166667\n",
      "2    0.135417\n",
      "3    0.020833\n",
      "Name: proportion, dtype: float64\n",
      "\n",
      "\n",
      "Distribución de ActRadic_1:\n",
      "ActRadic_1\n",
      "7.0    0.802083\n",
      "1.0    0.135417\n",
      "3.0    0.031250\n",
      "5.0    0.031250\n",
      "Name: proportion, dtype: float64\n",
      "\n",
      "\n",
      "Distribución de Q76_2:\n",
      "Q76_2\n",
      "7.0    0.802083\n",
      "1.0    0.156250\n",
      "5.0    0.031250\n",
      "3.0    0.010417\n",
      "Name: proportion, dtype: float64\n",
      "\n",
      "\n",
      "Distribución de Q72_1:\n",
      "Q72_1\n",
      "7.0    0.541667\n",
      "5.0    0.250000\n",
      "3.0    0.114583\n",
      "1.0    0.093750\n",
      "Name: proportion, dtype: float64\n",
      "\n",
      "\n",
      "Distribución de Q72_3:\n",
      "Q72_3\n",
      "7.0    0.510417\n",
      "5.0    0.333333\n",
      "3.0    0.093750\n",
      "1.0    0.062500\n",
      "Name: proportion, dtype: float64\n",
      "\n",
      "\n",
      "Distribución de Q72_4:\n",
      "Q72_4\n",
      "7.0    0.520833\n",
      "5.0    0.322917\n",
      "3.0    0.104167\n",
      "1.0    0.052083\n",
      "Name: proportion, dtype: float64\n",
      "\n",
      "\n",
      "Distribución de Q78_4:\n",
      "Q78_4\n",
      "7.0    0.708333\n",
      "1.0    0.208333\n",
      "5.0    0.052083\n",
      "3.0    0.031250\n",
      "Name: proportion, dtype: float64\n",
      "\n",
      "\n"
     ]
    }
   ],
   "source": [
    "for feature in categorical_features[1:]:\n",
    "    print(f\"Distribución de {feature}:\")\n",
    "    print(df[feature].value_counts(normalize=True))  # Proporciones\n",
    "    print(\"\\n\")\n",
    "    df[feature].value_counts(normalize=True).to_excel(data_folders[1].joinpath('distributions',f'{feature}_distribution.xlsx'))"
   ]
  },
  {
   "cell_type": "code",
   "execution_count": 18,
   "metadata": {},
   "outputs": [
    {
     "name": "stdout",
     "output_type": "stream",
     "text": [
      "Tabla de contingencia entre 'Sex' y 'Etnia':\n",
      "Etnia  0   1  2   3   4  5\n",
      "Sex                       \n",
      "0      2  13  1  12   9  1\n",
      "1      6   9  1  21  17  1\n",
      "2      0   1  0   0   0  0\n",
      "3      1   1  0   0   0  0\n"
     ]
    }
   ],
   "source": [
    "from scipy.stats import chi2_contingency\n",
    "\n",
    "tab = pd.crosstab(df['Sex'], df['Etnia'])\n",
    "print(\"Tabla de contingencia entre 'Sex' y 'Etnia':\")\n",
    "print(tab)\n"
   ]
  },
  {
   "cell_type": "code",
   "execution_count": 19,
   "metadata": {},
   "outputs": [
    {
     "data": {
      "text/plain": [
       "['EDuc',\n",
       " 'Etnia',\n",
       " 'Identity Fusion_1',\n",
       " 'Identity Fusion_2',\n",
       " 'Identity Fusion_3',\n",
       " 'Identity Fusion_4',\n",
       " 'Identity Fusion_5',\n",
       " 'IdPol',\n",
       " 'IdF_1',\n",
       " 'IdF_3',\n",
       " 'IdF_4',\n",
       " 'IdF_5',\n",
       " 'CollUnc_1',\n",
       " 'CollUnc_3',\n",
       " 'CollUnc_4',\n",
       " 'SRW_1',\n",
       " 'SRW_3',\n",
       " 'Q74_1',\n",
       " 'Q74_2',\n",
       " 'Q74_3',\n",
       " 'Q71_3',\n",
       " 'Q75_3',\n",
       " 'InterGcontact_2',\n",
       " 'InterGcontact_4',\n",
       " 'InterGcontact_7',\n",
       " 'Salment_1',\n",
       " 'Salment_2',\n",
       " 'Salment_6',\n",
       " 'O-C-Test_1',\n",
       " 'O-C-T3_1',\n",
       " 'Q52_1',\n",
       " 'Q54_1',\n",
       " 'ActRadic_1',\n",
       " 'Q76_2',\n",
       " 'Q72_1',\n",
       " 'Q72_3',\n",
       " 'Q72_4',\n",
       " 'Q78_4']"
      ]
     },
     "execution_count": 19,
     "metadata": {},
     "output_type": "execute_result"
    }
   ],
   "source": [
    "categorical_features[1:]"
   ]
  },
  {
   "cell_type": "code",
   "execution_count": 20,
   "metadata": {},
   "outputs": [
    {
     "name": "stderr",
     "output_type": "stream",
     "text": [
      "C:\\Users\\hamso\\AppData\\Local\\Temp\\ipykernel_9728\\618128936.py:12: FutureWarning: The behavior of DataFrame concatenation with empty or all-NA entries is deprecated. In a future version, this will no longer exclude empty or all-NA columns when determining the result dtypes. To retain the old behavior, exclude the relevant entries before the concat operation.\n",
      "  df1 = pd.concat([df1, pd.DataFrame(rows)], ignore_index=True)\n"
     ]
    }
   ],
   "source": [
    "#https://docs.scipy.org/doc/scipy/reference/generated/scipy.stats.chi2_contingency.html #scipy.stats.chi2_contingency\n",
    "pairs = list(itertools.combinations(categorical_features[1:], 2))\n",
    "df1 = pd.DataFrame(columns=['Feature', 'Chi2', 'p-value'])\n",
    "rows = []\n",
    "\n",
    "for pair in pairs:\n",
    "    tab = pd.crosstab(df[pair[0]], df[pair[1]])\n",
    "    chi2, p, dof, expected = chi2_contingency(tab)\n",
    "    tab.to_excel(data_folders[1].joinpath('contingency_tables',f'{pair[0]}_{pair[1]}_contingency_table.xlsx'))\n",
    "    rows.append({'Feature': f'{pair[0]} - {pair[1]}', 'Chi2': chi2, 'p-value': p})\n",
    "    # print(tab)\n",
    "df1 = pd.concat([df1, pd.DataFrame(rows)], ignore_index=True)\n",
    "\n",
    "df1.to_excel(data_folders[1].joinpath('chi2_contingency.xlsx'))\n"
   ]
  },
  {
   "cell_type": "markdown",
   "metadata": {},
   "source": [
    "# Análisis de correspondencia múltiple"
   ]
  },
  {
   "cell_type": "code",
   "execution_count": 21,
   "metadata": {},
   "outputs": [
    {
     "data": {
      "text/html": [
       "\n",
       "<style>\n",
       "  #altair-viz-c7831fea2968427b929458a015d8e44f.vega-embed {\n",
       "    width: 100%;\n",
       "    display: flex;\n",
       "  }\n",
       "\n",
       "  #altair-viz-c7831fea2968427b929458a015d8e44f.vega-embed details,\n",
       "  #altair-viz-c7831fea2968427b929458a015d8e44f.vega-embed details summary {\n",
       "    position: relative;\n",
       "  }\n",
       "</style>\n",
       "<div id=\"altair-viz-c7831fea2968427b929458a015d8e44f\"></div>\n",
       "<script type=\"text/javascript\">\n",
       "  var VEGA_DEBUG = (typeof VEGA_DEBUG == \"undefined\") ? {} : VEGA_DEBUG;\n",
       "  (function(spec, embedOpt){\n",
       "    let outputDiv = document.currentScript.previousElementSibling;\n",
       "    if (outputDiv.id !== \"altair-viz-c7831fea2968427b929458a015d8e44f\") {\n",
       "      outputDiv = document.getElementById(\"altair-viz-c7831fea2968427b929458a015d8e44f\");\n",
       "    }\n",
       "    const paths = {\n",
       "      \"vega\": \"https://cdn.jsdelivr.net/npm/vega@5?noext\",\n",
       "      \"vega-lib\": \"https://cdn.jsdelivr.net/npm/vega-lib?noext\",\n",
       "      \"vega-lite\": \"https://cdn.jsdelivr.net/npm/vega-lite@5.16.3?noext\",\n",
       "      \"vega-embed\": \"https://cdn.jsdelivr.net/npm/vega-embed@6?noext\",\n",
       "    };\n",
       "\n",
       "    function maybeLoadScript(lib, version) {\n",
       "      var key = `${lib.replace(\"-\", \"\")}_version`;\n",
       "      return (VEGA_DEBUG[key] == version) ?\n",
       "        Promise.resolve(paths[lib]) :\n",
       "        new Promise(function(resolve, reject) {\n",
       "          var s = document.createElement('script');\n",
       "          document.getElementsByTagName(\"head\")[0].appendChild(s);\n",
       "          s.async = true;\n",
       "          s.onload = () => {\n",
       "            VEGA_DEBUG[key] = version;\n",
       "            return resolve(paths[lib]);\n",
       "          };\n",
       "          s.onerror = () => reject(`Error loading script: ${paths[lib]}`);\n",
       "          s.src = paths[lib];\n",
       "        });\n",
       "    }\n",
       "\n",
       "    function showError(err) {\n",
       "      outputDiv.innerHTML = `<div class=\"error\" style=\"color:red;\">${err}</div>`;\n",
       "      throw err;\n",
       "    }\n",
       "\n",
       "    function displayChart(vegaEmbed) {\n",
       "      vegaEmbed(outputDiv, spec, embedOpt)\n",
       "        .catch(err => showError(`Javascript Error: ${err.message}<br>This usually means there's a typo in your chart specification. See the javascript console for the full traceback.`));\n",
       "    }\n",
       "\n",
       "    if(typeof define === \"function\" && define.amd) {\n",
       "      requirejs.config({paths});\n",
       "      require([\"vega-embed\"], displayChart, err => showError(`Error loading script: ${err.message}`));\n",
       "    } else {\n",
       "      maybeLoadScript(\"vega\", \"5\")\n",
       "        .then(() => maybeLoadScript(\"vega-lite\", \"5.16.3\"))\n",
       "        .then(() => maybeLoadScript(\"vega-embed\", \"6\"))\n",
       "        .catch(showError)\n",
       "        .then(() => displayChart(vegaEmbed));\n",
       "    }\n",
       "  })({\"config\": {\"view\": {\"continuousWidth\": 300, \"continuousHeight\": 300}}, \"layer\": [{\"data\": {\"name\": \"data-57496e5b3b2957a6a6f0230428bc6edc\"}, \"mark\": {\"type\": \"circle\", \"size\": 50}, \"encoding\": {\"color\": {\"field\": \"variable\", \"type\": \"nominal\"}, \"tooltip\": [{\"field\": \"variable\", \"type\": \"nominal\"}, {\"field\": \"value\", \"type\": \"nominal\"}, {\"field\": \"component 0\", \"type\": \"quantitative\"}, {\"field\": \"component 1\", \"type\": \"quantitative\"}], \"x\": {\"axis\": {\"title\": \"component 0 \\u2014 4.55%\"}, \"field\": \"component 0\", \"scale\": {\"zero\": false}, \"type\": \"quantitative\"}, \"y\": {\"axis\": {\"title\": \"component 1 \\u2014 3.56%\"}, \"field\": \"component 1\", \"scale\": {\"zero\": false}, \"type\": \"quantitative\"}}, \"name\": \"view_1\"}, {\"data\": {\"name\": \"data-8b93b23a3227e86804d920880dcf5edb\"}, \"mark\": {\"type\": \"circle\", \"size\": 50}, \"encoding\": {\"color\": {\"field\": \"variable\", \"type\": \"nominal\"}, \"tooltip\": [{\"field\": \"variable\", \"type\": \"nominal\"}, {\"field\": \"value\", \"type\": \"nominal\"}, {\"field\": \"component 0\", \"type\": \"quantitative\"}, {\"field\": \"component 1\", \"type\": \"quantitative\"}], \"x\": {\"axis\": {\"title\": \"component 0 \\u2014 4.55%\"}, \"field\": \"component 0\", \"scale\": {\"zero\": false}, \"type\": \"quantitative\"}, \"y\": {\"axis\": {\"title\": \"component 1 \\u2014 3.56%\"}, \"field\": \"component 1\", \"scale\": {\"zero\": false}, \"type\": \"quantitative\"}}}], \"params\": [{\"name\": \"param_1\", \"select\": {\"type\": \"interval\", \"encodings\": [\"x\", \"y\"]}, \"bind\": \"scales\", \"views\": [\"view_1\"]}], \"$schema\": \"https://vega.github.io/schema/vega-lite/v5.16.3.json\", \"datasets\": {\"data-57496e5b3b2957a6a6f0230428bc6edc\": [{\"component 0\": 0.20116914520848553, \"component 1\": 0.9627398436050401, \"variable\": \"row\", \"value\": \"88\", \"label\": 88}, {\"component 0\": 0.1975011470513589, \"component 1\": 0.13166826447866117, \"variable\": \"row\", \"value\": \"253\", \"label\": 253}, {\"component 0\": -0.9390089230844673, \"component 1\": 0.4727691150142367, \"variable\": \"row\", \"value\": \"255\", \"label\": 255}, {\"component 0\": -0.017397211801005008, \"component 1\": -0.09132594331319936, \"variable\": \"row\", \"value\": \"256\", \"label\": 256}, {\"component 0\": -0.18557013603577172, \"component 1\": -0.03436423659979339, \"variable\": \"row\", \"value\": \"261\", \"label\": 261}, {\"component 0\": 0.3954894464284435, \"component 1\": -0.7723008745317232, \"variable\": \"row\", \"value\": \"478\", \"label\": 478}, {\"component 0\": -1.1194851608772014, \"component 1\": 1.2791055986094628, \"variable\": \"row\", \"value\": \"526\", \"label\": 526}, {\"component 0\": -0.21074909889064786, \"component 1\": -0.38473152514285913, \"variable\": \"row\", \"value\": \"699\", \"label\": 699}, {\"component 0\": -0.001256581634757531, \"component 1\": -0.16581629401314074, \"variable\": \"row\", \"value\": \"730\", \"label\": 730}, {\"component 0\": -0.08697414797116676, \"component 1\": -0.28983015803696865, \"variable\": \"row\", \"value\": \"731\", \"label\": 731}, {\"component 0\": -0.18351462425198345, \"component 1\": -0.6894112675872742, \"variable\": \"row\", \"value\": \"738\", \"label\": 738}, {\"component 0\": -0.26178778619386384, \"component 1\": -0.18577944215409958, \"variable\": \"row\", \"value\": \"739\", \"label\": 739}, {\"component 0\": -0.08306479045276637, \"component 1\": -0.43939624108577513, \"variable\": \"row\", \"value\": \"748\", \"label\": 748}, {\"component 0\": -0.2566594582185768, \"component 1\": -0.13562307144687627, \"variable\": \"row\", \"value\": \"750\", \"label\": 750}, {\"component 0\": 0.0813138944879308, \"component 1\": -0.04767983075467245, \"variable\": \"row\", \"value\": \"752\", \"label\": 752}, {\"component 0\": 0.3936693082926682, \"component 1\": -0.26265810281202, \"variable\": \"row\", \"value\": \"759\", \"label\": 759}, {\"component 0\": -0.24024761475419387, \"component 1\": -0.40294442423407884, \"variable\": \"row\", \"value\": \"764\", \"label\": 764}, {\"component 0\": -0.1348179122295271, \"component 1\": -0.17144793130920746, \"variable\": \"row\", \"value\": \"767\", \"label\": 767}, {\"component 0\": 2.0943995729902305, \"component 1\": 1.067330031330466, \"variable\": \"row\", \"value\": \"772\", \"label\": 772}, {\"component 0\": -0.11198442649872946, \"component 1\": -0.6121349692046408, \"variable\": \"row\", \"value\": \"776\", \"label\": 776}, {\"component 0\": 0.4795912402844158, \"component 1\": -0.11697760582077107, \"variable\": \"row\", \"value\": \"787\", \"label\": 787}, {\"component 0\": -0.1419346387336578, \"component 1\": -0.05899680579769298, \"variable\": \"row\", \"value\": \"788\", \"label\": 788}, {\"component 0\": -0.5194093061195427, \"component 1\": -0.09663897770262775, \"variable\": \"row\", \"value\": \"803\", \"label\": 803}, {\"component 0\": -1.2968839505444876, \"component 1\": 0.329192791787661, \"variable\": \"row\", \"value\": \"808\", \"label\": 808}, {\"component 0\": -0.7217466671133156, \"component 1\": 1.1751909513231622, \"variable\": \"row\", \"value\": \"810\", \"label\": 810}, {\"component 0\": -0.1293671816984724, \"component 1\": -0.0494151447522469, \"variable\": \"row\", \"value\": \"905\", \"label\": 905}, {\"component 0\": 0.1271239657222644, \"component 1\": -0.330146239155434, \"variable\": \"row\", \"value\": \"912\", \"label\": 912}, {\"component 0\": 0.3967269720461296, \"component 1\": 0.19687633531754198, \"variable\": \"row\", \"value\": \"919\", \"label\": 919}, {\"component 0\": 0.5618636469002982, \"component 1\": -0.2657580524068173, \"variable\": \"row\", \"value\": \"942\", \"label\": 942}, {\"component 0\": -0.5019711121376473, \"component 1\": -0.026228821512428918, \"variable\": \"row\", \"value\": \"952\", \"label\": 952}, {\"component 0\": -0.08104487626199264, \"component 1\": -0.11023126193212848, \"variable\": \"row\", \"value\": \"954\", \"label\": 954}, {\"component 0\": -0.5289049428889914, \"component 1\": 0.04841117313036375, \"variable\": \"row\", \"value\": \"956\", \"label\": 956}, {\"component 0\": -0.13817926432905914, \"component 1\": -0.14436103957774887, \"variable\": \"row\", \"value\": \"970\", \"label\": 970}, {\"component 0\": 0.4844234562732498, \"component 1\": 0.11330483910048583, \"variable\": \"row\", \"value\": \"976\", \"label\": 976}, {\"component 0\": 0.0016071723975492475, \"component 1\": -0.5887314892157314, \"variable\": \"row\", \"value\": \"989\", \"label\": 989}, {\"component 0\": 0.07026514823097561, \"component 1\": -0.3805607683615229, \"variable\": \"row\", \"value\": \"996\", \"label\": 996}, {\"component 0\": -0.03357153596443917, \"component 1\": -0.18198814503024835, \"variable\": \"row\", \"value\": \"1001\", \"label\": 1001}, {\"component 0\": 0.07758695721383456, \"component 1\": 0.4131911143351152, \"variable\": \"row\", \"value\": \"1025\", \"label\": 1025}, {\"component 0\": -0.18693535387326132, \"component 1\": -0.5330412102956437, \"variable\": \"row\", \"value\": \"1085\", \"label\": 1085}, {\"component 0\": -0.14924886763067055, \"component 1\": 0.19186953766275777, \"variable\": \"row\", \"value\": \"1087\", \"label\": 1087}, {\"component 0\": 0.06431307877315198, \"component 1\": -0.3430103342966012, \"variable\": \"row\", \"value\": \"1089\", \"label\": 1089}, {\"component 0\": -0.3263483574004875, \"component 1\": -0.1771985912770537, \"variable\": \"row\", \"value\": \"1090\", \"label\": 1090}, {\"component 0\": 0.268412840025851, \"component 1\": -0.1041707763923952, \"variable\": \"row\", \"value\": \"1091\", \"label\": 1091}, {\"component 0\": -0.1815964199607456, \"component 1\": -0.3957914539443146, \"variable\": \"row\", \"value\": \"1092\", \"label\": 1092}, {\"component 0\": -0.35145487449365237, \"component 1\": -0.49663229125825126, \"variable\": \"row\", \"value\": \"1093\", \"label\": 1093}, {\"component 0\": -0.18050364271406405, \"component 1\": -0.12345034838578145, \"variable\": \"row\", \"value\": \"1094\", \"label\": 1094}, {\"component 0\": 0.3251767225390931, \"component 1\": -0.23840011228873592, \"variable\": \"row\", \"value\": \"1095\", \"label\": 1095}, {\"component 0\": 0.528664215932678, \"component 1\": 0.34262588255451654, \"variable\": \"row\", \"value\": \"1098\", \"label\": 1098}, {\"component 0\": -0.034777397545116454, \"component 1\": -0.1864139438688754, \"variable\": \"row\", \"value\": \"1100\", \"label\": 1100}, {\"component 0\": -0.21921190384362008, \"component 1\": -0.4005487836514201, \"variable\": \"row\", \"value\": \"1101\", \"label\": 1101}, {\"component 0\": 0.39605559607923063, \"component 1\": -0.031758724435879626, \"variable\": \"row\", \"value\": \"1102\", \"label\": 1102}, {\"component 0\": -0.07773124357511671, \"component 1\": -0.4672946209769627, \"variable\": \"row\", \"value\": \"1103\", \"label\": 1103}, {\"component 0\": -0.09002598008433614, \"component 1\": 0.08306524540848162, \"variable\": \"row\", \"value\": \"1105\", \"label\": 1105}, {\"component 0\": 0.31100976641950584, \"component 1\": 0.03231794323862827, \"variable\": \"row\", \"value\": \"1107\", \"label\": 1107}, {\"component 0\": -0.4943680160620497, \"component 1\": 0.052261810081383794, \"variable\": \"row\", \"value\": \"1109\", \"label\": 1109}, {\"component 0\": -0.3731027588247146, \"component 1\": 0.46880449214538295, \"variable\": \"row\", \"value\": \"1110\", \"label\": 1110}, {\"component 0\": -0.6569747761846214, \"component 1\": 0.2368376227224268, \"variable\": \"row\", \"value\": \"1113\", \"label\": 1113}, {\"component 0\": -0.7962704298249642, \"component 1\": 1.0543812202947036, \"variable\": \"row\", \"value\": \"1114\", \"label\": 1114}, {\"component 0\": 0.5473566770411566, \"component 1\": 0.044972811322996575, \"variable\": \"row\", \"value\": \"1115\", \"label\": 1115}, {\"component 0\": 1.3337144312047906, \"component 1\": 0.7803783573727665, \"variable\": \"row\", \"value\": \"1116\", \"label\": 1116}, {\"component 0\": 0.470875651126217, \"component 1\": -0.2751193153197062, \"variable\": \"row\", \"value\": \"1118\", \"label\": 1118}, {\"component 0\": 0.5807735170702644, \"component 1\": 0.0812876374522519, \"variable\": \"row\", \"value\": \"1120\", \"label\": 1120}, {\"component 0\": 0.47166125156696614, \"component 1\": -0.09021824719277054, \"variable\": \"row\", \"value\": \"1124\", \"label\": 1124}, {\"component 0\": -0.7466089346406912, \"component 1\": -0.21738285088088508, \"variable\": \"row\", \"value\": \"1132\", \"label\": 1132}, {\"component 0\": -0.2598766585951319, \"component 1\": 0.23158118330957658, \"variable\": \"row\", \"value\": \"1135\", \"label\": 1135}, {\"component 0\": 0.38106941114895826, \"component 1\": 0.02405775753501504, \"variable\": \"row\", \"value\": \"1136\", \"label\": 1136}, {\"component 0\": 0.10468312433021279, \"component 1\": 0.23308886288025515, \"variable\": \"row\", \"value\": \"1137\", \"label\": 1137}, {\"component 0\": 0.1604526976364145, \"component 1\": 0.4438127364583311, \"variable\": \"row\", \"value\": \"1138\", \"label\": 1138}, {\"component 0\": -0.11019657289162103, \"component 1\": 0.3242616608362147, \"variable\": \"row\", \"value\": \"1139\", \"label\": 1139}, {\"component 0\": 0.2427878244670017, \"component 1\": -0.36130355243438156, \"variable\": \"row\", \"value\": \"1141\", \"label\": 1141}, {\"component 0\": 0.16821150319161934, \"component 1\": 0.24081593941816667, \"variable\": \"row\", \"value\": \"1142\", \"label\": 1142}, {\"component 0\": -0.2987093702508419, \"component 1\": 0.09057515763815098, \"variable\": \"row\", \"value\": \"1143\", \"label\": 1143}, {\"component 0\": 0.2636302623385764, \"component 1\": -0.3193092279881334, \"variable\": \"row\", \"value\": \"1144\", \"label\": 1144}, {\"component 0\": -0.23905004904659716, \"component 1\": 0.015431885218269561, \"variable\": \"row\", \"value\": \"1145\", \"label\": 1145}, {\"component 0\": 0.02819120330771553, \"component 1\": 0.043433641178972936, \"variable\": \"row\", \"value\": \"1146\", \"label\": 1146}, {\"component 0\": -0.07620022494097844, \"component 1\": 0.3812042822084589, \"variable\": \"row\", \"value\": \"1148\", \"label\": 1148}, {\"component 0\": 0.07082566902689554, \"component 1\": 0.7326771581490314, \"variable\": \"row\", \"value\": \"1149\", \"label\": 1149}, {\"component 0\": -0.2971106080654867, \"component 1\": 0.09882660940828186, \"variable\": \"row\", \"value\": \"1150\", \"label\": 1150}, {\"component 0\": 0.17338785551502095, \"component 1\": 0.02441667055915627, \"variable\": \"row\", \"value\": \"1154\", \"label\": 1154}, {\"component 0\": 0.09168160226142905, \"component 1\": 0.6054658992359379, \"variable\": \"row\", \"value\": \"1156\", \"label\": 1156}, {\"component 0\": 0.323836228284025, \"component 1\": 0.3791211298641611, \"variable\": \"row\", \"value\": \"1157\", \"label\": 1157}, {\"component 0\": 0.2264739704874718, \"component 1\": -0.49116088722813667, \"variable\": \"row\", \"value\": \"1160\", \"label\": 1160}, {\"component 0\": -0.35709076093514713, \"component 1\": 0.15022256579585988, \"variable\": \"row\", \"value\": \"1162\", \"label\": 1162}, {\"component 0\": -0.06540343305782834, \"component 1\": -0.5204957221670217, \"variable\": \"row\", \"value\": \"1163\", \"label\": 1163}, {\"component 0\": 0.03252988746907917, \"component 1\": 0.015875920795127153, \"variable\": \"row\", \"value\": \"1164\", \"label\": 1164}, {\"component 0\": -0.23129617354411525, \"component 1\": -0.31697361883225605, \"variable\": \"row\", \"value\": \"1165\", \"label\": 1165}, {\"component 0\": 0.6153142980660429, \"component 1\": 0.29632346858186354, \"variable\": \"row\", \"value\": \"1166\", \"label\": 1166}, {\"component 0\": 0.047278579657104136, \"component 1\": -0.5276029271178394, \"variable\": \"row\", \"value\": \"1168\", \"label\": 1168}, {\"component 0\": -0.18996403117016392, \"component 1\": -0.07605194460099136, \"variable\": \"row\", \"value\": \"1169\", \"label\": 1169}, {\"component 0\": -0.4960191675585293, \"component 1\": 0.00998673567076673, \"variable\": \"row\", \"value\": \"1172\", \"label\": 1172}, {\"component 0\": 0.2065069715472354, \"component 1\": 0.06508414903567797, \"variable\": \"row\", \"value\": \"1173\", \"label\": 1173}, {\"component 0\": 0.19808159576676462, \"component 1\": 0.0019620957587583787, \"variable\": \"row\", \"value\": \"1175\", \"label\": 1175}, {\"component 0\": 0.1701710155008362, \"component 1\": -0.28573617981245375, \"variable\": \"row\", \"value\": \"1178\", \"label\": 1178}, {\"component 0\": 0.6552168659110353, \"component 1\": -0.07964778603577628, \"variable\": \"row\", \"value\": \"1179\", \"label\": 1179}, {\"component 0\": 0.12076891793237002, \"component 1\": -0.1468032825745239, \"variable\": \"row\", \"value\": \"1180\", \"label\": 1180}, {\"component 0\": 0.26976305024826747, \"component 1\": 0.2741872689239959, \"variable\": \"row\", \"value\": \"1186\", \"label\": 1186}], \"data-8b93b23a3227e86804d920880dcf5edb\": [{\"component 0\": 0.0197132252633128, \"component 1\": -0.34809521443445535, \"variable\": \"column\", \"value\": \"EDuc_0\", \"label\": \"EDuc_0\"}, {\"component 0\": 1.2841564119403461, \"component 1\": 0.2029925077450749, \"variable\": \"column\", \"value\": \"EDuc_1\", \"label\": \"EDuc_1\"}, {\"component 0\": -2.8675581645585644, \"component 1\": 0.8220643683466934, \"variable\": \"column\", \"value\": \"EDuc_2\", \"label\": \"EDuc_2\"}, {\"component 0\": 0.009061611888544003, \"component 1\": -0.06848507250105232, \"variable\": \"column\", \"value\": \"EDuc_3\", \"label\": \"EDuc_3\"}, {\"component 0\": 0.139815444365178, \"component 1\": -0.010455905819174868, \"variable\": \"column\", \"value\": \"EDuc_4\", \"label\": \"EDuc_4\"}, {\"component 0\": -0.0566425812442728, \"component 1\": 0.2258152841072476, \"variable\": \"column\", \"value\": \"EDuc_5\", \"label\": \"EDuc_5\"}, {\"component 0\": -0.5285668926613646, \"component 1\": 0.03853669731182412, \"variable\": \"column\", \"value\": \"EDuc_6\", \"label\": \"EDuc_6\"}, {\"component 0\": -0.4614174782729214, \"component 1\": 0.7991285735240603, \"variable\": \"column\", \"value\": \"Etnia_0\", \"label\": \"Etnia_0\"}, {\"component 0\": 0.02942052986583741, \"component 1\": -0.37598810860519294, \"variable\": \"column\", \"value\": \"Etnia_1\", \"label\": \"Etnia_1\"}, {\"component 0\": 0.2782286082500399, \"component 1\": -0.8436434254474574, \"variable\": \"column\", \"value\": \"Etnia_2\", \"label\": \"Etnia_2\"}, {\"component 0\": 0.08357189564025765, \"component 1\": 0.23498520372667125, \"variable\": \"column\", \"value\": \"Etnia_3\", \"label\": \"Etnia_3\"}, {\"component 0\": 0.050822390628905034, \"component 1\": -0.17309190554712284, \"variable\": \"column\", \"value\": \"Etnia_4\", \"label\": \"Etnia_4\"}, {\"component 0\": -0.5945236706519583, \"component 1\": 0.13236105847401833, \"variable\": \"column\", \"value\": \"Etnia_5\", \"label\": \"Etnia_5\"}, {\"component 0\": -0.8223957591489186, \"component 1\": 0.3131928303289712, \"variable\": \"column\", \"value\": \"Identity Fusion_1_0.0\", \"label\": \"Identity Fusion_1_0.0\"}, {\"component 0\": 0.806793411062746, \"component 1\": 0.8528230968884486, \"variable\": \"column\", \"value\": \"Identity Fusion_1_1.0\", \"label\": \"Identity Fusion_1_1.0\"}, {\"component 0\": 0.2828302753953147, \"component 1\": 0.36004245958042985, \"variable\": \"column\", \"value\": \"Identity Fusion_1_2.0\", \"label\": \"Identity Fusion_1_2.0\"}, {\"component 0\": 0.033443312657237705, \"component 1\": 0.3630386596113276, \"variable\": \"column\", \"value\": \"Identity Fusion_1_3.0\", \"label\": \"Identity Fusion_1_3.0\"}, {\"component 0\": 0.4633344847313883, \"component 1\": -0.6747965819296186, \"variable\": \"column\", \"value\": \"Identity Fusion_1_4.0\", \"label\": \"Identity Fusion_1_4.0\"}, {\"component 0\": -0.21573728011138377, \"component 1\": 0.05689180901294876, \"variable\": \"column\", \"value\": \"Identity Fusion_1_5.0\", \"label\": \"Identity Fusion_1_5.0\"}, {\"component 0\": 0.212282708631855, \"component 1\": -0.826016145024621, \"variable\": \"column\", \"value\": \"Identity Fusion_1_6.0\", \"label\": \"Identity Fusion_1_6.0\"}, {\"component 0\": -1.7606446369256756, \"component 1\": 2.6330140072364343, \"variable\": \"column\", \"value\": \"Identity Fusion_1_7.0\", \"label\": \"Identity Fusion_1_7.0\"}, {\"component 0\": 0.10358950892180126, \"component 1\": 0.7125905924296297, \"variable\": \"column\", \"value\": \"Identity Fusion_2_0.0\", \"label\": \"Identity Fusion_2_0.0\"}, {\"component 0\": 1.840966518740708, \"component 1\": 1.1083933702434439, \"variable\": \"column\", \"value\": \"Identity Fusion_2_2.0\", \"label\": \"Identity Fusion_2_2.0\"}, {\"component 0\": 1.832516673828456, \"component 1\": 1.4477583309123094, \"variable\": \"column\", \"value\": \"Identity Fusion_2_3.0\", \"label\": \"Identity Fusion_2_3.0\"}, {\"component 0\": 0.3441727361325835, \"component 1\": -1.0642357039321895, \"variable\": \"column\", \"value\": \"Identity Fusion_2_4.0\", \"label\": \"Identity Fusion_2_4.0\"}, {\"component 0\": 0.026667431214606102, \"component 1\": 0.15500354331081645, \"variable\": \"column\", \"value\": \"Identity Fusion_2_5.0\", \"label\": \"Identity Fusion_2_5.0\"}, {\"component 0\": -0.12784526867658788, \"component 1\": -0.6737768864402746, \"variable\": \"column\", \"value\": \"Identity Fusion_2_6.0\", \"label\": \"Identity Fusion_2_6.0\"}, {\"component 0\": -1.9199599707587132, \"component 1\": 1.5279928024689586, \"variable\": \"column\", \"value\": \"Identity Fusion_2_7.0\", \"label\": \"Identity Fusion_2_7.0\"}, {\"component 0\": -0.3138336564065682, \"component 1\": -0.14732756336850772, \"variable\": \"column\", \"value\": \"Identity Fusion_3_0.0\", \"label\": \"Identity Fusion_3_0.0\"}, {\"component 0\": -1.2087884796026984, \"component 1\": 2.8443553793274816, \"variable\": \"column\", \"value\": \"Identity Fusion_3_1.0\", \"label\": \"Identity Fusion_3_1.0\"}, {\"component 0\": -0.16848737859618268, \"component 1\": 0.9519481145470705, \"variable\": \"column\", \"value\": \"Identity Fusion_3_2.0\", \"label\": \"Identity Fusion_3_2.0\"}, {\"component 0\": 2.765329803962188, \"component 1\": 1.8536222007939709, \"variable\": \"column\", \"value\": \"Identity Fusion_3_3.0\", \"label\": \"Identity Fusion_3_3.0\"}, {\"component 0\": 0.04923841586982713, \"component 1\": -0.16422640155737564, \"variable\": \"column\", \"value\": \"Identity Fusion_3_4.0\", \"label\": \"Identity Fusion_3_4.0\"}, {\"component 0\": 0.01260310876425251, \"component 1\": 0.00790035648159669, \"variable\": \"column\", \"value\": \"Identity Fusion_3_5.0\", \"label\": \"Identity Fusion_3_5.0\"}, {\"component 0\": -0.052213234783999515, \"component 1\": -0.6668574511254377, \"variable\": \"column\", \"value\": \"Identity Fusion_3_6.0\", \"label\": \"Identity Fusion_3_6.0\"}, {\"component 0\": -1.2549910189911324, \"component 1\": 1.2844215063946964, \"variable\": \"column\", \"value\": \"Identity Fusion_3_7.0\", \"label\": \"Identity Fusion_3_7.0\"}, {\"component 0\": 0.3023734460541474, \"component 1\": -0.3178085464838967, \"variable\": \"column\", \"value\": \"Identity Fusion_4_0\", \"label\": \"Identity Fusion_4_0\"}, {\"component 0\": -0.525434786711156, \"component 1\": 2.084558812060534, \"variable\": \"column\", \"value\": \"Identity Fusion_4_1\", \"label\": \"Identity Fusion_4_1\"}, {\"component 0\": -0.17878678375982468, \"component 1\": -0.33961502842232627, \"variable\": \"column\", \"value\": \"Identity Fusion_4_2\", \"label\": \"Identity Fusion_4_2\"}, {\"component 0\": 2.1243914164517657, \"component 1\": 1.170722241182808, \"variable\": \"column\", \"value\": \"Identity Fusion_4_3\", \"label\": \"Identity Fusion_4_3\"}, {\"component 0\": 0.2226829390406738, \"component 1\": -0.49084456466379056, \"variable\": \"column\", \"value\": \"Identity Fusion_4_4\", \"label\": \"Identity Fusion_4_4\"}, {\"component 0\": -0.139753378823919, \"component 1\": 0.12374033155177347, \"variable\": \"column\", \"value\": \"Identity Fusion_4_5\", \"label\": \"Identity Fusion_4_5\"}, {\"component 0\": -0.15547240147373378, \"component 1\": -0.6992135217709672, \"variable\": \"column\", \"value\": \"Identity Fusion_4_6\", \"label\": \"Identity Fusion_4_6\"}, {\"component 0\": 0.8772085330486569, \"component 1\": 0.4916420537531712, \"variable\": \"column\", \"value\": \"Identity Fusion_5_0.0\", \"label\": \"Identity Fusion_5_0.0\"}, {\"component 0\": -0.3617230061172234, \"component 1\": 1.26631264686417, \"variable\": \"column\", \"value\": \"Identity Fusion_5_1.0\", \"label\": \"Identity Fusion_5_1.0\"}, {\"component 0\": 0.3127230040773239, \"component 1\": 0.5117839389530617, \"variable\": \"column\", \"value\": \"Identity Fusion_5_2.0\", \"label\": \"Identity Fusion_5_2.0\"}, {\"component 0\": 0.6740626104926752, \"component 1\": -0.05389626124865413, \"variable\": \"column\", \"value\": \"Identity Fusion_5_3.0\", \"label\": \"Identity Fusion_5_3.0\"}, {\"component 0\": 0.14936269982965328, \"component 1\": -0.28715538297123056, \"variable\": \"column\", \"value\": \"Identity Fusion_5_4.0\", \"label\": \"Identity Fusion_5_4.0\"}, {\"component 0\": -0.38800719222615154, \"component 1\": -0.3388200323065744, \"variable\": \"column\", \"value\": \"Identity Fusion_5_5.0\", \"label\": \"Identity Fusion_5_5.0\"}, {\"component 0\": 0.031701036648388255, \"component 1\": -0.20988876814975696, \"variable\": \"column\", \"value\": \"Identity Fusion_5_6.0\", \"label\": \"Identity Fusion_5_6.0\"}, {\"component 0\": -1.9184501720975884, \"component 1\": 1.9068094853303494, \"variable\": \"column\", \"value\": \"Identity Fusion_5_7.0\", \"label\": \"Identity Fusion_5_7.0\"}, {\"component 0\": 0.3087541118680204, \"component 1\": 0.06596836187569194, \"variable\": \"column\", \"value\": \"IdPol_0\", \"label\": \"IdPol_0\"}, {\"component 0\": -0.3880362101514, \"component 1\": 0.48883606038783267, \"variable\": \"column\", \"value\": \"IdPol_1\", \"label\": \"IdPol_1\"}, {\"component 0\": -0.1785423764922587, \"component 1\": 0.24493413478095435, \"variable\": \"column\", \"value\": \"IdPol_2\", \"label\": \"IdPol_2\"}, {\"component 0\": 0.22739582313133547, \"component 1\": 0.34468483187588617, \"variable\": \"column\", \"value\": \"IdPol_3\", \"label\": \"IdPol_3\"}, {\"component 0\": -0.10368172738862018, \"component 1\": 0.2478618237914612, \"variable\": \"column\", \"value\": \"IdPol_4\", \"label\": \"IdPol_4\"}, {\"component 0\": -0.4433621675902601, \"component 1\": 0.059148845036010526, \"variable\": \"column\", \"value\": \"IdPol_5\", \"label\": \"IdPol_5\"}, {\"component 0\": 0.07020850244816666, \"component 1\": -0.7718349473189559, \"variable\": \"column\", \"value\": \"IdPol_6\", \"label\": \"IdPol_6\"}, {\"component 0\": -0.038467217301580446, \"component 1\": -0.22806029104020256, \"variable\": \"column\", \"value\": \"IdPol_7\", \"label\": \"IdPol_7\"}, {\"component 0\": -0.12267634475858988, \"component 1\": 0.8147310226350561, \"variable\": \"column\", \"value\": \"IdF_1_1.0\", \"label\": \"IdF_1_1.0\"}, {\"component 0\": 0.34724091801160106, \"component 1\": 0.6077117170018563, \"variable\": \"column\", \"value\": \"IdF_1_2.0\", \"label\": \"IdF_1_2.0\"}, {\"component 0\": 0.5019672986013829, \"component 1\": 0.03714572413104196, \"variable\": \"column\", \"value\": \"IdF_1_3.0\", \"label\": \"IdF_1_3.0\"}, {\"component 0\": -0.07876481706064727, \"component 1\": -0.5241997447894958, \"variable\": \"column\", \"value\": \"IdF_1_4.0\", \"label\": \"IdF_1_4.0\"}, {\"component 0\": -0.39628083186667185, \"component 1\": -0.5426657169220138, \"variable\": \"column\", \"value\": \"IdF_1_5.0\", \"label\": \"IdF_1_5.0\"}, {\"component 0\": 0.10190054655460733, \"component 1\": 0.6287534499902674, \"variable\": \"column\", \"value\": \"IdF_1_7.0\", \"label\": \"IdF_1_7.0\"}, {\"component 0\": -0.12674716141047784, \"component 1\": 0.8977837260496612, \"variable\": \"column\", \"value\": \"IdF_3_1.0\", \"label\": \"IdF_3_1.0\"}, {\"component 0\": 0.2856991576965459, \"component 1\": 0.29120767137720965, \"variable\": \"column\", \"value\": \"IdF_3_2.0\", \"label\": \"IdF_3_2.0\"}, {\"component 0\": 0.6203689917230153, \"component 1\": -0.04678948101128021, \"variable\": \"column\", \"value\": \"IdF_3_3.0\", \"label\": \"IdF_3_3.0\"}, {\"component 0\": -0.14165417899708274, \"component 1\": -0.6170835015863277, \"variable\": \"column\", \"value\": \"IdF_3_4.0\", \"label\": \"IdF_3_4.0\"}, {\"component 0\": -0.6286595490602169, \"component 1\": -0.34788418623403533, \"variable\": \"column\", \"value\": \"IdF_3_5.0\", \"label\": \"IdF_3_5.0\"}, {\"component 0\": -0.04648919181219306, \"component 1\": 0.34778692803473077, \"variable\": \"column\", \"value\": \"IdF_3_7.0\", \"label\": \"IdF_3_7.0\"}, {\"component 0\": -0.3488231194872027, \"component 1\": 0.655312545453465, \"variable\": \"column\", \"value\": \"IdF_4_1.0\", \"label\": \"IdF_4_1.0\"}, {\"component 0\": -0.2706655801258908, \"component 1\": 0.5378718769114862, \"variable\": \"column\", \"value\": \"IdF_4_2.0\", \"label\": \"IdF_4_2.0\"}, {\"component 0\": 0.6654604898906231, \"component 1\": -0.23354553374364323, \"variable\": \"column\", \"value\": \"IdF_4_3.0\", \"label\": \"IdF_4_3.0\"}, {\"component 0\": 0.06911399027488217, \"component 1\": -0.6982736178892582, \"variable\": \"column\", \"value\": \"IdF_4_4.0\", \"label\": \"IdF_4_4.0\"}, {\"component 0\": -0.54733427937955, \"component 1\": 0.20790364915752282, \"variable\": \"column\", \"value\": \"IdF_4_5.0\", \"label\": \"IdF_4_5.0\"}, {\"component 0\": -0.04900873831705964, \"component 1\": 0.1921849204110498, \"variable\": \"column\", \"value\": \"IdF_4_7.0\", \"label\": \"IdF_4_7.0\"}, {\"component 0\": -0.08321013368982905, \"component 1\": 0.3925003503578024, \"variable\": \"column\", \"value\": \"IdF_5_1.0\", \"label\": \"IdF_5_1.0\"}, {\"component 0\": -0.18789328043021514, \"component 1\": 0.895579130877035, \"variable\": \"column\", \"value\": \"IdF_5_2.0\", \"label\": \"IdF_5_2.0\"}, {\"component 0\": 0.6850497669691512, \"component 1\": -0.31636075489862225, \"variable\": \"column\", \"value\": \"IdF_5_3.0\", \"label\": \"IdF_5_3.0\"}, {\"component 0\": -0.2862622654013572, \"component 1\": -0.6687076450842661, \"variable\": \"column\", \"value\": \"IdF_5_4.0\", \"label\": \"IdF_5_4.0\"}, {\"component 0\": -0.6306644924418587, \"component 1\": 0.2790810861623192, \"variable\": \"column\", \"value\": \"IdF_5_5.0\", \"label\": \"IdF_5_5.0\"}, {\"component 0\": 0.13792446538554556, \"component 1\": 0.35238778931576636, \"variable\": \"column\", \"value\": \"IdF_5_7.0\", \"label\": \"IdF_5_7.0\"}, {\"component 0\": -0.7215933980531913, \"component 1\": -0.44250254453947807, \"variable\": \"column\", \"value\": \"CollUnc_1_1.0\", \"label\": \"CollUnc_1_1.0\"}, {\"component 0\": 2.5344685196412158, \"component 1\": 1.335124855347212, \"variable\": \"column\", \"value\": \"CollUnc_1_3.0\", \"label\": \"CollUnc_1_3.0\"}, {\"component 0\": -0.38210817445097434, \"component 1\": 0.2374472751275046, \"variable\": \"column\", \"value\": \"CollUnc_1_5.0\", \"label\": \"CollUnc_1_5.0\"}, {\"component 0\": 0.2814815400747996, \"component 1\": -0.27979408131957806, \"variable\": \"column\", \"value\": \"CollUnc_1_7.0\", \"label\": \"CollUnc_1_7.0\"}, {\"component 0\": -1.2434235658660793, \"component 1\": -0.26527620964787363, \"variable\": \"column\", \"value\": \"CollUnc_3_1.0\", \"label\": \"CollUnc_3_1.0\"}, {\"component 0\": 2.048612479225038, \"component 1\": 1.2438243882404834, \"variable\": \"column\", \"value\": \"CollUnc_3_3.0\", \"label\": \"CollUnc_3_3.0\"}, {\"component 0\": -0.44488523173778477, \"component 1\": 0.07887973442709041, \"variable\": \"column\", \"value\": \"CollUnc_3_5.0\", \"label\": \"CollUnc_3_5.0\"}, {\"component 0\": 0.25169074802318203, \"component 1\": -0.17154847385973873, \"variable\": \"column\", \"value\": \"CollUnc_3_7.0\", \"label\": \"CollUnc_3_7.0\"}, {\"component 0\": -0.6343713144805391, \"component 1\": 0.1986257127614136, \"variable\": \"column\", \"value\": \"CollUnc_4_1.0\", \"label\": \"CollUnc_4_1.0\"}, {\"component 0\": 1.2902723161830898, \"component 1\": 0.41073130677219605, \"variable\": \"column\", \"value\": \"CollUnc_4_3.0\", \"label\": \"CollUnc_4_3.0\"}, {\"component 0\": -0.4033180516692128, \"component 1\": -0.009782207264089703, \"variable\": \"column\", \"value\": \"CollUnc_4_5.0\", \"label\": \"CollUnc_4_5.0\"}, {\"component 0\": 0.22979809213239527, \"component 1\": -0.12260203449353956, \"variable\": \"column\", \"value\": \"CollUnc_4_7.0\", \"label\": \"CollUnc_4_7.0\"}, {\"component 0\": 0.36780986565972623, \"component 1\": 0.5183417267721969, \"variable\": \"column\", \"value\": \"SRW_1_1.0\", \"label\": \"SRW_1_1.0\"}, {\"component 0\": 1.782810398460542, \"component 1\": -0.07148165917185775, \"variable\": \"column\", \"value\": \"SRW_1_3.0\", \"label\": \"SRW_1_3.0\"}, {\"component 0\": -0.3706111468880156, \"component 1\": 0.0309404719129631, \"variable\": \"column\", \"value\": \"SRW_1_5.0\", \"label\": \"SRW_1_5.0\"}, {\"component 0\": 0.14026757374313975, \"component 1\": -0.0650212684858054, \"variable\": \"column\", \"value\": \"SRW_1_7.0\", \"label\": \"SRW_1_7.0\"}, {\"component 0\": 0.23149207057684454, \"component 1\": 0.2688917640588119, \"variable\": \"column\", \"value\": \"SRW_3_1.0\", \"label\": \"SRW_3_1.0\"}, {\"component 0\": 0.7451617882398809, \"component 1\": 0.1446217670690586, \"variable\": \"column\", \"value\": \"SRW_3_3.0\", \"label\": \"SRW_3_3.0\"}, {\"component 0\": -0.40935077950976595, \"component 1\": -0.030412628512962937, \"variable\": \"column\", \"value\": \"SRW_3_5.0\", \"label\": \"SRW_3_5.0\"}, {\"component 0\": 0.12802419662704165, \"component 1\": -0.06312881204481549, \"variable\": \"column\", \"value\": \"SRW_3_7.0\", \"label\": \"SRW_3_7.0\"}, {\"component 0\": 0.396774692499238, \"component 1\": -1.1078312635728573, \"variable\": \"column\", \"value\": \"Q74_1_1.0\", \"label\": \"Q74_1_1.0\"}, {\"component 0\": 1.1734638949219478, \"component 1\": 0.4138016052045529, \"variable\": \"column\", \"value\": \"Q74_1_3.0\", \"label\": \"Q74_1_3.0\"}, {\"component 0\": -0.16881904820225363, \"component 1\": 0.14728357789463578, \"variable\": \"column\", \"value\": \"Q74_1_5.0\", \"label\": \"Q74_1_5.0\"}, {\"component 0\": 0.03518159644146244, \"component 1\": -0.16885261555657516, \"variable\": \"column\", \"value\": \"Q74_1_7.0\", \"label\": \"Q74_1_7.0\"}, {\"component 0\": -0.08362268393224154, \"component 1\": -0.07474067013136475, \"variable\": \"column\", \"value\": \"Q74_2_1.0\", \"label\": \"Q74_2_1.0\"}, {\"component 0\": 0.389388884316271, \"component 1\": -0.2409671577560507, \"variable\": \"column\", \"value\": \"Q74_2_3.0\", \"label\": \"Q74_2_3.0\"}, {\"component 0\": -0.5975754685836804, \"component 1\": 0.11154384655790983, \"variable\": \"column\", \"value\": \"Q74_2_5.0\", \"label\": \"Q74_2_5.0\"}, {\"component 0\": 0.30384536339499735, \"component 1\": 0.055125442949596495, \"variable\": \"column\", \"value\": \"Q74_2_7.0\", \"label\": \"Q74_2_7.0\"}, {\"component 0\": -0.0799986118704941, \"component 1\": -0.1050508563602252, \"variable\": \"column\", \"value\": \"Q74_3_1.0\", \"label\": \"Q74_3_1.0\"}, {\"component 0\": 0.4052797206755354, \"component 1\": -0.26934539655832374, \"variable\": \"column\", \"value\": \"Q74_3_3.0\", \"label\": \"Q74_3_3.0\"}, {\"component 0\": -0.38236775252055494, \"component 1\": 0.27110184973286416, \"variable\": \"column\", \"value\": \"Q74_3_5.0\", \"label\": \"Q74_3_5.0\"}, {\"component 0\": 0.1241053728183596, \"component 1\": -0.05754976953639718, \"variable\": \"column\", \"value\": \"Q74_3_7.0\", \"label\": \"Q74_3_7.0\"}, {\"component 0\": -0.6034788952390291, \"component 1\": -0.17462807708015057, \"variable\": \"column\", \"value\": \"Q71_3_1.0\", \"label\": \"Q71_3_1.0\"}, {\"component 0\": 0.29508781854275556, \"component 1\": -0.17118743866673997, \"variable\": \"column\", \"value\": \"Q71_3_3.0\", \"label\": \"Q71_3_3.0\"}, {\"component 0\": -0.3717911135023659, \"component 1\": -0.06388653910021845, \"variable\": \"column\", \"value\": \"Q71_3_5.0\", \"label\": \"Q71_3_5.0\"}, {\"component 0\": 0.4042461992400123, \"component 1\": 0.22684985746215225, \"variable\": \"column\", \"value\": \"Q71_3_7.0\", \"label\": \"Q71_3_7.0\"}, {\"component 0\": -0.6196666431173896, \"component 1\": 0.17782098296814106, \"variable\": \"column\", \"value\": \"Q75_3_1.0\", \"label\": \"Q75_3_1.0\"}, {\"component 0\": 0.7430013868072572, \"component 1\": 0.03158520002694717, \"variable\": \"column\", \"value\": \"Q75_3_3.0\", \"label\": \"Q75_3_3.0\"}, {\"component 0\": -0.3774067351393216, \"component 1\": 0.26848132376540373, \"variable\": \"column\", \"value\": \"Q75_3_5.0\", \"label\": \"Q75_3_5.0\"}, {\"component 0\": 0.19403143566285244, \"component 1\": -0.34149715383695706, \"variable\": \"column\", \"value\": \"Q75_3_7.0\", \"label\": \"Q75_3_7.0\"}, {\"component 0\": 0.27068340890263065, \"component 1\": 0.3134841275160038, \"variable\": \"column\", \"value\": \"InterGcontact_2_0.0\", \"label\": \"InterGcontact_2_0.0\"}, {\"component 0\": -0.6596667934422901, \"component 1\": -0.04567180372004001, \"variable\": \"column\", \"value\": \"InterGcontact_2_1.0\", \"label\": \"InterGcontact_2_1.0\"}, {\"component 0\": -0.46077431296938576, \"component 1\": -0.316074208898281, \"variable\": \"column\", \"value\": \"InterGcontact_2_2.0\", \"label\": \"InterGcontact_2_2.0\"}, {\"component 0\": 0.3135438487543698, \"component 1\": -0.18576806745811253, \"variable\": \"column\", \"value\": \"InterGcontact_2_3.0\", \"label\": \"InterGcontact_2_3.0\"}, {\"component 0\": 0.1675546135531854, \"component 1\": -0.321821434358621, \"variable\": \"column\", \"value\": \"InterGcontact_2_4.0\", \"label\": \"InterGcontact_2_4.0\"}, {\"component 0\": -0.06056337444348489, \"component 1\": -0.6683477126225559, \"variable\": \"column\", \"value\": \"InterGcontact_2_5.0\", \"label\": \"InterGcontact_2_5.0\"}, {\"component 0\": 0.25863352892895614, \"component 1\": 0.504749251710835, \"variable\": \"column\", \"value\": \"InterGcontact_2_6.0\", \"label\": \"InterGcontact_2_6.0\"}, {\"component 0\": -2.4753092301187025, \"component 1\": 3.1941985432289086, \"variable\": \"column\", \"value\": \"InterGcontact_2_7.0\", \"label\": \"InterGcontact_2_7.0\"}, {\"component 0\": 0.13377858072862614, \"component 1\": 0.5934639584439246, \"variable\": \"column\", \"value\": \"InterGcontact_4_0\", \"label\": \"InterGcontact_4_0\"}, {\"component 0\": -0.2742856881068649, \"component 1\": 0.4523649898513629, \"variable\": \"column\", \"value\": \"InterGcontact_4_1\", \"label\": \"InterGcontact_4_1\"}, {\"component 0\": -0.14319808300623313, \"component 1\": -0.3597858198421424, \"variable\": \"column\", \"value\": \"InterGcontact_4_2\", \"label\": \"InterGcontact_4_2\"}, {\"component 0\": 0.3990849503820593, \"component 1\": -0.24874122513500344, \"variable\": \"column\", \"value\": \"InterGcontact_4_3\", \"label\": \"InterGcontact_4_3\"}, {\"component 0\": -0.4084147069522624, \"component 1\": -0.1702175723605208, \"variable\": \"column\", \"value\": \"InterGcontact_4_4\", \"label\": \"InterGcontact_4_4\"}, {\"component 0\": 0.22169912685243068, \"component 1\": -0.5683656256593065, \"variable\": \"column\", \"value\": \"InterGcontact_4_5\", \"label\": \"InterGcontact_4_5\"}, {\"component 0\": 0.2387644303163381, \"component 1\": 0.4682889486569814, \"variable\": \"column\", \"value\": \"InterGcontact_4_6\", \"label\": \"InterGcontact_4_6\"}, {\"component 0\": 0.12370147357342663, \"component 1\": -0.012685495685991921, \"variable\": \"column\", \"value\": \"InterGcontact_7_0\", \"label\": \"InterGcontact_7_0\"}, {\"component 0\": -0.6161323979683838, \"component 1\": 0.42937683065499116, \"variable\": \"column\", \"value\": \"InterGcontact_7_1\", \"label\": \"InterGcontact_7_1\"}, {\"component 0\": 0.14830172592189725, \"component 1\": -0.5277622249086298, \"variable\": \"column\", \"value\": \"InterGcontact_7_2\", \"label\": \"InterGcontact_7_2\"}, {\"component 0\": 0.13138421055799232, \"component 1\": 0.40694504246099567, \"variable\": \"column\", \"value\": \"InterGcontact_7_3\", \"label\": \"InterGcontact_7_3\"}, {\"component 0\": -0.4096250640810448, \"component 1\": -0.10180728252795117, \"variable\": \"column\", \"value\": \"InterGcontact_7_4\", \"label\": \"InterGcontact_7_4\"}, {\"component 0\": -0.068833366257611, \"component 1\": -0.7727218069456493, \"variable\": \"column\", \"value\": \"InterGcontact_7_5\", \"label\": \"InterGcontact_7_5\"}, {\"component 0\": 0.5247804074205121, \"component 1\": 0.5347887743581414, \"variable\": \"column\", \"value\": \"InterGcontact_7_6\", \"label\": \"InterGcontact_7_6\"}, {\"component 0\": -0.21728026186718052, \"component 1\": -0.200464740885492, \"variable\": \"column\", \"value\": \"Salment_1_0\", \"label\": \"Salment_1_0\"}, {\"component 0\": 0.3336595962500922, \"component 1\": -0.10466737371377681, \"variable\": \"column\", \"value\": \"Salment_1_1\", \"label\": \"Salment_1_1\"}, {\"component 0\": 0.9383388398931879, \"component 1\": 0.456214840377312, \"variable\": \"column\", \"value\": \"Salment_1_2\", \"label\": \"Salment_1_2\"}, {\"component 0\": -1.2227655519920053, \"component 1\": 1.225241914318503, \"variable\": \"column\", \"value\": \"Salment_1_3\", \"label\": \"Salment_1_3\"}, {\"component 0\": 0.40424610062375127, \"component 1\": 0.777247624144368, \"variable\": \"column\", \"value\": \"Salment_1_4\", \"label\": \"Salment_1_4\"}, {\"component 0\": -0.14461444169803678, \"component 1\": -1.2997884453872943, \"variable\": \"column\", \"value\": \"Salment_1_5\", \"label\": \"Salment_1_5\"}, {\"component 0\": 0.8744722229205559, \"component 1\": -1.9285994299809428, \"variable\": \"column\", \"value\": \"Salment_1_6\", \"label\": \"Salment_1_6\"}, {\"component 0\": -0.10702036679839529, \"component 1\": -0.3355685192865868, \"variable\": \"column\", \"value\": \"Salment_2_0.0\", \"label\": \"Salment_2_0.0\"}, {\"component 0\": 0.5669872384741849, \"component 1\": 0.33984233413110093, \"variable\": \"column\", \"value\": \"Salment_2_1.0\", \"label\": \"Salment_2_1.0\"}, {\"component 0\": 1.3042632822092262, \"component 1\": 0.8669985179325287, \"variable\": \"column\", \"value\": \"Salment_2_2.0\", \"label\": \"Salment_2_2.0\"}, {\"component 0\": -1.1144208489580383, \"component 1\": 1.2749027882992188, \"variable\": \"column\", \"value\": \"Salment_2_3.0\", \"label\": \"Salment_2_3.0\"}, {\"component 0\": 0.29932377444641245, \"component 1\": -0.39764908060321663, \"variable\": \"column\", \"value\": \"Salment_2_4.0\", \"label\": \"Salment_2_4.0\"}, {\"component 0\": 0.4379809750527797, \"component 1\": 0.004899770137129272, \"variable\": \"column\", \"value\": \"Salment_2_6.0\", \"label\": \"Salment_2_6.0\"}, {\"component 0\": -1.3597834146268213, \"component 1\": 2.552287712979921, \"variable\": \"column\", \"value\": \"Salment_2_7.0\", \"label\": \"Salment_2_7.0\"}, {\"component 0\": -0.3132343166278408, \"component 1\": -0.1505229726068295, \"variable\": \"column\", \"value\": \"Salment_6_0.0\", \"label\": \"Salment_6_0.0\"}, {\"component 0\": 0.4388071013389244, \"component 1\": -0.009459018149157858, \"variable\": \"column\", \"value\": \"Salment_6_1.0\", \"label\": \"Salment_6_1.0\"}, {\"component 0\": 0.6282002196539374, \"component 1\": 0.35133913776398845, \"variable\": \"column\", \"value\": \"Salment_6_2.0\", \"label\": \"Salment_6_2.0\"}, {\"component 0\": -0.5607808244940893, \"component 1\": 0.16999784105123325, \"variable\": \"column\", \"value\": \"Salment_6_3.0\", \"label\": \"Salment_6_3.0\"}, {\"component 0\": 0.8059391811484595, \"component 1\": 0.6938800551831908, \"variable\": \"column\", \"value\": \"Salment_6_4.0\", \"label\": \"Salment_6_4.0\"}, {\"component 0\": 0.50075975021411, \"component 1\": -1.2265331276641054, \"variable\": \"column\", \"value\": \"Salment_6_6.0\", \"label\": \"Salment_6_6.0\"}, {\"component 0\": 0.142203544153987, \"component 1\": -0.8565697087978943, \"variable\": \"column\", \"value\": \"Salment_6_7.0\", \"label\": \"Salment_6_7.0\"}, {\"component 0\": -0.32144385550558374, \"component 1\": -0.18452308421441674, \"variable\": \"column\", \"value\": \"O-C-Test_1_0\", \"label\": \"O-C-Test_1_0\"}, {\"component 0\": 0.5141195128563507, \"component 1\": 0.17714158140594535, \"variable\": \"column\", \"value\": \"O-C-Test_1_1\", \"label\": \"O-C-Test_1_1\"}, {\"component 0\": 1.388521866998445, \"component 1\": 1.0015527262629824, \"variable\": \"column\", \"value\": \"O-C-Test_1_2\", \"label\": \"O-C-Test_1_2\"}, {\"component 0\": -0.6569454033087903, \"component 1\": 0.24679104848525354, \"variable\": \"column\", \"value\": \"O-C-Test_1_3\", \"label\": \"O-C-Test_1_3\"}, {\"component 0\": -0.31824678226230213, \"component 1\": 0.1465189004226852, \"variable\": \"column\", \"value\": \"O-C-Test_1_4\", \"label\": \"O-C-Test_1_4\"}, {\"component 0\": -0.2574463656847908, \"component 1\": -0.1676595719477281, \"variable\": \"column\", \"value\": \"O-C-T3_1_0.0\", \"label\": \"O-C-T3_1_0.0\"}, {\"component 0\": 0.9855838313042213, \"component 1\": 0.33236097336182163, \"variable\": \"column\", \"value\": \"O-C-T3_1_1.0\", \"label\": \"O-C-T3_1_1.0\"}, {\"component 0\": 0.2899936970600727, \"component 1\": 0.12267870691890032, \"variable\": \"column\", \"value\": \"O-C-T3_1_2.0\", \"label\": \"O-C-T3_1_2.0\"}, {\"component 0\": -0.11472165147165113, \"component 1\": 0.7779701580979073, \"variable\": \"column\", \"value\": \"O-C-T3_1_3.0\", \"label\": \"O-C-T3_1_3.0\"}, {\"component 0\": -2.8675581645585644, \"component 1\": 0.8220643683466934, \"variable\": \"column\", \"value\": \"O-C-T3_1_5.0\", \"label\": \"O-C-T3_1_5.0\"}, {\"component 0\": -0.23455047496740555, \"component 1\": -0.10948705519676831, \"variable\": \"column\", \"value\": \"Q52_1_0\", \"label\": \"Q52_1_0\"}, {\"component 0\": 0.5069631146833412, \"component 1\": 0.14226520460900924, \"variable\": \"column\", \"value\": \"Q52_1_1\", \"label\": \"Q52_1_1\"}, {\"component 0\": 0.2566952999949763, \"component 1\": -0.05302862050836318, \"variable\": \"column\", \"value\": \"Q52_1_2\", \"label\": \"Q52_1_2\"}, {\"component 0\": 1.5881517133247245, \"component 1\": 1.4289004823095095, \"variable\": \"column\", \"value\": \"Q52_1_3\", \"label\": \"Q52_1_3\"}, {\"component 0\": 0.1797942845487627, \"component 1\": -0.11906667135500194, \"variable\": \"column\", \"value\": \"Q52_1_4\", \"label\": \"Q52_1_4\"}, {\"component 0\": -0.23188864628503744, \"component 1\": -0.05734888626559896, \"variable\": \"column\", \"value\": \"Q54_1_0\", \"label\": \"Q54_1_0\"}, {\"component 0\": 0.6790269233861749, \"component 1\": 0.12820579708716903, \"variable\": \"column\", \"value\": \"Q54_1_1\", \"label\": \"Q54_1_1\"}, {\"component 0\": 0.2883959637378594, \"component 1\": 0.023283683742445032, \"variable\": \"column\", \"value\": \"Q54_1_2\", \"label\": \"Q54_1_2\"}, {\"component 0\": 0.22959185287822992, \"component 1\": 0.6868484826087176, \"variable\": \"column\", \"value\": \"Q54_1_3\", \"label\": \"Q54_1_3\"}, {\"component 0\": -0.9455713887373066, \"component 1\": 0.24564366643717742, \"variable\": \"column\", \"value\": \"ActRadic_1_1.0\", \"label\": \"ActRadic_1_1.0\"}, {\"component 0\": 2.078863470506841, \"component 1\": 1.2832544110220054, \"variable\": \"column\", \"value\": \"ActRadic_1_3.0\", \"label\": \"ActRadic_1_3.0\"}, {\"component 0\": -0.5687698883718674, \"component 1\": 0.22823241970640937, \"variable\": \"column\", \"value\": \"ActRadic_1_5.0\", \"label\": \"ActRadic_1_5.0\"}, {\"component 0\": 0.10080710788545544, \"component 1\": -0.1003614046216696, \"variable\": \"column\", \"value\": \"ActRadic_1_7.0\", \"label\": \"ActRadic_1_7.0\"}, {\"component 0\": -0.5511448350938026, \"component 1\": 0.40805321324254556, \"variable\": \"column\", \"value\": \"Q76_2_1.0\", \"label\": \"Q76_2_1.0\"}, {\"component 0\": -0.3055300957600194, \"component 1\": -0.36050019859153537, \"variable\": \"column\", \"value\": \"Q76_2_3.0\", \"label\": \"Q76_2_3.0\"}, {\"component 0\": -1.3202541283150468, \"component 1\": 1.5303628067791604, \"variable\": \"column\", \"value\": \"Q76_2_5.0\", \"label\": \"Q76_2_5.0\"}, {\"component 0\": 0.16277227281963902, \"component 1\": -0.13443358987511872, \"variable\": \"column\", \"value\": \"Q76_2_7.0\", \"label\": \"Q76_2_7.0\"}, {\"component 0\": -0.5476947236367009, \"component 1\": 0.872396666226034, \"variable\": \"column\", \"value\": \"Q72_1_1.0\", \"label\": \"Q72_1_1.0\"}, {\"component 0\": 1.0617692213634486, \"component 1\": 0.18849677868524944, \"variable\": \"column\", \"value\": \"Q72_1_3.0\", \"label\": \"Q72_1_3.0\"}, {\"component 0\": -0.7042437656352116, \"component 1\": -0.20478841899930308, \"variable\": \"column\", \"value\": \"Q72_1_5.0\", \"label\": \"Q72_1_5.0\"}, {\"component 0\": 0.19522387409572023, \"component 1\": -0.09634831741516885, \"variable\": \"column\", \"value\": \"Q72_1_7.0\", \"label\": \"Q72_1_7.0\"}, {\"component 0\": -0.09484652929999046, \"component 1\": 1.0014131321068862, \"variable\": \"column\", \"value\": \"Q72_3_1.0\", \"label\": \"Q72_3_1.0\"}, {\"component 0\": 0.5013672141098781, \"component 1\": -0.1915603363999118, \"variable\": \"column\", \"value\": \"Q72_3_3.0\", \"label\": \"Q72_3_3.0\"}, {\"component 0\": -0.5749536605206468, \"component 1\": 0.23737913299965346, \"variable\": \"column\", \"value\": \"Q72_3_5.0\", \"label\": \"Q72_3_5.0\"}, {\"component 0\": 0.2950059466422804, \"component 1\": -0.24246057185777617, \"variable\": \"column\", \"value\": \"Q72_3_7.0\", \"label\": \"Q72_3_7.0\"}, {\"component 0\": -0.34760319725529865, \"component 1\": 1.0305738283111006, \"variable\": \"column\", \"value\": \"Q72_4_1.0\", \"label\": \"Q72_4_1.0\"}, {\"component 0\": 0.7935526036116558, \"component 1\": 0.1754974802366395, \"variable\": \"column\", \"value\": \"Q72_4_3.0\", \"label\": \"Q72_4_3.0\"}, {\"component 0\": -0.6938669976190234, \"component 1\": 0.09432120424373522, \"variable\": \"column\", \"value\": \"Q72_4_5.0\", \"label\": \"Q72_4_5.0\"}, {\"component 0\": 0.30624733752699335, \"component 1\": -0.19663602550955403, \"variable\": \"column\", \"value\": \"Q72_4_7.0\", \"label\": \"Q72_4_7.0\"}, {\"component 0\": -0.8488648897439661, \"component 1\": 0.505455913642752, \"variable\": \"column\", \"value\": \"Q78_4_1.0\", \"label\": \"Q78_4_1.0\"}, {\"component 0\": 2.91629580932846, \"component 1\": 1.8232434043604915, \"variable\": \"column\", \"value\": \"Q78_4_3.0\", \"label\": \"Q78_4_3.0\"}, {\"component 0\": -0.6073146954116693, \"component 1\": -0.25384917528091944, \"variable\": \"column\", \"value\": \"Q78_4_5.0\", \"label\": \"Q78_4_5.0\"}, {\"component 0\": 0.16566152711694532, \"component 1\": -0.21043533249311647, \"variable\": \"column\", \"value\": \"Q78_4_7.0\", \"label\": \"Q78_4_7.0\"}]}}, {\"mode\": \"vega-lite\"});\n",
       "</script>"
      ],
      "text/plain": [
       "alt.LayerChart(...)"
      ]
     },
     "execution_count": 21,
     "metadata": {},
     "output_type": "execute_result"
    }
   ],
   "source": [
    "# https://maxhalford.github.io/prince/ca/\n",
    "\n",
    "# https://maxhalford.github.io/prince/mca/\n",
    "\n",
    "X = df[categorical_features[1:]]\n",
    "\n",
    "# Realizar el análisis de correspondencia múltiple\n",
    "mca = prince.MCA(\n",
    "    n_components=2,  # Número de componentes principales a extraer\n",
    "    n_iter=3,  # Número de iteraciones de la alternancia de mínimos cuadrados\n",
    "    copy=True,\n",
    "    check_input=True,\n",
    "    engine='sklearn',\n",
    "    random_state=42  # Semilla para reproducibilidad\n",
    ")\n",
    "\n",
    "# Ajustar el MCA al conjunto de datos\n",
    "mca = mca.fit(X)\n",
    "\n",
    "# Obtener las coordenadas de las filas (observaciones) y columnas (categorías)\n",
    "row_coords = mca.row_coordinates(X)\n",
    "col_coords = mca.column_coordinates(X)\n",
    "\n",
    "# Obtener los valores propios\n",
    "eigenvalues = mca.eigenvalues_\n",
    "\n",
    "# Calcular la inercia explicada por cada componente principal\n",
    "explained_inertia_row = mca.row_contributions_.head().style.format('{:.0%}')\n",
    "explained_inertia_col = mca.column_contributions_.head().style.format('{:.0%}')\n",
    "\n",
    "mca.plot(\n",
    "    X,\n",
    "    x_component=0,\n",
    "    y_component=1,\n",
    "    show_column_markers=True,\n",
    "    show_row_markers=True,\n",
    "    show_column_labels=False,\n",
    "    show_row_labels=False\n",
    ")\n",
    "\n"
   ]
  },
  {
   "cell_type": "code",
   "execution_count": 22,
   "metadata": {},
   "outputs": [
    {
     "data": {
      "text/html": [
       "<div>\n",
       "<style scoped>\n",
       "    .dataframe tbody tr th:only-of-type {\n",
       "        vertical-align: middle;\n",
       "    }\n",
       "\n",
       "    .dataframe tbody tr th {\n",
       "        vertical-align: top;\n",
       "    }\n",
       "\n",
       "    .dataframe thead th {\n",
       "        text-align: right;\n",
       "    }\n",
       "</style>\n",
       "<table border=\"1\" class=\"dataframe\">\n",
       "  <thead>\n",
       "    <tr style=\"text-align: right;\">\n",
       "      <th></th>\n",
       "      <th>0</th>\n",
       "      <th>1</th>\n",
       "      <th>SUM</th>\n",
       "    </tr>\n",
       "  </thead>\n",
       "  <tbody>\n",
       "    <tr>\n",
       "      <th>Q78_4_3.0</th>\n",
       "      <td>0.035201</td>\n",
       "      <td>0.017791</td>\n",
       "      <td>5.299141</td>\n",
       "    </tr>\n",
       "    <tr>\n",
       "      <th>Identity Fusion_3_1.0</th>\n",
       "      <td>0.006353</td>\n",
       "      <td>0.041969</td>\n",
       "      <td>4.832233</td>\n",
       "    </tr>\n",
       "    <tr>\n",
       "      <th>Identity Fusion_3_3.0</th>\n",
       "      <td>0.029709</td>\n",
       "      <td>0.018102</td>\n",
       "      <td>4.781080</td>\n",
       "    </tr>\n",
       "    <tr>\n",
       "      <th>Identity Fusion_2_7.0</th>\n",
       "      <td>0.024955</td>\n",
       "      <td>0.018213</td>\n",
       "      <td>4.316839</td>\n",
       "    </tr>\n",
       "    <tr>\n",
       "      <th>Salment_2_7.0</th>\n",
       "      <td>0.007014</td>\n",
       "      <td>0.035620</td>\n",
       "      <td>4.263400</td>\n",
       "    </tr>\n",
       "  </tbody>\n",
       "</table>\n",
       "</div>"
      ],
      "text/plain": [
       "                              0         1       SUM\n",
       "Q78_4_3.0              0.035201  0.017791  5.299141\n",
       "Identity Fusion_3_1.0  0.006353  0.041969  4.832233\n",
       "Identity Fusion_3_3.0  0.029709  0.018102  4.781080\n",
       "Identity Fusion_2_7.0  0.024955  0.018213  4.316839\n",
       "Salment_2_7.0          0.007014  0.035620  4.263400"
      ]
     },
     "execution_count": 22,
     "metadata": {},
     "output_type": "execute_result"
    }
   ],
   "source": [
    "pedro=mca.column_contributions_\n",
    "pedro['SUM'] = (pedro[0] + pedro[1])*100\n",
    "pedro = pedro.sort_values(by='SUM', ascending=False)\n",
    "pedro.head()"
   ]
  },
  {
   "cell_type": "code",
   "execution_count": 23,
   "metadata": {},
   "outputs": [
    {
     "name": "stdout",
     "output_type": "stream",
     "text": [
      "Coordenadas de fila:\n",
      "[[ 3.57769962e-04 -1.37417702e-03]\n",
      " [-5.26668878e-04  1.08971983e-04]\n",
      " [ 5.61544186e-04  2.33068584e-05]\n",
      " [-2.34044791e-04  4.50804303e-04]\n",
      " [-2.70944216e-04 -6.57749313e-04]\n",
      " [-1.17061012e-04  1.44918545e-03]\n",
      " [ 2.29404749e-04 -3.42254615e-07]\n",
      " [ 4.38918724e-04  4.94130333e-04]\n",
      " [ 1.15226039e-03 -1.98167039e-04]\n",
      " [-2.79848489e-04 -6.47000479e-04]\n",
      " [-2.26900025e-03  3.93653824e-03]\n",
      " [ 7.08328906e-04 -3.56720763e-03]\n",
      " [ 2.49340721e-04 -1.82934226e-05]\n",
      " [ 1.05007992e-03 -1.58173289e-04]\n",
      " [-4.89326842e-04  8.37929435e-04]\n",
      " [-6.16761173e-04 -3.15100495e-05]\n",
      " [ 1.99599762e-04 -3.94722738e-04]\n",
      " [-1.49565603e-03  2.47913024e-04]\n",
      " [ 2.56091082e-03  3.81102763e-03]\n",
      " [-1.34917604e-03 -4.26228302e-03]\n",
      " [ 1.40329582e-04 -5.01809919e-05]\n",
      " [-5.29624173e-04  3.93325850e-04]\n",
      " [-2.88360352e-04  1.17630101e-04]\n",
      " [-4.34174447e-04 -6.26889027e-05]\n",
      " [-1.04548968e-03 -1.14377422e-03]\n",
      " [-2.86581022e-04  6.64683181e-03]\n",
      " [ 7.95350217e-04 -5.79467054e-03]\n",
      " [ 1.78887946e-03 -1.56654104e-04]\n",
      " [ 1.13526584e-04  2.07728528e-04]\n",
      " [ 7.87624746e-04  6.19967234e-04]\n",
      " [ 1.41805082e-04  7.24376399e-05]\n",
      " [-6.55057805e-04  1.72764559e-04]\n",
      " [ 3.11553322e-04 -8.50929029e-04]\n",
      " [-6.40298774e-04  5.14303610e-03]\n",
      " [-8.57087277e-04 -5.67177701e-03]\n",
      " [ 7.97934122e-04  3.06771974e-04]\n",
      " [-5.48611885e-04 -2.05614350e-05]\n",
      " [ 1.10018896e-04  1.16597336e-03]\n",
      " [-3.07388076e-04 -1.26907301e-03]\n",
      " [-1.31510276e-03  8.73636491e-04]\n",
      " [-4.82279027e-04 -2.74733223e-04]\n",
      " [ 2.27998238e-03  5.70385022e-03]\n",
      " [ 2.63380468e-04 -6.17909241e-03]\n",
      " [-2.47704090e-04  5.25887843e-04]\n",
      " [ 5.81576494e-04  2.67182880e-04]\n",
      " [-1.13109452e-03  1.99922811e-04]\n",
      " [-1.18500951e-03  2.07543388e-03]\n",
      " [-1.75071982e-03  5.22555753e-04]\n",
      " [ 3.30795057e-03 -2.75341821e-03]\n",
      " [-3.28103854e-04 -8.96331058e-04]\n",
      " [ 7.53104729e-04  5.87660981e-05]\n",
      " [-2.44518901e-03  2.11692207e-03]\n",
      " [ 4.70870777e-04  8.96912690e-04]\n",
      " [ 4.22390071e-04 -5.06376554e-04]\n",
      " [-4.37643404e-04  4.61725988e-04]\n",
      " [ 1.57744039e-03  1.21105863e-03]\n",
      " [ 7.77596688e-04 -1.11282212e-03]\n",
      " [-4.74149548e-04 -3.17156129e-03]\n",
      " [ 1.08684038e-04  1.04140590e-04]\n",
      " [-8.95324987e-05  3.55336914e-03]\n",
      " [-1.09514137e-03  1.20890063e-03]\n",
      " [-1.69414292e-03  1.27623407e-03]\n",
      " [ 6.23787371e-04 -1.59534865e-03]\n",
      " [ 3.18884389e-03 -3.69726681e-03]\n",
      " [-9.33814477e-04 -7.45888375e-04]\n",
      " [ 5.04324655e-04  4.74578630e-03]\n",
      " [-9.23403171e-04  9.22927375e-04]\n",
      " [-1.82344789e-03  2.09421757e-03]\n",
      " [ 6.74535710e-04 -3.08988901e-03]\n",
      " [ 2.22870565e-03 -3.52217057e-03]\n",
      " [-6.60714957e-04 -1.15087167e-03]\n",
      " [ 1.05808508e-03  3.46498387e-03]\n",
      " [ 4.41213492e-04  1.02028776e-03]\n",
      " [-1.90970764e-03  1.59873801e-03]\n",
      " [-5.32334581e-04 -4.12885285e-03]\n",
      " [ 1.92661136e-03 -1.12454785e-03]\n",
      " [-9.83867708e-04 -8.30608952e-04]\n",
      " [ 6.83211795e-04  4.09976823e-03]\n",
      " [-3.61099107e-04  6.64089813e-04]\n",
      " [-3.00005333e-03 -6.35612503e-04]\n",
      " [ 1.27166159e-03 -3.44184532e-03]\n",
      " [ 2.21898561e-03 -1.27906866e-03]\n",
      " [-8.12706558e-04  5.92668442e-04]\n",
      " [ 1.34840025e-04 -1.38358899e-04]\n",
      " [-2.48748173e-04  3.70903280e-04]\n",
      " [ 7.72479786e-03  4.84940656e-03]\n",
      " [-7.61088971e-03 -5.08195094e-03]\n",
      " [ 1.12405324e-03 -1.18728511e-03]\n",
      " [-7.75336815e-04  1.02195904e-03]\n",
      " [ 7.46833992e-03  4.70643983e-03]\n",
      " [-7.81705635e-03 -4.54111376e-03]\n",
      " [ 1.09190430e-03 -5.77813408e-04]\n",
      " [-1.40629321e-03  3.84840108e-04]\n",
      " [ 6.74019534e-03  3.67305539e-03]\n",
      " [-6.42580643e-03 -3.48008209e-03]\n",
      " [-8.36017469e-04 -1.78675611e-04]\n",
      " [-1.26272527e-03 -1.27854659e-04]\n",
      " [ 7.17847693e-03  3.19738588e-03]\n",
      " [-5.07973420e-03 -2.89085561e-03]\n",
      " [-4.50464949e-04 -8.79398372e-05]\n",
      " [-1.32416015e-03  6.45416581e-04]\n",
      " [ 5.34874616e-03 -1.22748287e-03]\n",
      " [-3.57412107e-03  6.70006124e-04]\n",
      " [-1.97139341e-04 -6.45428507e-04]\n",
      " [-3.67865055e-04  3.81867787e-04]\n",
      " [ 4.49357549e-03  5.19504206e-03]\n",
      " [-3.92857109e-03 -4.93148134e-03]\n",
      " [ 1.08472294e-06  3.71679715e-04]\n",
      " [ 5.92989537e-04  9.33708136e-04]\n",
      " [ 3.94516840e-03 -1.56075520e-03]\n",
      " [-4.53924266e-03  2.55367345e-04]\n",
      " [-7.20434313e-04  8.29352182e-06]\n",
      " [ 2.01954796e-04  1.08120013e-04]\n",
      " [ 3.80729584e-03  1.56065391e-03]\n",
      " [-3.28881632e-03 -1.67706744e-03]\n",
      " [-8.73638936e-05 -1.20135666e-03]\n",
      " [-1.68952977e-03 -2.61540663e-04]\n",
      " [ 6.48271851e-03  9.11663843e-04]\n",
      " [-4.70582484e-03  5.51233482e-04]\n",
      " [ 1.29603149e-03  3.85568974e-04]\n",
      " [-9.42547205e-04 -8.16178751e-05]\n",
      " [ 3.61422492e-03  9.83545945e-04]\n",
      " [-3.96770920e-03 -1.28749704e-03]\n",
      " [-1.69742437e-03  4.07071966e-03]\n",
      " [ 1.44921822e-03 -1.26030130e-03]\n",
      " [ 1.94497019e-03 -1.23056298e-03]\n",
      " [-7.57314441e-04  1.01582521e-03]\n",
      " [-7.93715262e-04 -9.09630656e-04]\n",
      " [ 5.71492641e-05 -1.56691550e-03]\n",
      " [-7.81865625e-04 -1.32041687e-04]\n",
      " [ 5.78982025e-04  1.29072507e-05]\n",
      " [ 7.66282650e-04  4.46920147e-04]\n",
      " [-3.20180263e-04 -4.52542367e-05]\n",
      " [ 1.78229217e-03  1.34504076e-03]\n",
      " [-1.30579354e-03 -3.55853731e-04]\n",
      " [ 1.02623503e-03 -1.55247036e-03]\n",
      " [ 3.16097145e-04 -7.26934246e-04]\n",
      " [-2.26493320e-03  8.88551672e-04]\n",
      " [-4.68698488e-04  9.12533210e-04]\n",
      " [ 4.61033799e-04  1.43784660e-04]\n",
      " [-8.13573772e-04 -8.36621264e-04]\n",
      " [ 1.70726850e-03  1.25184702e-04]\n",
      " [ 1.38209836e-03 -1.33533565e-04]\n",
      " [-2.56870215e-04 -1.67081662e-03]\n",
      " [-2.01125818e-03  1.45946888e-03]\n",
      " [ 2.65988587e-03 -4.40098144e-03]\n",
      " [-1.46815035e-03  1.69251163e-03]\n",
      " [-1.78298732e-03  9.15833406e-04]\n",
      " [ 1.75580124e-03  1.24218042e-03]\n",
      " [-1.14055588e-03  7.20257905e-04]\n",
      " [ 2.07976510e-04 -2.49535203e-05]\n",
      " [-2.31970064e-04 -1.44848401e-04]\n",
      " [ 1.28915980e-03 -5.08565603e-03]\n",
      " [-2.13375639e-03  2.63648572e-03]\n",
      " [-6.80169269e-04  9.56414145e-04]\n",
      " [ 1.26123228e-03  5.42362729e-04]\n",
      " [-8.34795399e-05  6.74095414e-04]\n",
      " [-2.78648155e-05  1.35449819e-04]\n",
      " [ 3.74877941e-04  1.40848203e-04]\n",
      " [ 3.72265542e-03 -1.92566973e-03]\n",
      " [-8.02117600e-04  1.31523162e-03]\n",
      " [-1.93570933e-03  2.02708139e-03]\n",
      " [ 8.47700840e-05 -6.78441495e-04]\n",
      " [-1.04556865e-03 -7.59242591e-04]\n",
      " [-1.87015041e-04 -4.37628386e-05]\n",
      " [ 1.62985117e-04  6.48036506e-05]\n",
      " [ 6.31221529e-03 -5.33147481e-03]\n",
      " [-4.86093624e-03  2.83416765e-03]\n",
      " [-1.99626316e-03  1.71649746e-03]\n",
      " [ 3.31634994e-04  2.89526087e-04]\n",
      " [ 2.13349115e-04  4.91283608e-04]\n",
      " [ 4.63086927e-03 -4.89915070e-03]\n",
      " [-4.46584822e-03  2.71417751e-03]\n",
      " [-4.68435406e-04  1.53943933e-03]\n",
      " [-2.58129833e-04  6.22227003e-04]\n",
      " [ 5.61544186e-04  2.33068584e-05]\n",
      " [ 5.77420795e-03 -3.59557827e-03]\n",
      " [-3.64834328e-03  1.86846591e-03]\n",
      " [-7.73438655e-04  6.54909694e-04]\n",
      " [-9.91646621e-04  1.09289501e-03]\n",
      " [-3.60779385e-04 -2.06923402e-05]\n",
      " [ 4.74041656e-03 -3.73010383e-03]\n",
      " [-2.75324454e-03  1.31377825e-03]\n",
      " [-1.69030603e-03  1.85121410e-03]\n",
      " [-2.96865997e-04  5.65111492e-04]\n",
      " [ 3.26305059e-03 -7.89831651e-05]\n",
      " [-3.42509648e-04  1.44766881e-04]\n",
      " [ 5.81877211e-04  8.06159291e-04]\n",
      " [-3.50241815e-03 -8.71943007e-04]\n",
      " [ 2.20701172e-03  6.80574907e-04]\n",
      " [-1.27836780e-04 -2.87892518e-04]\n",
      " [ 8.28720878e-04  4.51095592e-04]\n",
      " [-2.90789582e-03 -8.43777981e-04]\n",
      " [ 9.23780813e-04  8.84246472e-04]\n",
      " [-5.16209220e-04 -4.59301320e-04]\n",
      " [ 4.12625467e-03 -3.27814801e-03]\n",
      " [-4.53382627e-03  2.85320285e-03]\n",
      " [ 9.03497281e-05  8.48201105e-04]\n",
      " [-3.58095679e-04  2.90737257e-04]\n",
      " [ 5.25944546e-03 -2.17081784e-03]\n",
      " [-4.99169951e-03  1.03187948e-03]\n",
      " [ 2.79988644e-04  9.78157886e-04]\n",
      " [-4.94042207e-04  3.68434919e-04]\n",
      " [ 5.85772987e-03 -2.38534739e-03]\n",
      " [-5.64367631e-03  1.03875458e-03]\n",
      " [ 4.29353961e-03  5.00054742e-04]\n",
      " [-7.91646290e-04  1.44170325e-04]\n",
      " [ 1.84149201e-04 -8.81904738e-04]\n",
      " [-3.68604252e-03  2.37679671e-04]]\n",
      "\n",
      "Coordenadas de columna:\n",
      "[[ 3.57769962e-04 -1.37417702e-03]\n",
      " [-5.26668878e-04  1.08971983e-04]\n",
      " [ 5.61544186e-04  2.33068584e-05]\n",
      " [-2.34044791e-04  4.50804303e-04]\n",
      " [-2.70944216e-04 -6.57749313e-04]\n",
      " [-1.17061012e-04  1.44918545e-03]\n",
      " [ 2.29404749e-04 -3.42254615e-07]\n",
      " [ 4.38918724e-04  4.94130333e-04]\n",
      " [ 1.15226039e-03 -1.98167039e-04]\n",
      " [-2.79848489e-04 -6.47000479e-04]\n",
      " [-2.26900025e-03  3.93653824e-03]\n",
      " [ 7.08328906e-04 -3.56720763e-03]\n",
      " [ 2.49340721e-04 -1.82934226e-05]\n",
      " [ 1.05007992e-03 -1.58173289e-04]\n",
      " [-4.89326842e-04  8.37929435e-04]\n",
      " [-6.16761173e-04 -3.15100495e-05]\n",
      " [ 1.99599762e-04 -3.94722738e-04]\n",
      " [-1.49565603e-03  2.47913024e-04]\n",
      " [ 2.56091082e-03  3.81102763e-03]\n",
      " [-1.34917604e-03 -4.26228302e-03]\n",
      " [ 1.40329582e-04 -5.01809919e-05]\n",
      " [-5.29624173e-04  3.93325850e-04]\n",
      " [-2.88360352e-04  1.17630101e-04]\n",
      " [-4.34174447e-04 -6.26889027e-05]\n",
      " [-1.04548968e-03 -1.14377422e-03]\n",
      " [-2.86581022e-04  6.64683181e-03]\n",
      " [ 7.95350217e-04 -5.79467054e-03]\n",
      " [ 1.78887946e-03 -1.56654104e-04]\n",
      " [ 1.13526584e-04  2.07728528e-04]\n",
      " [ 7.87624746e-04  6.19967234e-04]\n",
      " [ 1.41805082e-04  7.24376399e-05]\n",
      " [-6.55057805e-04  1.72764559e-04]\n",
      " [ 3.11553322e-04 -8.50929029e-04]\n",
      " [-6.40298774e-04  5.14303610e-03]\n",
      " [-8.57087277e-04 -5.67177701e-03]\n",
      " [ 7.97934122e-04  3.06771974e-04]\n",
      " [-5.48611885e-04 -2.05614350e-05]\n",
      " [ 1.10018896e-04  1.16597336e-03]\n",
      " [-3.07388076e-04 -1.26907301e-03]\n",
      " [-1.31510276e-03  8.73636491e-04]\n",
      " [-4.82279027e-04 -2.74733223e-04]\n",
      " [ 2.27998238e-03  5.70385022e-03]\n",
      " [ 2.63380468e-04 -6.17909241e-03]\n",
      " [-2.47704090e-04  5.25887843e-04]\n",
      " [ 5.81576494e-04  2.67182880e-04]\n",
      " [-1.13109452e-03  1.99922811e-04]\n",
      " [-1.18500951e-03  2.07543388e-03]\n",
      " [-1.75071982e-03  5.22555753e-04]\n",
      " [ 3.30795057e-03 -2.75341821e-03]\n",
      " [-3.28103854e-04 -8.96331058e-04]\n",
      " [ 7.53104729e-04  5.87660981e-05]\n",
      " [-2.44518901e-03  2.11692207e-03]\n",
      " [ 4.70870777e-04  8.96912690e-04]\n",
      " [ 4.22390071e-04 -5.06376554e-04]\n",
      " [-4.37643404e-04  4.61725988e-04]\n",
      " [ 1.57744039e-03  1.21105863e-03]\n",
      " [ 7.77596688e-04 -1.11282212e-03]\n",
      " [-4.74149548e-04 -3.17156129e-03]\n",
      " [ 1.08684038e-04  1.04140590e-04]\n",
      " [-8.95324987e-05  3.55336914e-03]\n",
      " [-1.09514137e-03  1.20890063e-03]\n",
      " [-1.69414292e-03  1.27623407e-03]\n",
      " [ 6.23787371e-04 -1.59534865e-03]\n",
      " [ 3.18884389e-03 -3.69726681e-03]\n",
      " [-9.33814477e-04 -7.45888375e-04]\n",
      " [ 5.04324655e-04  4.74578630e-03]\n",
      " [-9.23403171e-04  9.22927375e-04]\n",
      " [-1.82344789e-03  2.09421757e-03]\n",
      " [ 6.74535710e-04 -3.08988901e-03]\n",
      " [ 2.22870565e-03 -3.52217057e-03]\n",
      " [-6.60714957e-04 -1.15087167e-03]\n",
      " [ 1.05808508e-03  3.46498387e-03]\n",
      " [ 4.41213492e-04  1.02028776e-03]\n",
      " [-1.90970764e-03  1.59873801e-03]\n",
      " [-5.32334581e-04 -4.12885285e-03]\n",
      " [ 1.92661136e-03 -1.12454785e-03]\n",
      " [-9.83867708e-04 -8.30608952e-04]\n",
      " [ 6.83211795e-04  4.09976823e-03]\n",
      " [-3.61099107e-04  6.64089813e-04]\n",
      " [-3.00005333e-03 -6.35612503e-04]\n",
      " [ 1.27166159e-03 -3.44184532e-03]\n",
      " [ 2.21898561e-03 -1.27906866e-03]\n",
      " [-8.12706558e-04  5.92668442e-04]\n",
      " [ 1.34840025e-04 -1.38358899e-04]\n",
      " [-2.48748173e-04  3.70903280e-04]\n",
      " [ 7.72479786e-03  4.84940656e-03]\n",
      " [-7.61088971e-03 -5.08195094e-03]\n",
      " [ 1.12405324e-03 -1.18728511e-03]\n",
      " [-7.75336815e-04  1.02195904e-03]\n",
      " [ 7.46833992e-03  4.70643983e-03]\n",
      " [-7.81705635e-03 -4.54111376e-03]\n",
      " [ 1.09190430e-03 -5.77813408e-04]\n",
      " [-1.40629321e-03  3.84840108e-04]\n",
      " [ 6.74019534e-03  3.67305539e-03]\n",
      " [-6.42580643e-03 -3.48008209e-03]\n",
      " [-8.36017469e-04 -1.78675611e-04]\n",
      " [-1.26272527e-03 -1.27854659e-04]\n",
      " [ 7.17847693e-03  3.19738588e-03]\n",
      " [-5.07973420e-03 -2.89085561e-03]\n",
      " [-4.50464949e-04 -8.79398372e-05]\n",
      " [-1.32416015e-03  6.45416581e-04]\n",
      " [ 5.34874616e-03 -1.22748287e-03]\n",
      " [-3.57412107e-03  6.70006124e-04]\n",
      " [-1.97139341e-04 -6.45428507e-04]\n",
      " [-3.67865055e-04  3.81867787e-04]\n",
      " [ 4.49357549e-03  5.19504206e-03]\n",
      " [-3.92857109e-03 -4.93148134e-03]\n",
      " [ 1.08472294e-06  3.71679715e-04]\n",
      " [ 5.92989537e-04  9.33708136e-04]\n",
      " [ 3.94516840e-03 -1.56075520e-03]\n",
      " [-4.53924266e-03  2.55367345e-04]\n",
      " [-7.20434313e-04  8.29352182e-06]\n",
      " [ 2.01954796e-04  1.08120013e-04]\n",
      " [ 3.80729584e-03  1.56065391e-03]\n",
      " [-3.28881632e-03 -1.67706744e-03]\n",
      " [-8.73638936e-05 -1.20135666e-03]\n",
      " [-1.68952977e-03 -2.61540663e-04]\n",
      " [ 6.48271851e-03  9.11663843e-04]\n",
      " [-4.70582484e-03  5.51233482e-04]\n",
      " [ 1.29603149e-03  3.85568974e-04]\n",
      " [-9.42547205e-04 -8.16178751e-05]\n",
      " [ 3.61422492e-03  9.83545945e-04]\n",
      " [-3.96770920e-03 -1.28749704e-03]\n",
      " [-1.69742437e-03  4.07071966e-03]\n",
      " [ 1.44921822e-03 -1.26030130e-03]\n",
      " [ 1.94497019e-03 -1.23056298e-03]\n",
      " [-7.57314441e-04  1.01582521e-03]\n",
      " [-7.93715262e-04 -9.09630656e-04]\n",
      " [ 5.71492641e-05 -1.56691550e-03]\n",
      " [-7.81865625e-04 -1.32041687e-04]\n",
      " [ 5.78982025e-04  1.29072507e-05]\n",
      " [ 7.66282650e-04  4.46920147e-04]\n",
      " [-3.20180263e-04 -4.52542367e-05]\n",
      " [ 1.78229217e-03  1.34504076e-03]\n",
      " [-1.30579354e-03 -3.55853731e-04]\n",
      " [ 1.02623503e-03 -1.55247036e-03]\n",
      " [ 3.16097145e-04 -7.26934246e-04]\n",
      " [-2.26493320e-03  8.88551672e-04]\n",
      " [-4.68698488e-04  9.12533210e-04]\n",
      " [ 4.61033799e-04  1.43784660e-04]\n",
      " [-8.13573772e-04 -8.36621264e-04]\n",
      " [ 1.70726850e-03  1.25184702e-04]\n",
      " [ 1.38209836e-03 -1.33533565e-04]\n",
      " [-2.56870215e-04 -1.67081662e-03]\n",
      " [-2.01125818e-03  1.45946888e-03]\n",
      " [ 2.65988587e-03 -4.40098144e-03]\n",
      " [-1.46815035e-03  1.69251163e-03]\n",
      " [-1.78298732e-03  9.15833406e-04]\n",
      " [ 1.75580124e-03  1.24218042e-03]\n",
      " [-1.14055588e-03  7.20257905e-04]\n",
      " [ 2.07976510e-04 -2.49535203e-05]\n",
      " [-2.31970064e-04 -1.44848401e-04]\n",
      " [ 1.28915980e-03 -5.08565603e-03]\n",
      " [-2.13375639e-03  2.63648572e-03]\n",
      " [-6.80169269e-04  9.56414145e-04]\n",
      " [ 1.26123228e-03  5.42362729e-04]\n",
      " [-8.34795399e-05  6.74095414e-04]\n",
      " [-2.78648155e-05  1.35449819e-04]\n",
      " [ 3.74877941e-04  1.40848203e-04]\n",
      " [ 3.72265542e-03 -1.92566973e-03]\n",
      " [-8.02117600e-04  1.31523162e-03]\n",
      " [-1.93570933e-03  2.02708139e-03]\n",
      " [ 8.47700840e-05 -6.78441495e-04]\n",
      " [-1.04556865e-03 -7.59242591e-04]\n",
      " [-1.87015041e-04 -4.37628386e-05]\n",
      " [ 1.62985117e-04  6.48036506e-05]\n",
      " [ 6.31221529e-03 -5.33147481e-03]\n",
      " [-4.86093624e-03  2.83416765e-03]\n",
      " [-1.99626316e-03  1.71649746e-03]\n",
      " [ 3.31634994e-04  2.89526087e-04]\n",
      " [ 2.13349115e-04  4.91283608e-04]\n",
      " [ 4.63086927e-03 -4.89915070e-03]\n",
      " [-4.46584822e-03  2.71417751e-03]\n",
      " [-4.68435406e-04  1.53943933e-03]\n",
      " [-2.58129833e-04  6.22227003e-04]\n",
      " [ 5.61544186e-04  2.33068584e-05]\n",
      " [ 5.77420795e-03 -3.59557827e-03]\n",
      " [-3.64834328e-03  1.86846591e-03]\n",
      " [-7.73438655e-04  6.54909694e-04]\n",
      " [-9.91646621e-04  1.09289501e-03]\n",
      " [-3.60779385e-04 -2.06923402e-05]\n",
      " [ 4.74041656e-03 -3.73010383e-03]\n",
      " [-2.75324454e-03  1.31377825e-03]\n",
      " [-1.69030603e-03  1.85121410e-03]\n",
      " [-2.96865997e-04  5.65111492e-04]\n",
      " [ 3.26305059e-03 -7.89831651e-05]\n",
      " [-3.42509648e-04  1.44766881e-04]\n",
      " [ 5.81877211e-04  8.06159291e-04]\n",
      " [-3.50241815e-03 -8.71943007e-04]\n",
      " [ 2.20701172e-03  6.80574907e-04]\n",
      " [-1.27836780e-04 -2.87892518e-04]\n",
      " [ 8.28720878e-04  4.51095592e-04]\n",
      " [-2.90789582e-03 -8.43777981e-04]\n",
      " [ 9.23780813e-04  8.84246472e-04]\n",
      " [-5.16209220e-04 -4.59301320e-04]\n",
      " [ 4.12625467e-03 -3.27814801e-03]\n",
      " [-4.53382627e-03  2.85320285e-03]\n",
      " [ 9.03497281e-05  8.48201105e-04]\n",
      " [-3.58095679e-04  2.90737257e-04]\n",
      " [ 5.25944546e-03 -2.17081784e-03]\n",
      " [-4.99169951e-03  1.03187948e-03]\n",
      " [ 2.79988644e-04  9.78157886e-04]\n",
      " [-4.94042207e-04  3.68434919e-04]\n",
      " [ 5.85772987e-03 -2.38534739e-03]\n",
      " [-5.64367631e-03  1.03875458e-03]\n",
      " [ 4.29353961e-03  5.00054742e-04]\n",
      " [-7.91646290e-04  1.44170325e-04]\n",
      " [ 1.84149201e-04 -8.81904738e-04]\n",
      " [-3.68604252e-03  2.37679671e-04]]\n",
      "\n",
      "Valores propios:\n",
      "[0.00125932 0.00092653]\n",
      "\n",
      "Inercia explicada por fila:\n",
      "[9.22460557e-04 1.32330578e-04 1.44508937e-04 1.18032482e-04\n",
      " 2.31509284e-04 9.67056405e-04 2.40760430e-05 1.99837190e-04\n",
      " 6.25373746e-04 2.27336937e-04 9.44469237e-03 6.05105143e-03\n",
      " 2.85954664e-05 5.15902658e-04 4.30755006e-04 1.74479931e-04\n",
      " 8.95056689e-05 1.05151140e-03 9.64484337e-03 9.14395699e-03\n",
      " 1.01610394e-05 1.99101805e-04 4.43710523e-05 8.80377028e-05\n",
      " 1.09855042e-03 2.02495462e-02 1.56510119e-02 1.47522837e-03\n",
      " 2.56373434e-05 4.59643342e-04 1.16000069e-05 2.09963170e-04\n",
      " 3.75663976e-04 1.22884845e-02 1.50530136e-02 3.34335562e-04\n",
      " 1.37885747e-04 6.27489110e-04 7.80031804e-04 1.14039582e-03\n",
      " 1.40938850e-04 1.72620263e-02 1.74991537e-02 1.54592081e-04\n",
      " 1.87395118e-04 6.03583503e-04 2.61301978e-03 1.52713226e-03\n",
      " 8.47443131e-03 4.16799350e-04 2.61051665e-04 4.78546146e-03\n",
      " 4.69460821e-04 1.98929605e-04 1.85155592e-04 1.80935488e-03\n",
      " 8.43163243e-04 4.70462819e-03 1.03655175e-05 5.78010355e-03\n",
      " 1.21727176e-03 2.05818808e-03 1.34238211e-03 1.09058217e-02\n",
      " 6.53456520e-04 1.04201180e-02 7.79773153e-04 3.52755404e-03\n",
      " 4.57597979e-03 7.94784734e-03 8.05658486e-04 6.00482557e-03\n",
      " 5.65297519e-04 2.83777116e-03 7.92862897e-03 2.27665926e-03\n",
      " 7.58471863e-04 7.90304258e-03 2.61412009e-04 4.30236135e-03\n",
      " 6.15934893e-03 3.00107926e-03 4.62862097e-04 1.70757328e-05\n",
      " 9.12435691e-05 3.80580493e-02 3.83154417e-02 1.22292916e-03\n",
      " 7.52817572e-04 3.56504892e-02 3.73895858e-02 6.98182516e-04\n",
      " 9.72510006e-04 2.69558878e-02 2.44307348e-02 3.34354903e-04\n",
      " 7.36931069e-04 2.82516018e-02 1.56281179e-02 9.63707191e-05\n",
      " 9.92731028e-04 1.37776052e-02 6.04947286e-03 2.08359016e-04\n",
      " 1.28621591e-04 2.15845777e-02 1.81865868e-02 6.32005348e-05\n",
      " 5.59712061e-04 8.23491903e-03 9.45623981e-03 2.37479248e-04\n",
      " 2.40069720e-05 7.74578778e-03 6.23503824e-03 6.63764326e-04\n",
      " 1.33719711e-03 1.96064414e-02 1.02699773e-02 8.36452529e-04\n",
      " 4.09477355e-04 6.41854401e-03 7.96045135e-03 8.89905267e-03\n",
      " 1.68748551e-03 2.42340075e-03 7.34462509e-04 6.66747862e-04\n",
      " 1.12472881e-03 2.87644814e-04 1.53435297e-04 3.60009223e-04\n",
      " 4.78364355e-05 2.28089599e-03 8.37993156e-04 1.58442716e-03\n",
      " 2.87462707e-04 2.70807341e-03 4.81457733e-04 1.06698093e-04\n",
      " 6.23023747e-04 1.34063858e-03 8.82048499e-04 1.30732139e-03\n",
      " 2.82508154e-03 1.20976333e-02 2.29661574e-03 1.83809126e-03\n",
      " 2.11626914e-03 8.32462369e-04 2.00731413e-05 3.42160335e-05\n",
      " 1.25927263e-02 5.26292524e-03 6.30124334e-04 8.62302016e-04\n",
      " 2.11072642e-04 8.74858193e-06 7.33680596e-05 8.03639536e-03\n",
      " 1.08572188e-03 3.59403618e-03 2.13861197e-04 7.63850183e-04\n",
      " 1.68766317e-05 1.40739939e-05 3.12320777e-02 1.44846101e-02\n",
      " 3.17104340e-03 8.86643579e-05 1.31242869e-04 2.07912691e-02\n",
      " 1.24942428e-02 1.18457504e-03 2.07606712e-04 1.44508937e-04\n",
      " 2.11677964e-02 7.68651173e-03 4.69891956e-04 9.96308517e-04\n",
      " 5.97432784e-05 1.66457890e-02 4.25754839e-03 2.87491074e-03\n",
      " 1.86417243e-04 4.87395288e-03 6.32569530e-05 4.52214558e-04\n",
      " 5.95979059e-03 2.44027685e-03 4.53939081e-05 4.07285448e-04\n",
      " 4.19416377e-03 7.48112475e-04 2.18418155e-04 1.27054520e-02\n",
      " 1.31282232e-02 3.32871730e-04 9.73353693e-05 1.48108030e-02\n",
      " 1.18863695e-02 4.73584992e-04 1.73763855e-04 1.83008226e-02\n",
      " 1.50651097e-02 8.54794422e-03 2.96218163e-04 3.71327548e-04\n",
      " 6.24168695e-03]\n",
      "\n",
      "Inercia explicada por columna:\n",
      "[9.22460557e-04 1.32330578e-04 1.44508937e-04 1.18032482e-04\n",
      " 2.31509284e-04 9.67056405e-04 2.40760430e-05 1.99837190e-04\n",
      " 6.25373746e-04 2.27336937e-04 9.44469237e-03 6.05105143e-03\n",
      " 2.85954664e-05 5.15902658e-04 4.30755006e-04 1.74479931e-04\n",
      " 8.95056689e-05 1.05151140e-03 9.64484337e-03 9.14395699e-03\n",
      " 1.01610394e-05 1.99101805e-04 4.43710523e-05 8.80377028e-05\n",
      " 1.09855042e-03 2.02495462e-02 1.56510119e-02 1.47522837e-03\n",
      " 2.56373434e-05 4.59643342e-04 1.16000069e-05 2.09963170e-04\n",
      " 3.75663976e-04 1.22884845e-02 1.50530136e-02 3.34335562e-04\n",
      " 1.37885747e-04 6.27489110e-04 7.80031804e-04 1.14039582e-03\n",
      " 1.40938850e-04 1.72620263e-02 1.74991537e-02 1.54592081e-04\n",
      " 1.87395118e-04 6.03583503e-04 2.61301978e-03 1.52713226e-03\n",
      " 8.47443131e-03 4.16799350e-04 2.61051665e-04 4.78546146e-03\n",
      " 4.69460821e-04 1.98929605e-04 1.85155592e-04 1.80935488e-03\n",
      " 8.43163243e-04 4.70462819e-03 1.03655175e-05 5.78010355e-03\n",
      " 1.21727176e-03 2.05818808e-03 1.34238211e-03 1.09058217e-02\n",
      " 6.53456520e-04 1.04201180e-02 7.79773153e-04 3.52755404e-03\n",
      " 4.57597979e-03 7.94784734e-03 8.05658486e-04 6.00482557e-03\n",
      " 5.65297519e-04 2.83777116e-03 7.92862897e-03 2.27665926e-03\n",
      " 7.58471863e-04 7.90304258e-03 2.61412009e-04 4.30236135e-03\n",
      " 6.15934893e-03 3.00107926e-03 4.62862097e-04 1.70757328e-05\n",
      " 9.12435691e-05 3.80580493e-02 3.83154417e-02 1.22292916e-03\n",
      " 7.52817572e-04 3.56504892e-02 3.73895858e-02 6.98182516e-04\n",
      " 9.72510006e-04 2.69558878e-02 2.44307348e-02 3.34354903e-04\n",
      " 7.36931069e-04 2.82516018e-02 1.56281179e-02 9.63707191e-05\n",
      " 9.92731028e-04 1.37776052e-02 6.04947286e-03 2.08359016e-04\n",
      " 1.28621591e-04 2.15845777e-02 1.81865868e-02 6.32005348e-05\n",
      " 5.59712061e-04 8.23491903e-03 9.45623981e-03 2.37479248e-04\n",
      " 2.40069720e-05 7.74578778e-03 6.23503824e-03 6.63764326e-04\n",
      " 1.33719711e-03 1.96064414e-02 1.02699773e-02 8.36452529e-04\n",
      " 4.09477355e-04 6.41854401e-03 7.96045135e-03 8.89905267e-03\n",
      " 1.68748551e-03 2.42340075e-03 7.34462509e-04 6.66747862e-04\n",
      " 1.12472881e-03 2.87644814e-04 1.53435297e-04 3.60009223e-04\n",
      " 4.78364355e-05 2.28089599e-03 8.37993156e-04 1.58442716e-03\n",
      " 2.87462707e-04 2.70807341e-03 4.81457733e-04 1.06698093e-04\n",
      " 6.23023747e-04 1.34063858e-03 8.82048499e-04 1.30732139e-03\n",
      " 2.82508154e-03 1.20976333e-02 2.29661574e-03 1.83809126e-03\n",
      " 2.11626914e-03 8.32462369e-04 2.00731413e-05 3.42160335e-05\n",
      " 1.25927263e-02 5.26292524e-03 6.30124334e-04 8.62302016e-04\n",
      " 2.11072642e-04 8.74858193e-06 7.33680596e-05 8.03639536e-03\n",
      " 1.08572188e-03 3.59403618e-03 2.13861197e-04 7.63850183e-04\n",
      " 1.68766317e-05 1.40739939e-05 3.12320777e-02 1.44846101e-02\n",
      " 3.17104340e-03 8.86643579e-05 1.31242869e-04 2.07912691e-02\n",
      " 1.24942428e-02 1.18457504e-03 2.07606712e-04 1.44508937e-04\n",
      " 2.11677964e-02 7.68651173e-03 4.69891956e-04 9.96308517e-04\n",
      " 5.97432784e-05 1.66457890e-02 4.25754839e-03 2.87491074e-03\n",
      " 1.86417243e-04 4.87395288e-03 6.32569530e-05 4.52214558e-04\n",
      " 5.95979059e-03 2.44027685e-03 4.53939081e-05 4.07285448e-04\n",
      " 4.19416377e-03 7.48112475e-04 2.18418155e-04 1.27054520e-02\n",
      " 1.31282232e-02 3.32871730e-04 9.73353693e-05 1.48108030e-02\n",
      " 1.18863695e-02 4.73584992e-04 1.73763855e-04 1.83008226e-02\n",
      " 1.50651097e-02 8.54794422e-03 2.96218163e-04 3.71327548e-04\n",
      " 6.24168695e-03]\n"
     ]
    }
   ],
   "source": [
    "import numpy as np\n",
    "from sklearn.preprocessing import OneHotEncoder\n",
    "from sklearn.decomposition import TruncatedSVD\n",
    "\n",
    "# Suponemos que 'df' es tu DataFrame y 'categorical_features' es una lista de nombres de columnas categóricas\n",
    "X = df[categorical_features[1:]].values\n",
    "\n",
    "# Codificación one-hot de las variables categóricas\n",
    "encoder = OneHotEncoder()\n",
    "X_encoded = encoder.fit_transform(X).toarray()\n",
    "\n",
    "# Cálculo de las masas\n",
    "masas = np.sum(X_encoded, axis=0) / np.sum(X_encoded)\n",
    "\n",
    "# Cálculo de las matrices de Burt\n",
    "Q = np.dot(X_encoded.T, X_encoded)\n",
    "Q_masas = Q / np.sum(Q)\n",
    "\n",
    "# Cálculo de los valores singulares y vectores singulares\n",
    "U, D_cuadrado, V = np.linalg.svd(Q_masas - np.outer(masas, masas))\n",
    "\n",
    "# Número de componentes principales a extraer\n",
    "n_components = 2\n",
    "\n",
    "# Cálculo de las coordenadas de fila y columna\n",
    "row_coords = U[:, :n_components] * np.sqrt(D_cuadrado[:n_components])\n",
    "col_coords = V[:n_components, :].T * np.sqrt(D_cuadrado[:n_components])\n",
    "\n",
    "# Obtener los valores propios\n",
    "eigenvalues = D_cuadrado[:n_components]\n",
    "\n",
    "# Calcular la inercia explicada por cada componente principal\n",
    "explained_inertia_row = (row_coords ** 2).sum(axis=1) / eigenvalues.sum()\n",
    "explained_inertia_col = (col_coords ** 2).sum(axis=1) / eigenvalues.sum()\n",
    "\n",
    "# Imprimir resultados\n",
    "print(\"Coordenadas de fila:\")\n",
    "print(row_coords)\n",
    "print(\"\\nCoordenadas de columna:\")\n",
    "print(col_coords)\n",
    "print(\"\\nValores propios:\")\n",
    "print(eigenvalues)\n",
    "print(\"\\nInercia explicada por fila:\")\n",
    "print(explained_inertia_row)\n",
    "print(\"\\nInercia explicada por columna:\")\n",
    "print(explained_inertia_col)"
   ]
  },
  {
   "cell_type": "code",
   "execution_count": 24,
   "metadata": {},
   "outputs": [
    {
     "data": {
      "application/vnd.plotly.v1+json": {
       "config": {
        "plotlyServerURL": "https://plot.ly"
       },
       "data": [
        {
         "hovertemplate": "x_fila=%{x}<br>y_fila=%{y}<br>fila=%{text}<extra></extra>",
         "legendgroup": "",
         "marker": {
          "color": "#636efa",
          "symbol": "circle"
         },
         "mode": "markers+text",
         "name": "",
         "orientation": "v",
         "showlegend": false,
         "text": [
          0,
          1,
          2,
          3,
          4,
          5,
          6,
          7,
          8,
          9,
          10,
          11,
          12,
          13,
          14,
          15,
          16,
          17,
          18,
          19,
          20,
          21,
          22,
          23,
          24,
          25,
          26,
          27,
          28,
          29,
          30,
          31,
          32,
          33,
          34,
          35,
          36,
          37,
          38,
          39,
          40,
          41,
          42,
          43,
          44,
          45,
          46,
          47,
          48,
          49,
          50,
          51,
          52,
          53,
          54,
          55,
          56,
          57,
          58,
          59,
          60,
          61,
          62,
          63,
          64,
          65,
          66,
          67,
          68,
          69,
          70,
          71,
          72,
          73,
          74,
          75,
          76,
          77,
          78,
          79,
          80,
          81,
          82,
          83,
          84,
          85,
          86,
          87,
          88,
          89,
          90,
          91,
          92,
          93,
          94,
          95,
          96,
          97,
          98,
          99,
          100,
          101,
          102,
          103,
          104,
          105,
          106,
          107,
          108,
          109,
          110,
          111,
          112,
          113,
          114,
          115,
          116,
          117,
          118,
          119,
          120,
          121,
          122,
          123,
          124,
          125,
          126,
          127,
          128,
          129,
          130,
          131,
          132,
          133,
          134,
          135,
          136,
          137,
          138,
          139,
          140,
          141,
          142,
          143,
          144,
          145,
          146,
          147,
          148,
          149,
          150,
          151,
          152,
          153,
          154,
          155,
          156,
          157,
          158,
          159,
          160,
          161,
          162,
          163,
          164,
          165,
          166,
          167,
          168,
          169,
          170,
          171,
          172,
          173,
          174,
          175,
          176,
          177,
          178,
          179,
          180,
          181,
          182,
          183,
          184,
          185,
          186,
          187,
          188,
          189,
          190,
          191,
          192,
          193,
          194,
          195,
          196,
          197,
          198,
          199,
          200,
          201,
          202,
          203,
          204,
          205,
          206,
          207,
          208
         ],
         "type": "scatter",
         "x": [
          0.0003577699615468493,
          -0.0005266688779120653,
          0.000561544186471173,
          -0.00023404479069402668,
          -0.00027094421625469553,
          -0.00011706101182704004,
          0.00022940474866978567,
          0.00043891872406420855,
          0.001152260385988829,
          -0.00027984848920239113,
          -0.0022690002474864226,
          0.0007083289056401275,
          0.00024934072099564765,
          0.0010500799188528412,
          -0.0004893268422240564,
          -0.0006167611725764669,
          0.00019959976225472867,
          -0.0014956560265148371,
          0.0025609108172776588,
          -0.0013491760394560605,
          0.00014032958238619284,
          -0.0005296241733447477,
          -0.00028836035204356973,
          -0.00043417444705540437,
          -0.0010454896821014258,
          -0.0002865810215550219,
          0.0007953502169131135,
          0.001788879459187054,
          0.00011352658371401697,
          0.0007876247463182945,
          0.00014180508246099612,
          -0.0006550578049135148,
          0.0003115533218726393,
          -0.0006402987740934543,
          -0.0008570872774348951,
          0.0007979341220759187,
          -0.0005486118852010291,
          0.00011001889621102288,
          -0.0003073880762580603,
          -0.0013151027575570293,
          -0.0004822790272040914,
          0.002279982381716298,
          0.0002633804682928928,
          -0.0002477040904080977,
          0.0005815764938731227,
          -0.0011310945160495315,
          -0.0011850095109387795,
          -0.0017507198222262155,
          0.003307950571130657,
          -0.00032810385442438763,
          0.0007531047290432299,
          -0.002445189010725336,
          0.0004708707773143112,
          0.00042239007060647393,
          -0.000437643403592309,
          0.0015774403883613288,
          0.0007775966876815526,
          -0.00047414954750658644,
          0.0001086840378605661,
          -0.00008953249867079248,
          -0.001095141369078163,
          -0.001694142916256553,
          0.0006237873709361439,
          0.0031888438904516237,
          -0.0009338144773822606,
          0.0005043246554448809,
          -0.0009234031709956569,
          -0.0018234478904621597,
          0.000674535710272233,
          0.002228705652712908,
          -0.000660714956972204,
          0.001058085075913619,
          0.0004412134922558667,
          -0.001909707636246178,
          -0.0005323345808789449,
          0.0019266113565330541,
          -0.0009838677075774175,
          0.0006832117945705102,
          -0.00036109910704265516,
          -0.0030000533293399775,
          0.0012716615927583644,
          0.0022189856067540968,
          -0.0008127065577003403,
          0.0001348400246410595,
          -0.000248748173380482,
          0.0077247978619155435,
          -0.007610889713176127,
          0.001124053239511414,
          -0.0007753368145496087,
          0.007468339921966166,
          -0.007817056346927967,
          0.0010919042997413232,
          -0.001406293210574788,
          0.00674019534069288,
          -0.006425806429859411,
          -0.0008360174690239079,
          -0.0012627252692995073,
          0.0071784769344924145,
          -0.005079734196169001,
          -0.00045046494937326075,
          -0.0013241601465366348,
          0.005348746164171852,
          -0.003574121068261959,
          -0.00019713934062984932,
          -0.0003678650548108116,
          0.004493575487857,
          -0.003928571092416339,
          0.0000010847229367942708,
          0.0005929895373057322,
          0.003945168403369552,
          -0.004539242663612078,
          -0.0007204343130489079,
          0.00020195479627410263,
          0.0038072958389390645,
          -0.00328881632216426,
          -0.00008736389361524915,
          -0.0016895297746624184,
          0.006482718508643359,
          -0.004705824840365692,
          0.0012960314897851077,
          -0.0009425472053184069,
          0.0036142249150514067,
          -0.003967709199518108,
          -0.0016974243731876875,
          0.0014492182210739865,
          0.0019449701912059812,
          -0.0007573144408279535,
          -0.0007937152621768456,
          0.00005714926412437414,
          -0.0007818656248409892,
          0.0005789820246291321,
          0.0007662826504406988,
          -0.00032018026274901773,
          0.001782292172352046,
          -0.001305793537056154,
          0.001026235030433061,
          0.0003160971454596652,
          -0.0022649331988803,
          -0.0004686984877152668,
          0.00046103379904224693,
          -0.0008135737723523476,
          0.001707268496044081,
          0.0013820983557255556,
          -0.0002568702145033232,
          -0.002011258176240947,
          0.002659885866591564,
          -0.0014681503493024128,
          -0.0017829873244041851,
          0.001755801237474546,
          -0.001140555876892302,
          0.00020797651008007802,
          -0.00023197006354728816,
          0.0012891597950732497,
          -0.0021337563929002077,
          -0.0006801692687375303,
          0.001261232281338515,
          -0.00008347953987059233,
          -0.00002786481552237146,
          0.0003748779406189363,
          0.003722655415403275,
          -0.0008021175995704086,
          -0.0019357093288457008,
          0.00008477008399151955,
          -0.0010455686465638987,
          -0.00018701504107915425,
          0.00016298511666436611,
          0.006312215291884726,
          -0.004860936241548849,
          -0.00199626315875622,
          0.00033163499366777553,
          0.00021334911475257243,
          0.00463086927264652,
          -0.004465848220128961,
          -0.00046843540637840126,
          -0.00025812983261033567,
          0.0005615441864711763,
          0.00577420794532704,
          -0.0036483432842631773,
          -0.0007734386552480023,
          -0.0009916466206757748,
          -0.0003607793851400866,
          0.004740416559717777,
          -0.002753244536073642,
          -0.0016903060269988382,
          -0.00029686599664529613,
          0.0032630505854082735,
          -0.0003425096478794828,
          0.0005818772107760645,
          -0.003502418148304855,
          0.00220701172027318,
          -0.00012783678040334653,
          0.0008287208782217525,
          -0.0029078958180915842,
          0.0009237808134061192,
          -0.000516209220199369,
          0.004126254672687189,
          -0.004533826265893942,
          0.0000903497281444634,
          -0.00035809567873064174,
          0.005259445460016006,
          -0.004991699509429826,
          0.0002799886435705291,
          -0.0004940422070211761,
          0.005857729873012235,
          -0.005643676309561587,
          0.004293539608357906,
          -0.0007916462896925047,
          0.00018414920144599854,
          -0.003686042520111401
         ],
         "xaxis": "x",
         "y": [
          -0.0013741770239912101,
          0.00010897198315819387,
          0.000023306858433958415,
          0.0004508043027957804,
          -0.0006577493131847596,
          0.0014491854474033134,
          -3.4225461526716197e-7,
          0.0004941303325388258,
          -0.00019816703885057945,
          -0.0006470004791640403,
          0.003936538241123743,
          -0.003567207633030029,
          -0.000018293422617920205,
          -0.00015817328913464004,
          0.0008379294351856708,
          -0.00003151004945533409,
          -0.0003947227381912261,
          0.00024791302366365166,
          0.003811027631930719,
          -0.004262283022049251,
          -0.00005018099194958913,
          0.0003933258496997489,
          0.00011763010122742649,
          -0.00006268890268272304,
          -0.0011437742186823868,
          0.006646831814575162,
          -0.0057946705401549425,
          -0.00015665410398228526,
          0.00020772852845794823,
          0.0006199672337858695,
          0.00007243763992508631,
          0.00017276455859509287,
          -0.0008509290288939227,
          0.005143036102402297,
          -0.005671777008220747,
          0.000306771973948378,
          -0.000020561435029845696,
          0.0011659733642624011,
          -0.001269073007222301,
          0.0008736364906478925,
          -0.00027473322321971733,
          0.005703850217156875,
          -0.006179092406595301,
          0.000525887842985542,
          0.00026718287975215495,
          0.00019992281116732849,
          0.0020754338823363878,
          0.0005225557527256955,
          -0.002753418209149464,
          -0.0008963310578682659,
          0.000058766098050622335,
          0.0021169220700151497,
          0.0008969126900792025,
          -0.0005063765535566587,
          0.00046172598804255783,
          0.00121105862702719,
          -0.001112822120469699,
          -0.0031715612911159138,
          0.00010414058997816828,
          0.0035533691383043096,
          0.001208900632037227,
          0.0012762340650217903,
          -0.001595348652175662,
          -0.003697266808189072,
          -0.0007458883749985938,
          0.004745786300670854,
          0.0009229273750775536,
          0.002094217574514227,
          -0.003089889008905998,
          -0.003522170573370634,
          -0.0011508716679860045,
          0.003464983874199819,
          0.0010202877599042371,
          0.0015987380092802952,
          -0.0041288528450215125,
          -0.0011245478466690153,
          -0.0008306089516938227,
          0.004099768227052224,
          0.0006640898127755804,
          -0.0006356125032569938,
          -0.0034418453200411613,
          -0.0012790686589808993,
          0.0005926684424512455,
          -0.00013835889866398803,
          0.00037090328014299323,
          0.004849406555287604,
          -0.005081950936766612,
          -0.001187285105687822,
          0.001021959040372491,
          0.0047064398256814926,
          -0.00454111376036616,
          -0.0005778134082184991,
          0.00038484010808824463,
          0.0036730553858238266,
          -0.003480082085693569,
          -0.0001786756107535752,
          -0.00012785465922877836,
          0.0031973858778181355,
          -0.0028908556078357838,
          -0.0000879398371917607,
          0.0006454165807439929,
          -0.0012274828670628107,
          0.000670006123510579,
          -0.0006454285072179484,
          0.00038186778673067825,
          0.005195042060725174,
          -0.0049314813402379035,
          0.0003716797145786429,
          0.0009337081362003182,
          -0.001560755196063696,
          0.0002553673452847352,
          0.000008293521821197906,
          0.00010812001341755221,
          0.0015606539061203324,
          -0.0016770674413590834,
          -0.001201356662656544,
          -0.0002615406626670459,
          0.0009116638429286717,
          0.0005512334823949166,
          0.0003855689736359068,
          -0.00008161787512595819,
          0.00098354594473276,
          -0.0012874970432427092,
          0.004070719662863524,
          -0.0012603012975913304,
          -0.0012305629810399458,
          0.0010158252069915122,
          -0.0009096306558705526,
          -0.0015669154990114308,
          -0.00013204168700269305,
          0.000012907250660914063,
          0.0004469201469519076,
          -0.00004525423665194048,
          0.0013450407593099155,
          -0.0003558537314551189,
          -0.0015524703643530736,
          -0.0007269342462195149,
          0.0008885516724178233,
          0.0009125332101574133,
          0.0001437846595539077,
          -0.0008366212644740976,
          0.0001251847016100368,
          -0.00013353356470311394,
          -0.0016708166223574823,
          0.001459468880213335,
          -0.00440098143516403,
          0.0016925116296545952,
          0.0009158334061480969,
          0.0012421804159670662,
          0.0007202579051922177,
          -0.00002495352031234826,
          -0.00014484840148559793,
          -0.005085656029503144,
          0.002636485719411652,
          0.000956414145063099,
          0.0005423627287360524,
          0.0006740954140775949,
          0.00013544981886517705,
          0.00014084820334956725,
          -0.0019256697308471453,
          0.0013152316184681387,
          0.0020270813858571505,
          -0.0006784414945353714,
          -0.0007592425908775541,
          -0.0000437628386463221,
          0.00006480365058110343,
          -0.005331474806152474,
          0.002834167649124085,
          0.0017164974618161944,
          0.000289526086892167,
          0.0004912836083200263,
          -0.004899150699340811,
          0.002714177509472282,
          0.0015394393287363587,
          0.000622227002698215,
          0.000023306858433954915,
          -0.003595578268030008,
          0.001868465907571632,
          0.0006549096942162228,
          0.001092895006482954,
          -0.000020692340240800602,
          -0.003730103833787263,
          0.0013137782458070098,
          0.0018512140957485678,
          0.0005651114922316862,
          -0.00007898316510845122,
          0.00014476688111127552,
          0.000806159291418717,
          -0.000871943007421541,
          0.0006805749067504062,
          -0.0002878925178500579,
          0.00045109559173176503,
          -0.0008437779806321131,
          0.0008842464716482223,
          -0.0004593013203883845,
          -0.00327814800510953,
          0.0028532028538496893,
          0.0008482011049505043,
          0.0002907372571674509,
          -0.002170817841209547,
          0.0010318794790915911,
          0.0009781578855201293,
          0.00036843491850830273,
          -0.0023853473883249984,
          0.0010387545842965673,
          0.0005000547421222711,
          0.00014417032512406146,
          -0.0008819047383883545,
          0.0002376796711420207
         ],
         "yaxis": "y"
        }
       ],
       "layout": {
        "legend": {
         "tracegroupgap": 0
        },
        "template": {
         "data": {
          "bar": [
           {
            "error_x": {
             "color": "#2a3f5f"
            },
            "error_y": {
             "color": "#2a3f5f"
            },
            "marker": {
             "line": {
              "color": "#E5ECF6",
              "width": 0.5
             },
             "pattern": {
              "fillmode": "overlay",
              "size": 10,
              "solidity": 0.2
             }
            },
            "type": "bar"
           }
          ],
          "barpolar": [
           {
            "marker": {
             "line": {
              "color": "#E5ECF6",
              "width": 0.5
             },
             "pattern": {
              "fillmode": "overlay",
              "size": 10,
              "solidity": 0.2
             }
            },
            "type": "barpolar"
           }
          ],
          "carpet": [
           {
            "aaxis": {
             "endlinecolor": "#2a3f5f",
             "gridcolor": "white",
             "linecolor": "white",
             "minorgridcolor": "white",
             "startlinecolor": "#2a3f5f"
            },
            "baxis": {
             "endlinecolor": "#2a3f5f",
             "gridcolor": "white",
             "linecolor": "white",
             "minorgridcolor": "white",
             "startlinecolor": "#2a3f5f"
            },
            "type": "carpet"
           }
          ],
          "choropleth": [
           {
            "colorbar": {
             "outlinewidth": 0,
             "ticks": ""
            },
            "type": "choropleth"
           }
          ],
          "contour": [
           {
            "colorbar": {
             "outlinewidth": 0,
             "ticks": ""
            },
            "colorscale": [
             [
              0,
              "#0d0887"
             ],
             [
              0.1111111111111111,
              "#46039f"
             ],
             [
              0.2222222222222222,
              "#7201a8"
             ],
             [
              0.3333333333333333,
              "#9c179e"
             ],
             [
              0.4444444444444444,
              "#bd3786"
             ],
             [
              0.5555555555555556,
              "#d8576b"
             ],
             [
              0.6666666666666666,
              "#ed7953"
             ],
             [
              0.7777777777777778,
              "#fb9f3a"
             ],
             [
              0.8888888888888888,
              "#fdca26"
             ],
             [
              1,
              "#f0f921"
             ]
            ],
            "type": "contour"
           }
          ],
          "contourcarpet": [
           {
            "colorbar": {
             "outlinewidth": 0,
             "ticks": ""
            },
            "type": "contourcarpet"
           }
          ],
          "heatmap": [
           {
            "colorbar": {
             "outlinewidth": 0,
             "ticks": ""
            },
            "colorscale": [
             [
              0,
              "#0d0887"
             ],
             [
              0.1111111111111111,
              "#46039f"
             ],
             [
              0.2222222222222222,
              "#7201a8"
             ],
             [
              0.3333333333333333,
              "#9c179e"
             ],
             [
              0.4444444444444444,
              "#bd3786"
             ],
             [
              0.5555555555555556,
              "#d8576b"
             ],
             [
              0.6666666666666666,
              "#ed7953"
             ],
             [
              0.7777777777777778,
              "#fb9f3a"
             ],
             [
              0.8888888888888888,
              "#fdca26"
             ],
             [
              1,
              "#f0f921"
             ]
            ],
            "type": "heatmap"
           }
          ],
          "heatmapgl": [
           {
            "colorbar": {
             "outlinewidth": 0,
             "ticks": ""
            },
            "colorscale": [
             [
              0,
              "#0d0887"
             ],
             [
              0.1111111111111111,
              "#46039f"
             ],
             [
              0.2222222222222222,
              "#7201a8"
             ],
             [
              0.3333333333333333,
              "#9c179e"
             ],
             [
              0.4444444444444444,
              "#bd3786"
             ],
             [
              0.5555555555555556,
              "#d8576b"
             ],
             [
              0.6666666666666666,
              "#ed7953"
             ],
             [
              0.7777777777777778,
              "#fb9f3a"
             ],
             [
              0.8888888888888888,
              "#fdca26"
             ],
             [
              1,
              "#f0f921"
             ]
            ],
            "type": "heatmapgl"
           }
          ],
          "histogram": [
           {
            "marker": {
             "pattern": {
              "fillmode": "overlay",
              "size": 10,
              "solidity": 0.2
             }
            },
            "type": "histogram"
           }
          ],
          "histogram2d": [
           {
            "colorbar": {
             "outlinewidth": 0,
             "ticks": ""
            },
            "colorscale": [
             [
              0,
              "#0d0887"
             ],
             [
              0.1111111111111111,
              "#46039f"
             ],
             [
              0.2222222222222222,
              "#7201a8"
             ],
             [
              0.3333333333333333,
              "#9c179e"
             ],
             [
              0.4444444444444444,
              "#bd3786"
             ],
             [
              0.5555555555555556,
              "#d8576b"
             ],
             [
              0.6666666666666666,
              "#ed7953"
             ],
             [
              0.7777777777777778,
              "#fb9f3a"
             ],
             [
              0.8888888888888888,
              "#fdca26"
             ],
             [
              1,
              "#f0f921"
             ]
            ],
            "type": "histogram2d"
           }
          ],
          "histogram2dcontour": [
           {
            "colorbar": {
             "outlinewidth": 0,
             "ticks": ""
            },
            "colorscale": [
             [
              0,
              "#0d0887"
             ],
             [
              0.1111111111111111,
              "#46039f"
             ],
             [
              0.2222222222222222,
              "#7201a8"
             ],
             [
              0.3333333333333333,
              "#9c179e"
             ],
             [
              0.4444444444444444,
              "#bd3786"
             ],
             [
              0.5555555555555556,
              "#d8576b"
             ],
             [
              0.6666666666666666,
              "#ed7953"
             ],
             [
              0.7777777777777778,
              "#fb9f3a"
             ],
             [
              0.8888888888888888,
              "#fdca26"
             ],
             [
              1,
              "#f0f921"
             ]
            ],
            "type": "histogram2dcontour"
           }
          ],
          "mesh3d": [
           {
            "colorbar": {
             "outlinewidth": 0,
             "ticks": ""
            },
            "type": "mesh3d"
           }
          ],
          "parcoords": [
           {
            "line": {
             "colorbar": {
              "outlinewidth": 0,
              "ticks": ""
             }
            },
            "type": "parcoords"
           }
          ],
          "pie": [
           {
            "automargin": true,
            "type": "pie"
           }
          ],
          "scatter": [
           {
            "fillpattern": {
             "fillmode": "overlay",
             "size": 10,
             "solidity": 0.2
            },
            "type": "scatter"
           }
          ],
          "scatter3d": [
           {
            "line": {
             "colorbar": {
              "outlinewidth": 0,
              "ticks": ""
             }
            },
            "marker": {
             "colorbar": {
              "outlinewidth": 0,
              "ticks": ""
             }
            },
            "type": "scatter3d"
           }
          ],
          "scattercarpet": [
           {
            "marker": {
             "colorbar": {
              "outlinewidth": 0,
              "ticks": ""
             }
            },
            "type": "scattercarpet"
           }
          ],
          "scattergeo": [
           {
            "marker": {
             "colorbar": {
              "outlinewidth": 0,
              "ticks": ""
             }
            },
            "type": "scattergeo"
           }
          ],
          "scattergl": [
           {
            "marker": {
             "colorbar": {
              "outlinewidth": 0,
              "ticks": ""
             }
            },
            "type": "scattergl"
           }
          ],
          "scattermapbox": [
           {
            "marker": {
             "colorbar": {
              "outlinewidth": 0,
              "ticks": ""
             }
            },
            "type": "scattermapbox"
           }
          ],
          "scatterpolar": [
           {
            "marker": {
             "colorbar": {
              "outlinewidth": 0,
              "ticks": ""
             }
            },
            "type": "scatterpolar"
           }
          ],
          "scatterpolargl": [
           {
            "marker": {
             "colorbar": {
              "outlinewidth": 0,
              "ticks": ""
             }
            },
            "type": "scatterpolargl"
           }
          ],
          "scatterternary": [
           {
            "marker": {
             "colorbar": {
              "outlinewidth": 0,
              "ticks": ""
             }
            },
            "type": "scatterternary"
           }
          ],
          "surface": [
           {
            "colorbar": {
             "outlinewidth": 0,
             "ticks": ""
            },
            "colorscale": [
             [
              0,
              "#0d0887"
             ],
             [
              0.1111111111111111,
              "#46039f"
             ],
             [
              0.2222222222222222,
              "#7201a8"
             ],
             [
              0.3333333333333333,
              "#9c179e"
             ],
             [
              0.4444444444444444,
              "#bd3786"
             ],
             [
              0.5555555555555556,
              "#d8576b"
             ],
             [
              0.6666666666666666,
              "#ed7953"
             ],
             [
              0.7777777777777778,
              "#fb9f3a"
             ],
             [
              0.8888888888888888,
              "#fdca26"
             ],
             [
              1,
              "#f0f921"
             ]
            ],
            "type": "surface"
           }
          ],
          "table": [
           {
            "cells": {
             "fill": {
              "color": "#EBF0F8"
             },
             "line": {
              "color": "white"
             }
            },
            "header": {
             "fill": {
              "color": "#C8D4E3"
             },
             "line": {
              "color": "white"
             }
            },
            "type": "table"
           }
          ]
         },
         "layout": {
          "annotationdefaults": {
           "arrowcolor": "#2a3f5f",
           "arrowhead": 0,
           "arrowwidth": 1
          },
          "autotypenumbers": "strict",
          "coloraxis": {
           "colorbar": {
            "outlinewidth": 0,
            "ticks": ""
           }
          },
          "colorscale": {
           "diverging": [
            [
             0,
             "#8e0152"
            ],
            [
             0.1,
             "#c51b7d"
            ],
            [
             0.2,
             "#de77ae"
            ],
            [
             0.3,
             "#f1b6da"
            ],
            [
             0.4,
             "#fde0ef"
            ],
            [
             0.5,
             "#f7f7f7"
            ],
            [
             0.6,
             "#e6f5d0"
            ],
            [
             0.7,
             "#b8e186"
            ],
            [
             0.8,
             "#7fbc41"
            ],
            [
             0.9,
             "#4d9221"
            ],
            [
             1,
             "#276419"
            ]
           ],
           "sequential": [
            [
             0,
             "#0d0887"
            ],
            [
             0.1111111111111111,
             "#46039f"
            ],
            [
             0.2222222222222222,
             "#7201a8"
            ],
            [
             0.3333333333333333,
             "#9c179e"
            ],
            [
             0.4444444444444444,
             "#bd3786"
            ],
            [
             0.5555555555555556,
             "#d8576b"
            ],
            [
             0.6666666666666666,
             "#ed7953"
            ],
            [
             0.7777777777777778,
             "#fb9f3a"
            ],
            [
             0.8888888888888888,
             "#fdca26"
            ],
            [
             1,
             "#f0f921"
            ]
           ],
           "sequentialminus": [
            [
             0,
             "#0d0887"
            ],
            [
             0.1111111111111111,
             "#46039f"
            ],
            [
             0.2222222222222222,
             "#7201a8"
            ],
            [
             0.3333333333333333,
             "#9c179e"
            ],
            [
             0.4444444444444444,
             "#bd3786"
            ],
            [
             0.5555555555555556,
             "#d8576b"
            ],
            [
             0.6666666666666666,
             "#ed7953"
            ],
            [
             0.7777777777777778,
             "#fb9f3a"
            ],
            [
             0.8888888888888888,
             "#fdca26"
            ],
            [
             1,
             "#f0f921"
            ]
           ]
          },
          "colorway": [
           "#636efa",
           "#EF553B",
           "#00cc96",
           "#ab63fa",
           "#FFA15A",
           "#19d3f3",
           "#FF6692",
           "#B6E880",
           "#FF97FF",
           "#FECB52"
          ],
          "font": {
           "color": "#2a3f5f"
          },
          "geo": {
           "bgcolor": "white",
           "lakecolor": "white",
           "landcolor": "#E5ECF6",
           "showlakes": true,
           "showland": true,
           "subunitcolor": "white"
          },
          "hoverlabel": {
           "align": "left"
          },
          "hovermode": "closest",
          "mapbox": {
           "style": "light"
          },
          "paper_bgcolor": "white",
          "plot_bgcolor": "#E5ECF6",
          "polar": {
           "angularaxis": {
            "gridcolor": "white",
            "linecolor": "white",
            "ticks": ""
           },
           "bgcolor": "#E5ECF6",
           "radialaxis": {
            "gridcolor": "white",
            "linecolor": "white",
            "ticks": ""
           }
          },
          "scene": {
           "xaxis": {
            "backgroundcolor": "#E5ECF6",
            "gridcolor": "white",
            "gridwidth": 2,
            "linecolor": "white",
            "showbackground": true,
            "ticks": "",
            "zerolinecolor": "white"
           },
           "yaxis": {
            "backgroundcolor": "#E5ECF6",
            "gridcolor": "white",
            "gridwidth": 2,
            "linecolor": "white",
            "showbackground": true,
            "ticks": "",
            "zerolinecolor": "white"
           },
           "zaxis": {
            "backgroundcolor": "#E5ECF6",
            "gridcolor": "white",
            "gridwidth": 2,
            "linecolor": "white",
            "showbackground": true,
            "ticks": "",
            "zerolinecolor": "white"
           }
          },
          "shapedefaults": {
           "line": {
            "color": "#2a3f5f"
           }
          },
          "ternary": {
           "aaxis": {
            "gridcolor": "white",
            "linecolor": "white",
            "ticks": ""
           },
           "baxis": {
            "gridcolor": "white",
            "linecolor": "white",
            "ticks": ""
           },
           "bgcolor": "#E5ECF6",
           "caxis": {
            "gridcolor": "white",
            "linecolor": "white",
            "ticks": ""
           }
          },
          "title": {
           "x": 0.05
          },
          "xaxis": {
           "automargin": true,
           "gridcolor": "white",
           "linecolor": "white",
           "ticks": "",
           "title": {
            "standoff": 15
           },
           "zerolinecolor": "white",
           "zerolinewidth": 2
          },
          "yaxis": {
           "automargin": true,
           "gridcolor": "white",
           "linecolor": "white",
           "ticks": "",
           "title": {
            "standoff": 15
           },
           "zerolinecolor": "white",
           "zerolinewidth": 2
          }
         }
        },
        "title": {
         "text": "Coordenadas de fila"
        },
        "xaxis": {
         "anchor": "y",
         "domain": [
          0,
          1
         ],
         "title": {
          "text": "x_fila"
         }
        },
        "yaxis": {
         "anchor": "x",
         "domain": [
          0,
          1
         ],
         "title": {
          "text": "y_fila"
         }
        }
       }
      }
     },
     "metadata": {},
     "output_type": "display_data"
    },
    {
     "data": {
      "application/vnd.plotly.v1+json": {
       "config": {
        "plotlyServerURL": "https://plot.ly"
       },
       "data": [
        {
         "hovertemplate": "x_columna=%{x}<br>y_columna=%{y}<br>columna=%{text}<extra></extra>",
         "legendgroup": "",
         "marker": {
          "color": "#636efa",
          "symbol": "circle"
         },
         "mode": "markers+text",
         "name": "",
         "orientation": "v",
         "showlegend": false,
         "text": [
          0,
          1,
          2,
          3,
          4,
          5,
          6,
          7,
          8,
          9,
          10,
          11,
          12,
          13,
          14,
          15,
          16,
          17,
          18,
          19,
          20,
          21,
          22,
          23,
          24,
          25,
          26,
          27,
          28,
          29,
          30,
          31,
          32,
          33,
          34,
          35,
          36,
          37,
          38,
          39,
          40,
          41,
          42,
          43,
          44,
          45,
          46,
          47,
          48,
          49,
          50,
          51,
          52,
          53,
          54,
          55,
          56,
          57,
          58,
          59,
          60,
          61,
          62,
          63,
          64,
          65,
          66,
          67,
          68,
          69,
          70,
          71,
          72,
          73,
          74,
          75,
          76,
          77,
          78,
          79,
          80,
          81,
          82,
          83,
          84,
          85,
          86,
          87,
          88,
          89,
          90,
          91,
          92,
          93,
          94,
          95,
          96,
          97,
          98,
          99,
          100,
          101,
          102,
          103,
          104,
          105,
          106,
          107,
          108,
          109,
          110,
          111,
          112,
          113,
          114,
          115,
          116,
          117,
          118,
          119,
          120,
          121,
          122,
          123,
          124,
          125,
          126,
          127,
          128,
          129,
          130,
          131,
          132,
          133,
          134,
          135,
          136,
          137,
          138,
          139,
          140,
          141,
          142,
          143,
          144,
          145,
          146,
          147,
          148,
          149,
          150,
          151,
          152,
          153,
          154,
          155,
          156,
          157,
          158,
          159,
          160,
          161,
          162,
          163,
          164,
          165,
          166,
          167,
          168,
          169,
          170,
          171,
          172,
          173,
          174,
          175,
          176,
          177,
          178,
          179,
          180,
          181,
          182,
          183,
          184,
          185,
          186,
          187,
          188,
          189,
          190,
          191,
          192,
          193,
          194,
          195,
          196,
          197,
          198,
          199,
          200,
          201,
          202,
          203,
          204,
          205,
          206,
          207,
          208
         ],
         "type": "scatter",
         "x": [
          0.00035776996154684846,
          -0.0005266688779120465,
          0.0005615441864711888,
          -0.00023404479069402472,
          -0.00027094421625469163,
          -0.00011706101182703476,
          0.00022940474866978597,
          0.0004389187240642095,
          0.0011522603859888297,
          -0.00027984848920239183,
          -0.0022690002474864265,
          0.0007083289056401304,
          0.00024934072099564824,
          0.001050079918852842,
          -0.0004893268422240568,
          -0.0006167611725764671,
          0.00019959976225472756,
          -0.0014956560265148413,
          0.002560910817277664,
          -0.001349176039456062,
          0.00014032958238619333,
          -0.000529624173344748,
          -0.00028836035204356946,
          -0.0004341744470554053,
          -0.0010454896821014273,
          -0.00028658102155502247,
          0.0007953502169131151,
          0.001788879459187056,
          0.00011352658371401691,
          0.0007876247463182955,
          0.00014180508246099634,
          -0.0006550578049135163,
          0.0003115533218726397,
          -0.0006402987740934562,
          -0.0008570872774348961,
          0.0007979341220759199,
          -0.0005486118852010293,
          0.00011001889621102349,
          -0.00030738807625806016,
          -0.0013151027575570326,
          -0.00048227902720409164,
          0.002279982381716297,
          0.0002633804682928925,
          -0.00024770409040809796,
          0.0005815764938731244,
          -0.0011310945160495308,
          -0.0011850095109387795,
          -0.0017507198222262185,
          0.003307950571130661,
          -0.0003281038544243898,
          0.0007531047290432313,
          -0.002445189010725341,
          0.0004708707773143118,
          0.0004223900706064756,
          -0.00043764340359230973,
          0.0015774403883613284,
          0.0007775966876815541,
          -0.0004741495475065859,
          0.00010868403786056639,
          -0.00008953249867079156,
          -0.0010951413690781643,
          -0.0016941429162565548,
          0.0006237873709361451,
          0.003188843890451628,
          -0.0009338144773822623,
          0.0005043246554448823,
          -0.0009234031709956588,
          -0.0018234478904621612,
          0.0006745357102722315,
          0.002228705652712909,
          -0.0006607149569722045,
          0.0010580850759136216,
          0.00044121349225586707,
          -0.0019097076362461795,
          -0.0005323345808789472,
          0.001926611356533055,
          -0.0009838677075774173,
          0.0006832117945705119,
          -0.00036109910704265494,
          -0.0030000533293399814,
          0.0012716615927583664,
          0.002218985606754099,
          -0.0008127065577003413,
          0.00013484002464105984,
          -0.0002487481733804829,
          0.007724797861915558,
          -0.007610889713176133,
          0.0011240532395114155,
          -0.0007753368145496097,
          0.007468339921966174,
          -0.007817056346927977,
          0.0010919042997413232,
          -0.0014062932105747895,
          0.006740195340692885,
          -0.006425806429859422,
          -0.0008360174690239099,
          -0.0012627252692995095,
          0.00717847693449242,
          -0.0050797341961690045,
          -0.00045046494937326243,
          -0.001324160146536637,
          0.005348746164171863,
          -0.003574121068261963,
          -0.0001971393406298492,
          -0.00036786505481081213,
          0.004493575487857005,
          -0.003928571092416342,
          0.000001084722936793916,
          0.0005929895373057318,
          0.003945168403369561,
          -0.004539242663612088,
          -0.0007204343130489079,
          0.0002019547962741027,
          0.0038072958389390676,
          -0.0032888163221642622,
          -0.00008736389361524826,
          -0.0016895297746624214,
          0.006482718508643366,
          -0.004705824840365699,
          0.0012960314897851087,
          -0.0009425472053184094,
          0.003614224915051413,
          -0.00396770919951811,
          -0.0016974243731876885,
          0.0014492182210739902,
          0.0019449701912059836,
          -0.0007573144408279556,
          -0.0007937152621768462,
          0.00005714926412437308,
          -0.0007818656248409907,
          0.000578982024629133,
          0.0007662826504407007,
          -0.0003201802627490184,
          0.0017822921723520482,
          -0.0013057935370561573,
          0.0010262350304330635,
          0.0003160971454596648,
          -0.0022649331988803026,
          -0.0004686984877152691,
          0.00046103379904224834,
          -0.0008135737723523459,
          0.001707268496044083,
          0.0013820983557255575,
          -0.0002568702145033246,
          -0.0020112581762409504,
          0.0026598858665915688,
          -0.0014681503493024141,
          -0.0017829873244041873,
          0.0017558012374745485,
          -0.001140555876892304,
          0.00020797651008007772,
          -0.00023197006354728838,
          0.0012891597950732523,
          -0.0021337563929002107,
          -0.0006801692687375321,
          0.0012612322813385167,
          -0.0000834795398705932,
          -0.00002786481552237215,
          0.0003748779406189375,
          0.003722655415403278,
          -0.0008021175995704098,
          -0.0019357093288457018,
          0.00008477008399152122,
          -0.0010455686465638987,
          -0.00018701504107915425,
          0.00016298511666436647,
          0.006312215291884729,
          -0.004860936241548855,
          -0.0019962631587562216,
          0.0003316349936677753,
          0.000213349114752573,
          0.004630869272646527,
          -0.004465848220128966,
          -0.0004684354063784014,
          -0.0002581298326103353,
          0.0005615441864711771,
          0.005774207945327048,
          -0.0036483432842631816,
          -0.0007734386552480042,
          -0.0009916466206757754,
          -0.00036077938514008696,
          0.004740416559717785,
          -0.002753244536073648,
          -0.0016903060269988412,
          -0.0002968659966452964,
          0.003263050585408277,
          -0.0003425096478794826,
          0.000581877210776066,
          -0.0035024181483048595,
          0.0022070117202731827,
          -0.00012783678040334656,
          0.000828720878221754,
          -0.0029078958180915894,
          0.0009237808134061206,
          -0.000516209220199369,
          0.0041262546726871935,
          -0.004533826265893946,
          0.0000903497281444626,
          -0.0003580956787306429,
          0.005259445460016014,
          -0.004991699509429833,
          0.00027998864357052885,
          -0.0004940422070211768,
          0.005857729873012243,
          -0.0056436763095615945,
          0.004293539608357912,
          -0.0007916462896925056,
          0.0001841492014459992,
          -0.0036860425201114076
         ],
         "xaxis": "x",
         "y": [
          -0.0013741770239912093,
          0.00010897198315818034,
          0.00002330685843395419,
          0.0004508043027957905,
          -0.0006577493131847545,
          0.0014491854474033132,
          -3.4225461526716197e-7,
          0.0004941303325388254,
          -0.00019816703885057907,
          -0.0006470004791640403,
          0.0039365382411237415,
          -0.0035672076330300283,
          -0.00001829342261792028,
          -0.00015817328913464025,
          0.0008379294351856697,
          -0.00003151004945533448,
          -0.00039472273819122697,
          0.0002479130236636501,
          0.003811027631930721,
          -0.004262283022049252,
          -0.00005018099194958887,
          0.0003933258496997484,
          0.00011763010122742604,
          -0.00006268890268272347,
          -0.001143774218682387,
          0.006646831814575162,
          -0.005794670540154943,
          -0.00015665410398228483,
          0.0002077285284579478,
          0.0006199672337858693,
          0.00007243763992508619,
          0.00017276455859509276,
          -0.000850929028893922,
          0.005143036102402293,
          -0.005671777008220749,
          0.0003067719739483786,
          -0.000020561435029845882,
          0.0011659733642624007,
          -0.0012690730072223006,
          0.0008736364906478915,
          -0.0002747332232197174,
          0.005703850217156872,
          -0.006179092406595299,
          0.0005258878429855418,
          0.0002671828797521554,
          0.0001999228111673292,
          0.002075433882336386,
          0.0005225557527256948,
          -0.0027534182091494626,
          -0.0008963310578682665,
          0.000058766098050622545,
          0.0021169220700151506,
          0.0008969126900792023,
          -0.0005063765535566577,
          0.0004617259880425583,
          0.0012110586270271887,
          -0.001112822120469698,
          -0.0031715612911159116,
          0.00010414058997816837,
          0.00355336913830431,
          0.001208900632037227,
          0.0012762340650217887,
          -0.0015953486521756608,
          -0.0036972668081890724,
          -0.0007458883749985938,
          0.004745786300670854,
          0.0009229273750775534,
          0.0020942175745142263,
          -0.0030898890089059985,
          -0.003522170573370631,
          -0.001150871667986004,
          0.0034649838741998193,
          0.0010202877599042365,
          0.0015987380092802954,
          -0.0041288528450215125,
          -0.0011245478466690153,
          -0.0008306089516938224,
          0.004099768227052227,
          0.0006640898127755811,
          -0.0006356125032569951,
          -0.003441845320041159,
          -0.0012790686589808985,
          0.0005926684424512452,
          -0.0001383588986639878,
          0.0003709032801429924,
          0.004849406555287606,
          -0.005081950936766611,
          -0.001187285105687821,
          0.0010219590403724907,
          0.004706439825681491,
          -0.0045411137603661635,
          -0.0005778134082184995,
          0.0003848401080882444,
          0.003673055385823823,
          -0.0034800820856935692,
          -0.00017867561075357555,
          -0.00012785465922877882,
          0.003197385877818133,
          -0.002890855607835782,
          -0.00008793983719176131,
          0.0006454165807439921,
          -0.0012274828670628094,
          0.0006700061235105781,
          -0.0006454285072179481,
          0.0003818677867306774,
          0.005195042060725172,
          -0.004931481340237902,
          0.00037167971457864336,
          0.0009337081362003173,
          -0.0015607551960636935,
          0.0002553673452847331,
          0.000008293521821198356,
          0.00010812001341755235,
          0.0015606539061203308,
          -0.0016770674413590808,
          -0.0012013566626565425,
          -0.00026154066266704726,
          0.0009116638429286726,
          0.0005512334823949175,
          0.0003855689736359064,
          -0.00008161787512595871,
          0.0009835459447327596,
          -0.001287497043242706,
          0.004070719662863527,
          -0.001260301297591329,
          -0.0012305629810399447,
          0.00101582520699151,
          -0.0009096306558705529,
          -0.0015669154990114315,
          -0.00013204168700269318,
          0.000012907250660914082,
          0.0004469201469519076,
          -0.0000452542366519404,
          0.001345040759309915,
          -0.0003558537314551206,
          -0.0015524703643530727,
          -0.0007269342462195145,
          0.0008885516724178235,
          0.0009125332101574128,
          0.00014378465955390744,
          -0.000836621264474096,
          0.0001251847016100362,
          -0.00013353356470311353,
          -0.0016708166223574805,
          0.0014594688802133345,
          -0.004400981435164028,
          0.0016925116296545948,
          0.0009158334061480957,
          0.0012421804159670666,
          0.0007202579051922175,
          -0.000024953520312348114,
          -0.00014484840148559812,
          -0.005085656029503137,
          0.0026364857194116505,
          0.0009564141450630967,
          0.0005423627287360533,
          0.000674095414077595,
          0.00013544981886517643,
          0.000140848203349568,
          -0.0019256697308471461,
          0.0013152316184681372,
          0.0020270813858571496,
          -0.0006784414945353702,
          -0.0007592425908775541,
          -0.00004376283864632218,
          0.00006480365058110351,
          -0.0053314748061524695,
          0.0028341676491240838,
          0.0017164974618161936,
          0.00028952608689216655,
          0.0004912836083200265,
          -0.00489915069934081,
          0.002714177509472282,
          0.0015394393287363579,
          0.0006222270026982151,
          0.000023306858433954783,
          -0.0035955782680300065,
          0.0018684659075716302,
          0.0006549096942162223,
          0.0010928950064829548,
          -0.00002069234024080084,
          -0.0037301038337872626,
          0.0013137782458070093,
          0.001851214095748567,
          0.000565111492231686,
          -0.00007898316510845094,
          0.00014476688111127525,
          0.0008061592914187175,
          -0.0008719430074215412,
          0.0006805749067504064,
          -0.0002878925178500576,
          0.0004510955917317652,
          -0.0008437779806321138,
          0.0008842464716482223,
          -0.0004593013203883848,
          -0.0032781480051095285,
          0.002853202853849689,
          0.0008482011049505038,
          0.00029073725716745037,
          -0.002170817841209544,
          0.0010318794790915903,
          0.0009781578855201291,
          0.00036843491850830295,
          -0.002385347388324996,
          0.001038754584296567,
          0.0005000547421222723,
          0.00014417032512406116,
          -0.0008819047383883535,
          0.00023767967114201905
         ],
         "yaxis": "y"
        }
       ],
       "layout": {
        "legend": {
         "tracegroupgap": 0
        },
        "template": {
         "data": {
          "bar": [
           {
            "error_x": {
             "color": "#2a3f5f"
            },
            "error_y": {
             "color": "#2a3f5f"
            },
            "marker": {
             "line": {
              "color": "#E5ECF6",
              "width": 0.5
             },
             "pattern": {
              "fillmode": "overlay",
              "size": 10,
              "solidity": 0.2
             }
            },
            "type": "bar"
           }
          ],
          "barpolar": [
           {
            "marker": {
             "line": {
              "color": "#E5ECF6",
              "width": 0.5
             },
             "pattern": {
              "fillmode": "overlay",
              "size": 10,
              "solidity": 0.2
             }
            },
            "type": "barpolar"
           }
          ],
          "carpet": [
           {
            "aaxis": {
             "endlinecolor": "#2a3f5f",
             "gridcolor": "white",
             "linecolor": "white",
             "minorgridcolor": "white",
             "startlinecolor": "#2a3f5f"
            },
            "baxis": {
             "endlinecolor": "#2a3f5f",
             "gridcolor": "white",
             "linecolor": "white",
             "minorgridcolor": "white",
             "startlinecolor": "#2a3f5f"
            },
            "type": "carpet"
           }
          ],
          "choropleth": [
           {
            "colorbar": {
             "outlinewidth": 0,
             "ticks": ""
            },
            "type": "choropleth"
           }
          ],
          "contour": [
           {
            "colorbar": {
             "outlinewidth": 0,
             "ticks": ""
            },
            "colorscale": [
             [
              0,
              "#0d0887"
             ],
             [
              0.1111111111111111,
              "#46039f"
             ],
             [
              0.2222222222222222,
              "#7201a8"
             ],
             [
              0.3333333333333333,
              "#9c179e"
             ],
             [
              0.4444444444444444,
              "#bd3786"
             ],
             [
              0.5555555555555556,
              "#d8576b"
             ],
             [
              0.6666666666666666,
              "#ed7953"
             ],
             [
              0.7777777777777778,
              "#fb9f3a"
             ],
             [
              0.8888888888888888,
              "#fdca26"
             ],
             [
              1,
              "#f0f921"
             ]
            ],
            "type": "contour"
           }
          ],
          "contourcarpet": [
           {
            "colorbar": {
             "outlinewidth": 0,
             "ticks": ""
            },
            "type": "contourcarpet"
           }
          ],
          "heatmap": [
           {
            "colorbar": {
             "outlinewidth": 0,
             "ticks": ""
            },
            "colorscale": [
             [
              0,
              "#0d0887"
             ],
             [
              0.1111111111111111,
              "#46039f"
             ],
             [
              0.2222222222222222,
              "#7201a8"
             ],
             [
              0.3333333333333333,
              "#9c179e"
             ],
             [
              0.4444444444444444,
              "#bd3786"
             ],
             [
              0.5555555555555556,
              "#d8576b"
             ],
             [
              0.6666666666666666,
              "#ed7953"
             ],
             [
              0.7777777777777778,
              "#fb9f3a"
             ],
             [
              0.8888888888888888,
              "#fdca26"
             ],
             [
              1,
              "#f0f921"
             ]
            ],
            "type": "heatmap"
           }
          ],
          "heatmapgl": [
           {
            "colorbar": {
             "outlinewidth": 0,
             "ticks": ""
            },
            "colorscale": [
             [
              0,
              "#0d0887"
             ],
             [
              0.1111111111111111,
              "#46039f"
             ],
             [
              0.2222222222222222,
              "#7201a8"
             ],
             [
              0.3333333333333333,
              "#9c179e"
             ],
             [
              0.4444444444444444,
              "#bd3786"
             ],
             [
              0.5555555555555556,
              "#d8576b"
             ],
             [
              0.6666666666666666,
              "#ed7953"
             ],
             [
              0.7777777777777778,
              "#fb9f3a"
             ],
             [
              0.8888888888888888,
              "#fdca26"
             ],
             [
              1,
              "#f0f921"
             ]
            ],
            "type": "heatmapgl"
           }
          ],
          "histogram": [
           {
            "marker": {
             "pattern": {
              "fillmode": "overlay",
              "size": 10,
              "solidity": 0.2
             }
            },
            "type": "histogram"
           }
          ],
          "histogram2d": [
           {
            "colorbar": {
             "outlinewidth": 0,
             "ticks": ""
            },
            "colorscale": [
             [
              0,
              "#0d0887"
             ],
             [
              0.1111111111111111,
              "#46039f"
             ],
             [
              0.2222222222222222,
              "#7201a8"
             ],
             [
              0.3333333333333333,
              "#9c179e"
             ],
             [
              0.4444444444444444,
              "#bd3786"
             ],
             [
              0.5555555555555556,
              "#d8576b"
             ],
             [
              0.6666666666666666,
              "#ed7953"
             ],
             [
              0.7777777777777778,
              "#fb9f3a"
             ],
             [
              0.8888888888888888,
              "#fdca26"
             ],
             [
              1,
              "#f0f921"
             ]
            ],
            "type": "histogram2d"
           }
          ],
          "histogram2dcontour": [
           {
            "colorbar": {
             "outlinewidth": 0,
             "ticks": ""
            },
            "colorscale": [
             [
              0,
              "#0d0887"
             ],
             [
              0.1111111111111111,
              "#46039f"
             ],
             [
              0.2222222222222222,
              "#7201a8"
             ],
             [
              0.3333333333333333,
              "#9c179e"
             ],
             [
              0.4444444444444444,
              "#bd3786"
             ],
             [
              0.5555555555555556,
              "#d8576b"
             ],
             [
              0.6666666666666666,
              "#ed7953"
             ],
             [
              0.7777777777777778,
              "#fb9f3a"
             ],
             [
              0.8888888888888888,
              "#fdca26"
             ],
             [
              1,
              "#f0f921"
             ]
            ],
            "type": "histogram2dcontour"
           }
          ],
          "mesh3d": [
           {
            "colorbar": {
             "outlinewidth": 0,
             "ticks": ""
            },
            "type": "mesh3d"
           }
          ],
          "parcoords": [
           {
            "line": {
             "colorbar": {
              "outlinewidth": 0,
              "ticks": ""
             }
            },
            "type": "parcoords"
           }
          ],
          "pie": [
           {
            "automargin": true,
            "type": "pie"
           }
          ],
          "scatter": [
           {
            "fillpattern": {
             "fillmode": "overlay",
             "size": 10,
             "solidity": 0.2
            },
            "type": "scatter"
           }
          ],
          "scatter3d": [
           {
            "line": {
             "colorbar": {
              "outlinewidth": 0,
              "ticks": ""
             }
            },
            "marker": {
             "colorbar": {
              "outlinewidth": 0,
              "ticks": ""
             }
            },
            "type": "scatter3d"
           }
          ],
          "scattercarpet": [
           {
            "marker": {
             "colorbar": {
              "outlinewidth": 0,
              "ticks": ""
             }
            },
            "type": "scattercarpet"
           }
          ],
          "scattergeo": [
           {
            "marker": {
             "colorbar": {
              "outlinewidth": 0,
              "ticks": ""
             }
            },
            "type": "scattergeo"
           }
          ],
          "scattergl": [
           {
            "marker": {
             "colorbar": {
              "outlinewidth": 0,
              "ticks": ""
             }
            },
            "type": "scattergl"
           }
          ],
          "scattermapbox": [
           {
            "marker": {
             "colorbar": {
              "outlinewidth": 0,
              "ticks": ""
             }
            },
            "type": "scattermapbox"
           }
          ],
          "scatterpolar": [
           {
            "marker": {
             "colorbar": {
              "outlinewidth": 0,
              "ticks": ""
             }
            },
            "type": "scatterpolar"
           }
          ],
          "scatterpolargl": [
           {
            "marker": {
             "colorbar": {
              "outlinewidth": 0,
              "ticks": ""
             }
            },
            "type": "scatterpolargl"
           }
          ],
          "scatterternary": [
           {
            "marker": {
             "colorbar": {
              "outlinewidth": 0,
              "ticks": ""
             }
            },
            "type": "scatterternary"
           }
          ],
          "surface": [
           {
            "colorbar": {
             "outlinewidth": 0,
             "ticks": ""
            },
            "colorscale": [
             [
              0,
              "#0d0887"
             ],
             [
              0.1111111111111111,
              "#46039f"
             ],
             [
              0.2222222222222222,
              "#7201a8"
             ],
             [
              0.3333333333333333,
              "#9c179e"
             ],
             [
              0.4444444444444444,
              "#bd3786"
             ],
             [
              0.5555555555555556,
              "#d8576b"
             ],
             [
              0.6666666666666666,
              "#ed7953"
             ],
             [
              0.7777777777777778,
              "#fb9f3a"
             ],
             [
              0.8888888888888888,
              "#fdca26"
             ],
             [
              1,
              "#f0f921"
             ]
            ],
            "type": "surface"
           }
          ],
          "table": [
           {
            "cells": {
             "fill": {
              "color": "#EBF0F8"
             },
             "line": {
              "color": "white"
             }
            },
            "header": {
             "fill": {
              "color": "#C8D4E3"
             },
             "line": {
              "color": "white"
             }
            },
            "type": "table"
           }
          ]
         },
         "layout": {
          "annotationdefaults": {
           "arrowcolor": "#2a3f5f",
           "arrowhead": 0,
           "arrowwidth": 1
          },
          "autotypenumbers": "strict",
          "coloraxis": {
           "colorbar": {
            "outlinewidth": 0,
            "ticks": ""
           }
          },
          "colorscale": {
           "diverging": [
            [
             0,
             "#8e0152"
            ],
            [
             0.1,
             "#c51b7d"
            ],
            [
             0.2,
             "#de77ae"
            ],
            [
             0.3,
             "#f1b6da"
            ],
            [
             0.4,
             "#fde0ef"
            ],
            [
             0.5,
             "#f7f7f7"
            ],
            [
             0.6,
             "#e6f5d0"
            ],
            [
             0.7,
             "#b8e186"
            ],
            [
             0.8,
             "#7fbc41"
            ],
            [
             0.9,
             "#4d9221"
            ],
            [
             1,
             "#276419"
            ]
           ],
           "sequential": [
            [
             0,
             "#0d0887"
            ],
            [
             0.1111111111111111,
             "#46039f"
            ],
            [
             0.2222222222222222,
             "#7201a8"
            ],
            [
             0.3333333333333333,
             "#9c179e"
            ],
            [
             0.4444444444444444,
             "#bd3786"
            ],
            [
             0.5555555555555556,
             "#d8576b"
            ],
            [
             0.6666666666666666,
             "#ed7953"
            ],
            [
             0.7777777777777778,
             "#fb9f3a"
            ],
            [
             0.8888888888888888,
             "#fdca26"
            ],
            [
             1,
             "#f0f921"
            ]
           ],
           "sequentialminus": [
            [
             0,
             "#0d0887"
            ],
            [
             0.1111111111111111,
             "#46039f"
            ],
            [
             0.2222222222222222,
             "#7201a8"
            ],
            [
             0.3333333333333333,
             "#9c179e"
            ],
            [
             0.4444444444444444,
             "#bd3786"
            ],
            [
             0.5555555555555556,
             "#d8576b"
            ],
            [
             0.6666666666666666,
             "#ed7953"
            ],
            [
             0.7777777777777778,
             "#fb9f3a"
            ],
            [
             0.8888888888888888,
             "#fdca26"
            ],
            [
             1,
             "#f0f921"
            ]
           ]
          },
          "colorway": [
           "#636efa",
           "#EF553B",
           "#00cc96",
           "#ab63fa",
           "#FFA15A",
           "#19d3f3",
           "#FF6692",
           "#B6E880",
           "#FF97FF",
           "#FECB52"
          ],
          "font": {
           "color": "#2a3f5f"
          },
          "geo": {
           "bgcolor": "white",
           "lakecolor": "white",
           "landcolor": "#E5ECF6",
           "showlakes": true,
           "showland": true,
           "subunitcolor": "white"
          },
          "hoverlabel": {
           "align": "left"
          },
          "hovermode": "closest",
          "mapbox": {
           "style": "light"
          },
          "paper_bgcolor": "white",
          "plot_bgcolor": "#E5ECF6",
          "polar": {
           "angularaxis": {
            "gridcolor": "white",
            "linecolor": "white",
            "ticks": ""
           },
           "bgcolor": "#E5ECF6",
           "radialaxis": {
            "gridcolor": "white",
            "linecolor": "white",
            "ticks": ""
           }
          },
          "scene": {
           "xaxis": {
            "backgroundcolor": "#E5ECF6",
            "gridcolor": "white",
            "gridwidth": 2,
            "linecolor": "white",
            "showbackground": true,
            "ticks": "",
            "zerolinecolor": "white"
           },
           "yaxis": {
            "backgroundcolor": "#E5ECF6",
            "gridcolor": "white",
            "gridwidth": 2,
            "linecolor": "white",
            "showbackground": true,
            "ticks": "",
            "zerolinecolor": "white"
           },
           "zaxis": {
            "backgroundcolor": "#E5ECF6",
            "gridcolor": "white",
            "gridwidth": 2,
            "linecolor": "white",
            "showbackground": true,
            "ticks": "",
            "zerolinecolor": "white"
           }
          },
          "shapedefaults": {
           "line": {
            "color": "#2a3f5f"
           }
          },
          "ternary": {
           "aaxis": {
            "gridcolor": "white",
            "linecolor": "white",
            "ticks": ""
           },
           "baxis": {
            "gridcolor": "white",
            "linecolor": "white",
            "ticks": ""
           },
           "bgcolor": "#E5ECF6",
           "caxis": {
            "gridcolor": "white",
            "linecolor": "white",
            "ticks": ""
           }
          },
          "title": {
           "x": 0.05
          },
          "xaxis": {
           "automargin": true,
           "gridcolor": "white",
           "linecolor": "white",
           "ticks": "",
           "title": {
            "standoff": 15
           },
           "zerolinecolor": "white",
           "zerolinewidth": 2
          },
          "yaxis": {
           "automargin": true,
           "gridcolor": "white",
           "linecolor": "white",
           "ticks": "",
           "title": {
            "standoff": 15
           },
           "zerolinecolor": "white",
           "zerolinewidth": 2
          }
         }
        },
        "title": {
         "text": "Coordenadas de columna"
        },
        "xaxis": {
         "anchor": "y",
         "domain": [
          0,
          1
         ],
         "title": {
          "text": "x_columna"
         }
        },
        "yaxis": {
         "anchor": "x",
         "domain": [
          0,
          1
         ],
         "title": {
          "text": "y_columna"
         }
        }
       }
      }
     },
     "metadata": {},
     "output_type": "display_data"
    }
   ],
   "source": [
    "import plotly.express as px\n",
    "\n",
    "# Crear un DataFrame con las coordenadas de fila y columna\n",
    "coords_df = pd.DataFrame({\n",
    "    'fila': range(row_coords.shape[0]),\n",
    "    'columna': range(col_coords.shape[0]),\n",
    "    'x_fila': row_coords[:, 0],\n",
    "    'y_fila': row_coords[:, 1],\n",
    "    'x_columna': col_coords[:, 0],\n",
    "    'y_columna': col_coords[:, 1]\n",
    "})\n",
    "\n",
    "# Graficar las coordenadas de fila\n",
    "fig = px.scatter(coords_df, x='x_fila', y='y_fila', text='fila', title='Coordenadas de fila')\n",
    "fig.show()\n",
    "\n",
    "# Graficar las coordenadas de columna\n",
    "fig = px.scatter(coords_df, x='x_columna', y='y_columna', text='columna', title='Coordenadas de columna')\n",
    "fig.show()"
   ]
  }
 ],
 "metadata": {
  "kernelspec": {
   "display_name": ".venv",
   "language": "python",
   "name": "python3"
  },
  "language_info": {
   "codemirror_mode": {
    "name": "ipython",
    "version": 3
   },
   "file_extension": ".py",
   "mimetype": "text/x-python",
   "name": "python",
   "nbconvert_exporter": "python",
   "pygments_lexer": "ipython3",
   "version": "3.11.4"
  }
 },
 "nbformat": 4,
 "nbformat_minor": 2
}
